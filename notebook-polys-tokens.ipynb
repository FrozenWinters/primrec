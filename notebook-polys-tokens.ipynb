{
 "cells": [
  {
   "cell_type": "code",
   "execution_count": 1,
   "id": "1a1653a0-aa4a-4983-a23a-25e4180c46ba",
   "metadata": {
    "collapsed": true,
    "jupyter": {
     "outputs_hidden": true
    },
    "tags": []
   },
   "outputs": [
    {
     "data": {
      "application/vnd.jupyter.widget-view+json": {
       "model_id": "c13c0661859943b7a0b82c34ac7d39f5",
       "version_major": 2,
       "version_minor": 0
      },
      "text/plain": [
       "  0%|          | 0/1835007 [00:00<?, ?ex/s]"
      ]
     },
     "metadata": {},
     "output_type": "display_data"
    },
    {
     "ename": "KeyboardInterrupt",
     "evalue": "",
     "output_type": "error",
     "traceback": [
      "\u001b[0;31m---------------------------------------------------------------------------\u001b[0m",
      "\u001b[0;31mKeyboardInterrupt\u001b[0m                         Traceback (most recent call last)",
      "Cell \u001b[0;32mIn [1], line 8\u001b[0m\n\u001b[1;32m      5\u001b[0m     data \u001b[38;5;241m=\u001b[39m \u001b[38;5;28mlist\u001b[39m(x\u001b[38;5;241m.\u001b[39mreplace(\u001b[38;5;124m\"\u001b[39m\u001b[38;5;124m \u001b[39m\u001b[38;5;124m\"\u001b[39m, \u001b[38;5;124m\"\u001b[39m\u001b[38;5;124m\"\u001b[39m)\u001b[38;5;241m.\u001b[39mstrip() \u001b[38;5;28;01mfor\u001b[39;00m x \u001b[38;5;129;01min\u001b[39;00m f)\n\u001b[1;32m      7\u001b[0m ds \u001b[38;5;241m=\u001b[39m datasets\u001b[38;5;241m.\u001b[39mDataset\u001b[38;5;241m.\u001b[39mfrom_dict({\u001b[38;5;124m\"\u001b[39m\u001b[38;5;124minput\u001b[39m\u001b[38;5;124m\"\u001b[39m: data})\n\u001b[0;32m----> 8\u001b[0m ds \u001b[38;5;241m=\u001b[39m \u001b[43mds\u001b[49m\u001b[38;5;241;43m.\u001b[39;49m\u001b[43mmap\u001b[49m\u001b[43m(\u001b[49m\u001b[38;5;28;43;01mlambda\u001b[39;49;00m\u001b[43m \u001b[49m\u001b[43mx\u001b[49m\u001b[43m:\u001b[49m\u001b[43m \u001b[49m\u001b[43m{\u001b[49m\u001b[38;5;124;43m\"\u001b[39;49m\u001b[38;5;124;43minput_ids\u001b[39;49m\u001b[38;5;124;43m\"\u001b[39;49m\u001b[43m:\u001b[49m\u001b[43m \u001b[49m\u001b[43m[\u001b[49m\u001b[38;5;28;43mord\u001b[39;49m\u001b[43m(\u001b[49m\u001b[43mc\u001b[49m\u001b[43m)\u001b[49m\u001b[43m \u001b[49m\u001b[38;5;28;43;01mfor\u001b[39;49;00m\u001b[43m \u001b[49m\u001b[43mc\u001b[49m\u001b[43m \u001b[49m\u001b[38;5;129;43;01min\u001b[39;49;00m\u001b[43m \u001b[49m\u001b[43mx\u001b[49m\u001b[43m[\u001b[49m\u001b[38;5;124;43m\"\u001b[39;49m\u001b[38;5;124;43minput\u001b[39;49m\u001b[38;5;124;43m\"\u001b[39;49m\u001b[43m]\u001b[49m\u001b[43m]\u001b[49m\u001b[43m}\u001b[49m\u001b[43m,\u001b[49m\u001b[43m \u001b[49m\u001b[43mremove_columns\u001b[49m\u001b[38;5;241;43m=\u001b[39;49m\u001b[43mds\u001b[49m\u001b[38;5;241;43m.\u001b[39;49m\u001b[43mcolumn_names\u001b[49m\u001b[43m)\u001b[49m\n\u001b[1;32m      9\u001b[0m \u001b[38;5;66;03m# ds = ds.filter(lambda x: len(x[\"input_ids\"]) < 4000)\u001b[39;00m\n\u001b[1;32m     10\u001b[0m \u001b[38;5;66;03m# def pad(x):\u001b[39;00m\n\u001b[1;32m     11\u001b[0m \u001b[38;5;66;03m#     l = max(len(a) for a in x[\"input_ids\"])\u001b[39;00m\n\u001b[1;32m     12\u001b[0m \u001b[38;5;66;03m#     return {\"input_ids\": [a + ([0] * (l - len(a) + 1)) for a in x[\"input_ids\"]]}\u001b[39;00m\n\u001b[1;32m     13\u001b[0m \u001b[38;5;66;03m# ds = ds.map(pad, batched=True, batch_size=128)\u001b[39;00m\n\u001b[1;32m     14\u001b[0m ds \u001b[38;5;241m=\u001b[39m ds\u001b[38;5;241m.\u001b[39mtrain_test_split(test_size\u001b[38;5;241m=\u001b[39m\u001b[38;5;241m1000\u001b[39m, seed\u001b[38;5;241m=\u001b[39m\u001b[38;5;241m7\u001b[39m)\n",
      "File \u001b[0;32m/usr/local/lib/python3.9/dist-packages/datasets/arrow_dataset.py:2387\u001b[0m, in \u001b[0;36mDataset.map\u001b[0;34m(self, function, with_indices, with_rank, input_columns, batched, batch_size, drop_last_batch, remove_columns, keep_in_memory, load_from_cache_file, cache_file_name, writer_batch_size, features, disable_nullable, fn_kwargs, num_proc, suffix_template, new_fingerprint, desc)\u001b[0m\n\u001b[1;32m   2384\u001b[0m disable_tqdm \u001b[38;5;241m=\u001b[39m \u001b[38;5;129;01mnot\u001b[39;00m logging\u001b[38;5;241m.\u001b[39mis_progress_bar_enabled()\n\u001b[1;32m   2386\u001b[0m \u001b[38;5;28;01mif\u001b[39;00m num_proc \u001b[38;5;129;01mis\u001b[39;00m \u001b[38;5;28;01mNone\u001b[39;00m \u001b[38;5;129;01mor\u001b[39;00m num_proc \u001b[38;5;241m==\u001b[39m \u001b[38;5;241m1\u001b[39m:\n\u001b[0;32m-> 2387\u001b[0m     \u001b[38;5;28;01mreturn\u001b[39;00m \u001b[38;5;28;43mself\u001b[39;49m\u001b[38;5;241;43m.\u001b[39;49m\u001b[43m_map_single\u001b[49m\u001b[43m(\u001b[49m\n\u001b[1;32m   2388\u001b[0m \u001b[43m        \u001b[49m\u001b[43mfunction\u001b[49m\u001b[38;5;241;43m=\u001b[39;49m\u001b[43mfunction\u001b[49m\u001b[43m,\u001b[49m\n\u001b[1;32m   2389\u001b[0m \u001b[43m        \u001b[49m\u001b[43mwith_indices\u001b[49m\u001b[38;5;241;43m=\u001b[39;49m\u001b[43mwith_indices\u001b[49m\u001b[43m,\u001b[49m\n\u001b[1;32m   2390\u001b[0m \u001b[43m        \u001b[49m\u001b[43mwith_rank\u001b[49m\u001b[38;5;241;43m=\u001b[39;49m\u001b[43mwith_rank\u001b[49m\u001b[43m,\u001b[49m\n\u001b[1;32m   2391\u001b[0m \u001b[43m        \u001b[49m\u001b[43minput_columns\u001b[49m\u001b[38;5;241;43m=\u001b[39;49m\u001b[43minput_columns\u001b[49m\u001b[43m,\u001b[49m\n\u001b[1;32m   2392\u001b[0m \u001b[43m        \u001b[49m\u001b[43mbatched\u001b[49m\u001b[38;5;241;43m=\u001b[39;49m\u001b[43mbatched\u001b[49m\u001b[43m,\u001b[49m\n\u001b[1;32m   2393\u001b[0m \u001b[43m        \u001b[49m\u001b[43mbatch_size\u001b[49m\u001b[38;5;241;43m=\u001b[39;49m\u001b[43mbatch_size\u001b[49m\u001b[43m,\u001b[49m\n\u001b[1;32m   2394\u001b[0m \u001b[43m        \u001b[49m\u001b[43mdrop_last_batch\u001b[49m\u001b[38;5;241;43m=\u001b[39;49m\u001b[43mdrop_last_batch\u001b[49m\u001b[43m,\u001b[49m\n\u001b[1;32m   2395\u001b[0m \u001b[43m        \u001b[49m\u001b[43mremove_columns\u001b[49m\u001b[38;5;241;43m=\u001b[39;49m\u001b[43mremove_columns\u001b[49m\u001b[43m,\u001b[49m\n\u001b[1;32m   2396\u001b[0m \u001b[43m        \u001b[49m\u001b[43mkeep_in_memory\u001b[49m\u001b[38;5;241;43m=\u001b[39;49m\u001b[43mkeep_in_memory\u001b[49m\u001b[43m,\u001b[49m\n\u001b[1;32m   2397\u001b[0m \u001b[43m        \u001b[49m\u001b[43mload_from_cache_file\u001b[49m\u001b[38;5;241;43m=\u001b[39;49m\u001b[43mload_from_cache_file\u001b[49m\u001b[43m,\u001b[49m\n\u001b[1;32m   2398\u001b[0m \u001b[43m        \u001b[49m\u001b[43mcache_file_name\u001b[49m\u001b[38;5;241;43m=\u001b[39;49m\u001b[43mcache_file_name\u001b[49m\u001b[43m,\u001b[49m\n\u001b[1;32m   2399\u001b[0m \u001b[43m        \u001b[49m\u001b[43mwriter_batch_size\u001b[49m\u001b[38;5;241;43m=\u001b[39;49m\u001b[43mwriter_batch_size\u001b[49m\u001b[43m,\u001b[49m\n\u001b[1;32m   2400\u001b[0m \u001b[43m        \u001b[49m\u001b[43mfeatures\u001b[49m\u001b[38;5;241;43m=\u001b[39;49m\u001b[43mfeatures\u001b[49m\u001b[43m,\u001b[49m\n\u001b[1;32m   2401\u001b[0m \u001b[43m        \u001b[49m\u001b[43mdisable_nullable\u001b[49m\u001b[38;5;241;43m=\u001b[39;49m\u001b[43mdisable_nullable\u001b[49m\u001b[43m,\u001b[49m\n\u001b[1;32m   2402\u001b[0m \u001b[43m        \u001b[49m\u001b[43mfn_kwargs\u001b[49m\u001b[38;5;241;43m=\u001b[39;49m\u001b[43mfn_kwargs\u001b[49m\u001b[43m,\u001b[49m\n\u001b[1;32m   2403\u001b[0m \u001b[43m        \u001b[49m\u001b[43mnew_fingerprint\u001b[49m\u001b[38;5;241;43m=\u001b[39;49m\u001b[43mnew_fingerprint\u001b[49m\u001b[43m,\u001b[49m\n\u001b[1;32m   2404\u001b[0m \u001b[43m        \u001b[49m\u001b[43mdisable_tqdm\u001b[49m\u001b[38;5;241;43m=\u001b[39;49m\u001b[43mdisable_tqdm\u001b[49m\u001b[43m,\u001b[49m\n\u001b[1;32m   2405\u001b[0m \u001b[43m        \u001b[49m\u001b[43mdesc\u001b[49m\u001b[38;5;241;43m=\u001b[39;49m\u001b[43mdesc\u001b[49m\u001b[43m,\u001b[49m\n\u001b[1;32m   2406\u001b[0m \u001b[43m    \u001b[49m\u001b[43m)\u001b[49m\n\u001b[1;32m   2407\u001b[0m \u001b[38;5;28;01melse\u001b[39;00m:\n\u001b[1;32m   2409\u001b[0m     \u001b[38;5;28;01mdef\u001b[39;00m \u001b[38;5;21mformat_cache_file_name\u001b[39m(cache_file_name, rank):\n",
      "File \u001b[0;32m/usr/local/lib/python3.9/dist-packages/datasets/arrow_dataset.py:557\u001b[0m, in \u001b[0;36mtransmit_tasks.<locals>.wrapper\u001b[0;34m(*args, **kwargs)\u001b[0m\n\u001b[1;32m    555\u001b[0m     \u001b[38;5;28mself\u001b[39m: \u001b[38;5;124m\"\u001b[39m\u001b[38;5;124mDataset\u001b[39m\u001b[38;5;124m\"\u001b[39m \u001b[38;5;241m=\u001b[39m kwargs\u001b[38;5;241m.\u001b[39mpop(\u001b[38;5;124m\"\u001b[39m\u001b[38;5;124mself\u001b[39m\u001b[38;5;124m\"\u001b[39m)\n\u001b[1;32m    556\u001b[0m \u001b[38;5;66;03m# apply actual function\u001b[39;00m\n\u001b[0;32m--> 557\u001b[0m out: Union[\u001b[38;5;124m\"\u001b[39m\u001b[38;5;124mDataset\u001b[39m\u001b[38;5;124m\"\u001b[39m, \u001b[38;5;124m\"\u001b[39m\u001b[38;5;124mDatasetDict\u001b[39m\u001b[38;5;124m\"\u001b[39m] \u001b[38;5;241m=\u001b[39m \u001b[43mfunc\u001b[49m\u001b[43m(\u001b[49m\u001b[38;5;28;43mself\u001b[39;49m\u001b[43m,\u001b[49m\u001b[43m \u001b[49m\u001b[38;5;241;43m*\u001b[39;49m\u001b[43margs\u001b[49m\u001b[43m,\u001b[49m\u001b[43m \u001b[49m\u001b[38;5;241;43m*\u001b[39;49m\u001b[38;5;241;43m*\u001b[39;49m\u001b[43mkwargs\u001b[49m\u001b[43m)\u001b[49m\n\u001b[1;32m    558\u001b[0m datasets: List[\u001b[38;5;124m\"\u001b[39m\u001b[38;5;124mDataset\u001b[39m\u001b[38;5;124m\"\u001b[39m] \u001b[38;5;241m=\u001b[39m \u001b[38;5;28mlist\u001b[39m(out\u001b[38;5;241m.\u001b[39mvalues()) \u001b[38;5;28;01mif\u001b[39;00m \u001b[38;5;28misinstance\u001b[39m(out, \u001b[38;5;28mdict\u001b[39m) \u001b[38;5;28;01melse\u001b[39;00m [out]\n\u001b[1;32m    559\u001b[0m \u001b[38;5;28;01mfor\u001b[39;00m dataset \u001b[38;5;129;01min\u001b[39;00m datasets:\n\u001b[1;32m    560\u001b[0m     \u001b[38;5;66;03m# Remove task templates if a column mapping of the template is no longer valid\u001b[39;00m\n",
      "File \u001b[0;32m/usr/local/lib/python3.9/dist-packages/datasets/arrow_dataset.py:524\u001b[0m, in \u001b[0;36mtransmit_format.<locals>.wrapper\u001b[0;34m(*args, **kwargs)\u001b[0m\n\u001b[1;32m    517\u001b[0m self_format \u001b[38;5;241m=\u001b[39m {\n\u001b[1;32m    518\u001b[0m     \u001b[38;5;124m\"\u001b[39m\u001b[38;5;124mtype\u001b[39m\u001b[38;5;124m\"\u001b[39m: \u001b[38;5;28mself\u001b[39m\u001b[38;5;241m.\u001b[39m_format_type,\n\u001b[1;32m    519\u001b[0m     \u001b[38;5;124m\"\u001b[39m\u001b[38;5;124mformat_kwargs\u001b[39m\u001b[38;5;124m\"\u001b[39m: \u001b[38;5;28mself\u001b[39m\u001b[38;5;241m.\u001b[39m_format_kwargs,\n\u001b[1;32m    520\u001b[0m     \u001b[38;5;124m\"\u001b[39m\u001b[38;5;124mcolumns\u001b[39m\u001b[38;5;124m\"\u001b[39m: \u001b[38;5;28mself\u001b[39m\u001b[38;5;241m.\u001b[39m_format_columns,\n\u001b[1;32m    521\u001b[0m     \u001b[38;5;124m\"\u001b[39m\u001b[38;5;124moutput_all_columns\u001b[39m\u001b[38;5;124m\"\u001b[39m: \u001b[38;5;28mself\u001b[39m\u001b[38;5;241m.\u001b[39m_output_all_columns,\n\u001b[1;32m    522\u001b[0m }\n\u001b[1;32m    523\u001b[0m \u001b[38;5;66;03m# apply actual function\u001b[39;00m\n\u001b[0;32m--> 524\u001b[0m out: Union[\u001b[38;5;124m\"\u001b[39m\u001b[38;5;124mDataset\u001b[39m\u001b[38;5;124m\"\u001b[39m, \u001b[38;5;124m\"\u001b[39m\u001b[38;5;124mDatasetDict\u001b[39m\u001b[38;5;124m\"\u001b[39m] \u001b[38;5;241m=\u001b[39m \u001b[43mfunc\u001b[49m\u001b[43m(\u001b[49m\u001b[38;5;28;43mself\u001b[39;49m\u001b[43m,\u001b[49m\u001b[43m \u001b[49m\u001b[38;5;241;43m*\u001b[39;49m\u001b[43margs\u001b[49m\u001b[43m,\u001b[49m\u001b[43m \u001b[49m\u001b[38;5;241;43m*\u001b[39;49m\u001b[38;5;241;43m*\u001b[39;49m\u001b[43mkwargs\u001b[49m\u001b[43m)\u001b[49m\n\u001b[1;32m    525\u001b[0m datasets: List[\u001b[38;5;124m\"\u001b[39m\u001b[38;5;124mDataset\u001b[39m\u001b[38;5;124m\"\u001b[39m] \u001b[38;5;241m=\u001b[39m \u001b[38;5;28mlist\u001b[39m(out\u001b[38;5;241m.\u001b[39mvalues()) \u001b[38;5;28;01mif\u001b[39;00m \u001b[38;5;28misinstance\u001b[39m(out, \u001b[38;5;28mdict\u001b[39m) \u001b[38;5;28;01melse\u001b[39;00m [out]\n\u001b[1;32m    526\u001b[0m \u001b[38;5;66;03m# re-apply format to the output\u001b[39;00m\n",
      "File \u001b[0;32m/usr/local/lib/python3.9/dist-packages/datasets/fingerprint.py:480\u001b[0m, in \u001b[0;36mfingerprint_transform.<locals>._fingerprint.<locals>.wrapper\u001b[0;34m(*args, **kwargs)\u001b[0m\n\u001b[1;32m    476\u001b[0m             validate_fingerprint(kwargs[fingerprint_name])\n\u001b[1;32m    478\u001b[0m \u001b[38;5;66;03m# Call actual function\u001b[39;00m\n\u001b[0;32m--> 480\u001b[0m out \u001b[38;5;241m=\u001b[39m \u001b[43mfunc\u001b[49m\u001b[43m(\u001b[49m\u001b[38;5;28;43mself\u001b[39;49m\u001b[43m,\u001b[49m\u001b[43m \u001b[49m\u001b[38;5;241;43m*\u001b[39;49m\u001b[43margs\u001b[49m\u001b[43m,\u001b[49m\u001b[43m \u001b[49m\u001b[38;5;241;43m*\u001b[39;49m\u001b[38;5;241;43m*\u001b[39;49m\u001b[43mkwargs\u001b[49m\u001b[43m)\u001b[49m\n\u001b[1;32m    482\u001b[0m \u001b[38;5;66;03m# Update fingerprint of in-place transforms + update in-place history of transforms\u001b[39;00m\n\u001b[1;32m    484\u001b[0m \u001b[38;5;28;01mif\u001b[39;00m inplace:  \u001b[38;5;66;03m# update after calling func so that the fingerprint doesn't change if the function fails\u001b[39;00m\n",
      "File \u001b[0;32m/usr/local/lib/python3.9/dist-packages/datasets/arrow_dataset.py:2756\u001b[0m, in \u001b[0;36mDataset._map_single\u001b[0;34m(self, function, with_indices, with_rank, input_columns, batched, batch_size, drop_last_batch, remove_columns, keep_in_memory, load_from_cache_file, cache_file_name, writer_batch_size, features, disable_nullable, fn_kwargs, new_fingerprint, rank, offset, disable_tqdm, desc, cache_only)\u001b[0m\n\u001b[1;32m   2754\u001b[0m \u001b[38;5;28;01mif\u001b[39;00m \u001b[38;5;129;01mnot\u001b[39;00m batched:\n\u001b[1;32m   2755\u001b[0m     \u001b[38;5;28;01mfor\u001b[39;00m i, example \u001b[38;5;129;01min\u001b[39;00m \u001b[38;5;28menumerate\u001b[39m(pbar):\n\u001b[0;32m-> 2756\u001b[0m         example \u001b[38;5;241m=\u001b[39m \u001b[43mapply_function_on_filtered_inputs\u001b[49m\u001b[43m(\u001b[49m\u001b[43mexample\u001b[49m\u001b[43m,\u001b[49m\u001b[43m \u001b[49m\u001b[43mi\u001b[49m\u001b[43m,\u001b[49m\u001b[43m \u001b[49m\u001b[43moffset\u001b[49m\u001b[38;5;241;43m=\u001b[39;49m\u001b[43moffset\u001b[49m\u001b[43m)\u001b[49m\n\u001b[1;32m   2757\u001b[0m         \u001b[38;5;28;01mif\u001b[39;00m update_data:\n\u001b[1;32m   2758\u001b[0m             \u001b[38;5;28;01mif\u001b[39;00m i \u001b[38;5;241m==\u001b[39m \u001b[38;5;241m0\u001b[39m:\n",
      "File \u001b[0;32m/usr/local/lib/python3.9/dist-packages/datasets/arrow_dataset.py:2655\u001b[0m, in \u001b[0;36mDataset._map_single.<locals>.apply_function_on_filtered_inputs\u001b[0;34m(inputs, indices, check_same_num_examples, offset)\u001b[0m\n\u001b[1;32m   2653\u001b[0m \u001b[38;5;28;01mif\u001b[39;00m with_rank:\n\u001b[1;32m   2654\u001b[0m     additional_args \u001b[38;5;241m+\u001b[39m\u001b[38;5;241m=\u001b[39m (rank,)\n\u001b[0;32m-> 2655\u001b[0m processed_inputs \u001b[38;5;241m=\u001b[39m \u001b[43mfunction\u001b[49m\u001b[43m(\u001b[49m\u001b[38;5;241;43m*\u001b[39;49m\u001b[43mfn_args\u001b[49m\u001b[43m,\u001b[49m\u001b[43m \u001b[49m\u001b[38;5;241;43m*\u001b[39;49m\u001b[43madditional_args\u001b[49m\u001b[43m,\u001b[49m\u001b[43m \u001b[49m\u001b[38;5;241;43m*\u001b[39;49m\u001b[38;5;241;43m*\u001b[39;49m\u001b[43mfn_kwargs\u001b[49m\u001b[43m)\u001b[49m\n\u001b[1;32m   2656\u001b[0m \u001b[38;5;28;01mif\u001b[39;00m update_data \u001b[38;5;129;01mis\u001b[39;00m \u001b[38;5;28;01mNone\u001b[39;00m:\n\u001b[1;32m   2657\u001b[0m     \u001b[38;5;66;03m# Check if the function returns updated examples\u001b[39;00m\n\u001b[1;32m   2658\u001b[0m     update_data \u001b[38;5;241m=\u001b[39m \u001b[38;5;28misinstance\u001b[39m(processed_inputs, (Mapping, pa\u001b[38;5;241m.\u001b[39mTable))\n",
      "File \u001b[0;32m/usr/local/lib/python3.9/dist-packages/datasets/arrow_dataset.py:2344\u001b[0m, in \u001b[0;36mDataset.map.<locals>.decorate.<locals>.decorated\u001b[0;34m(item, *args, **kwargs)\u001b[0m\n\u001b[1;32m   2340\u001b[0m \u001b[38;5;129m@wraps\u001b[39m(f)\n\u001b[1;32m   2341\u001b[0m \u001b[38;5;28;01mdef\u001b[39;00m \u001b[38;5;21mdecorated\u001b[39m(item, \u001b[38;5;241m*\u001b[39margs, \u001b[38;5;241m*\u001b[39m\u001b[38;5;241m*\u001b[39mkwargs):\n\u001b[1;32m   2342\u001b[0m     \u001b[38;5;66;03m# Decorate first arg with LazyDict (either Example or Batch)\u001b[39;00m\n\u001b[1;32m   2343\u001b[0m     decorated_item \u001b[38;5;241m=\u001b[39m (\n\u001b[0;32m-> 2344\u001b[0m         \u001b[43mExample\u001b[49m\u001b[43m(\u001b[49m\u001b[43mitem\u001b[49m\u001b[43m,\u001b[49m\u001b[43m \u001b[49m\u001b[43mfeatures\u001b[49m\u001b[38;5;241;43m=\u001b[39;49m\u001b[38;5;28;43mself\u001b[39;49m\u001b[38;5;241;43m.\u001b[39;49m\u001b[43mfeatures\u001b[49m\u001b[43m)\u001b[49m \u001b[38;5;28;01mif\u001b[39;00m \u001b[38;5;129;01mnot\u001b[39;00m batched \u001b[38;5;28;01melse\u001b[39;00m Batch(item, features\u001b[38;5;241m=\u001b[39m\u001b[38;5;28mself\u001b[39m\u001b[38;5;241m.\u001b[39mfeatures)\n\u001b[1;32m   2345\u001b[0m     )\n\u001b[1;32m   2346\u001b[0m     \u001b[38;5;66;03m# Use the LazyDict internally, while mapping the function\u001b[39;00m\n\u001b[1;32m   2347\u001b[0m     result \u001b[38;5;241m=\u001b[39m f(decorated_item, \u001b[38;5;241m*\u001b[39margs, \u001b[38;5;241m*\u001b[39m\u001b[38;5;241m*\u001b[39mkwargs)\n",
      "File \u001b[0;32m/usr/local/lib/python3.9/dist-packages/datasets/arrow_dataset.py:113\u001b[0m, in \u001b[0;36mLazyDict.__init__\u001b[0;34m(self, data, features)\u001b[0m\n\u001b[1;32m    110\u001b[0m \u001b[38;5;28;01mdef\u001b[39;00m \u001b[38;5;21m__init__\u001b[39m(\u001b[38;5;28mself\u001b[39m, data, features\u001b[38;5;241m=\u001b[39m\u001b[38;5;28;01mNone\u001b[39;00m):\n\u001b[1;32m    111\u001b[0m     \u001b[38;5;28mself\u001b[39m\u001b[38;5;241m.\u001b[39mdata \u001b[38;5;241m=\u001b[39m data\n\u001b[1;32m    112\u001b[0m     \u001b[38;5;28mself\u001b[39m\u001b[38;5;241m.\u001b[39mfeatures \u001b[38;5;241m=\u001b[39m (\n\u001b[0;32m--> 113\u001b[0m         {key: feature \u001b[38;5;28;01mfor\u001b[39;00m key, feature \u001b[38;5;129;01min\u001b[39;00m features\u001b[38;5;241m.\u001b[39mitems() \u001b[38;5;28;01mif\u001b[39;00m features\u001b[38;5;241m.\u001b[39m_column_requires_decoding[key]}\n\u001b[1;32m    114\u001b[0m         \u001b[38;5;28;01mif\u001b[39;00m features\n\u001b[1;32m    115\u001b[0m         \u001b[38;5;28;01melse\u001b[39;00m {}\n\u001b[1;32m    116\u001b[0m     )\n",
      "\u001b[0;31mKeyboardInterrupt\u001b[0m: "
     ]
    }
   ],
   "source": [
    "import datasets\n",
    "\n",
    "with open(\"polys.csv\") as f:\n",
    "    next(f)\n",
    "    data = list(x.replace(\" \", \"\").strip() for x in f)\n",
    "\n",
    "ds = datasets.Dataset.from_dict({\"input\": data})\n",
    "ds = ds.map(lambda x: {\"input_ids\": [ord(c) for c in x[\"input\"]]}, remove_columns=ds.column_names)\n",
    "# ds = ds.filter(lambda x: len(x[\"input_ids\"]) < 4000)\n",
    "# def pad(x):\n",
    "#     l = max(len(a) for a in x[\"input_ids\"])\n",
    "#     return {\"input_ids\": [a + ([0] * (l - len(a) + 1)) for a in x[\"input_ids\"]]}\n",
    "# ds = ds.map(pad, batched=True, batch_size=128)\n",
    "ds = ds.train_test_split(test_size=1000, seed=7)\n",
    "ds.save_to_disk(\"./polys\")"
   ]
  },
  {
   "cell_type": "code",
   "execution_count": null,
   "id": "0a2be41f-e929-4213-bf54-0653077b003e",
   "metadata": {},
   "outputs": [],
   "source": [
    "!pip install -U transformers accelerate"
   ]
  },
  {
   "cell_type": "code",
   "execution_count": null,
   "id": "edb481df-8d91-4f5e-90d4-ead3ef27f555",
   "metadata": {},
   "outputs": [],
   "source": [
    "import datasets"
   ]
  },
  {
   "cell_type": "code",
   "execution_count": null,
   "id": "86abf674-f920-4710-b3f0-9f64e57333a6",
   "metadata": {
    "tags": []
   },
   "outputs": [],
   "source": [
    "ds = datasets.load_from_disk(\"./polys\")\n",
    "ds = ds.map(lambda x: {\"prefix_len\": len(x[\"input_ids\"]) - 1 - x[\"input_ids\"][::-1].index(ord(','))})"
   ]
  },
  {
   "cell_type": "code",
   "execution_count": 36,
   "id": "8e63548b-c0c0-4e14-b0dd-fa3778a777c2",
   "metadata": {
    "tags": []
   },
   "outputs": [
    {
     "name": "stdout",
     "output_type": "stream",
     "text": [
      "1,1,1,1,1,1,1,1,1,1,1,1,1,1,1,1,1,1,1,1,\u0000\u0000\u0000\u0000\u0000\u0000\u0000\u0000\u0000\u0000\u0000\u0000\u0000\u0000\u0000\u0000\u0000\u0000\u0000\u0000\u0000\u0000\u0000\u0000\u0000\u0000\u0000\u0000\u0000\u0000\u0000\u0000\u0000\u0000\u0000\u0000\u0000\u0000\u0000\u0000\u0000\u0000\u0000\u0000\u0000\u0000\u0000\u0000\u0000\u0000\n",
      "9,9,9,9,9,9,9,9,9,9,9,9,9,9,9,9,9,9,9,9,RRZR0S0SZ0S0SSSSZX\u0000\u0000\u0000\u0000\u0000\u0000\u0000\u0000\u0000\u0000\u0000\u0000\u0000\u0000\u0000\u0000\u0000\u0000\u0000\u0000\u0000\u0000\u0000\u0000\u0000\u0000\u0000\u0000\u0000\u0000\u0000\u0000\n",
      "4,5,6,7,8,9,10,11,12,13,14,15,16,17,18,19,20,21,22,23,RRZR0S0SZ0S0SSSSZX\u0000\u0000\u0000\u0000\u0000\u0000\u0000\u0000\u0000\u0000\u0000\u0000\u0000\u0000\u0000\u0000\u0000\u0000\u0000\u0000\u0000\u0000\u0000\u0000\u0000\u0000\u0000\u0000\u0000\u0000\u0000\u0000\n",
      "1,8,255,3280,21845,97656,335923,960800,2396745,5380840,11111111,21435888,39089245,67977560,113522235,183063616,286331153,435984840,648232975,943531280,RRZR0S0RRZR0S0RRZR0S0RRZR0S0RRZR0S0RRZR0S0SSSSSSZ1\n"
     ]
    }
   ],
   "source": [
    "# inp = ds[\"test\"][11][\"input_ids\"][:50]\n",
    "def test(s):\n",
    "    model.eval()\n",
    "    def de(x): return \"\".join([chr(y) for y in x])\n",
    "    inp = [ord(x) for x in s]\n",
    "    out = model.model.generate(torch.tensor([inp]).cuda(), max_new_tokens=50, num_beams=20, pad_token_id=0, do_sample=False)\n",
    "    # print(de(inp))\n",
    "    print(de(out[0]))\n",
    "    model.train()\n",
    "test(\"1,1,1,1,1,1,1,1,1,1,1,1,1,1,1,1,1,1,1,1,\")\n",
    "test(\"9,9,9,9,9,9,9,9,9,9,9,9,9,9,9,9,9,9,9,9,\")\n",
    "test(\"4,5,6,7,8,9,10,11,12,13,14,15,16,17,18,19,20,21,22,23,\")\n",
    "test(\"1,8,255,3280,21845,97656,335923,960800,2396745,5380840,11111111,21435888,39089245,67977560,113522235,183063616,286331153,435984840,648232975,943531280,\")"
   ]
  },
  {
   "cell_type": "code",
   "execution_count": null,
   "id": "3cf80e94-96ec-4101-a728-ab851327c1fe",
   "metadata": {},
   "outputs": [],
   "source": [
    "ds"
   ]
  },
  {
   "cell_type": "code",
   "execution_count": null,
   "id": "2f0a22e3-6b36-4adb-8f77-a8c8ce7ee28f",
   "metadata": {
    "tags": []
   },
   "outputs": [],
   "source": [
    "import transformers, dataclasses, torch\n",
    "\n",
    "\n",
    "config = transformers.GPTJConfig(\n",
    "    vocab_size=256,\n",
    "    n_embd=256,\n",
    "    rotary_dim=16,\n",
    "    n_layer=12,\n",
    "    n_head=4,\n",
    "    n_positions=4096,\n",
    "    resid_pdrop=0.1,\n",
    "    embd_pdrop=0.1,\n",
    "    attn_pdrop=0.1\n",
    ")\n",
    "# model = transformers.GPTJForCausalLM(config).cuda()\n",
    "# model = transformers.GPTJForCausalLM.from_pretrained(\"./polys-model-2/checkpoint-20000/\").cuda()\n",
    "\n",
    "class Model(torch.nn.Module):\n",
    "    def __init__(self):\n",
    "        super().__init__()\n",
    "        self.model = transformers.GPTJForCausalLM(config).cuda()\n",
    "        # self.model = transformers.GPTJForCausalLM.from_pretrained(\"./polys-model-4-dropout-2/checkpoint-50000/\").cuda()\n",
    "    def forward(self, labels, prefix_len, input_ids):\n",
    "        out = self.model(input_ids.cuda())\n",
    "        lm_logits = out.logits\n",
    "        # # move labels to correct device to enable model parallelism\n",
    "        labels = labels.to(lm_logits.device)\n",
    "        # Shift so that tokens < n predict n\n",
    "        shift_logits = lm_logits[..., :-1, :].contiguous()\n",
    "        shift_labels = labels[..., 1:].contiguous()\n",
    "        # Flatten the tokens\n",
    "        loss_fct = torch.nn.CrossEntropyLoss(reduction='none')\n",
    "        loss = loss_fct(shift_logits.permute(0, 2, 1), shift_labels)\n",
    "        seq_dim = loss.shape[1]\n",
    "        r = torch.arange(seq_dim).expand(8, -1).cuda()\n",
    "        loss_mask = (r < (prefix_len + 1).unsqueeze(1).expand(-1, seq_dim))\n",
    "        loss[loss_mask] = 0\n",
    "        return dataclasses.replace(out, loss=loss.mean())\n",
    "\n",
    "model = Model()\n",
    "model.load_state_dict(torch.load(\"./polys-model-4-dropout-2-cont/checkpoint-100000/pytorch_model.bin\"))"
   ]
  },
  {
   "cell_type": "code",
   "execution_count": 6,
   "id": "9c4fe9a8-9706-4f38-af8b-50c567cb7532",
   "metadata": {},
   "outputs": [
    {
     "data": {
      "text/plain": [
       "9590528"
      ]
     },
     "execution_count": 6,
     "metadata": {},
     "output_type": "execute_result"
    }
   ],
   "source": [
    "sum(dict((p.data_ptr(), p.numel()) for p in model.parameters()).values()) # model num parameters"
   ]
  },
  {
   "cell_type": "code",
   "execution_count": null,
   "id": "c7b97c98-f6a4-4fe9-a676-d1cd7ee0078c",
   "metadata": {
    "tags": []
   },
   "outputs": [
    {
     "name": "stderr",
     "output_type": "stream",
     "text": [
      "Using cuda_amp half precision backend\n",
      "/usr/local/lib/python3.9/dist-packages/transformers/optimization.py:306: FutureWarning: This implementation of AdamW is deprecated and will be removed in a future version. Use the PyTorch implementation torch.optim.AdamW instead, or set `no_deprecation_warning=True` to disable this warning\n",
      "  warnings.warn(\n",
      "***** Running training *****\n",
      "  Num examples = 1834007\n",
      "  Num Epochs = 1\n",
      "  Instantaneous batch size per device = 8\n",
      "  Total train batch size (w. parallel, distributed & accumulation) = 8\n",
      "  Gradient Accumulation steps = 1\n",
      "  Total optimization steps = 229251\n",
      "Automatic Weights & Biases logging enabled, to disable set os.environ[\"WANDB_DISABLED\"] = \"true\"\n",
      "\u001b[34m\u001b[1mwandb\u001b[0m: Currently logged in as: \u001b[33macertain\u001b[0m. Use \u001b[1m`wandb login --relogin`\u001b[0m to force relogin\n"
     ]
    },
    {
     "data": {
      "text/html": [
       "wandb version 0.15.3 is available!  To upgrade, please run:\n",
       " $ pip install wandb --upgrade"
      ],
      "text/plain": [
       "<IPython.core.display.HTML object>"
      ]
     },
     "metadata": {},
     "output_type": "display_data"
    },
    {
     "data": {
      "text/html": [
       "Tracking run with wandb version 0.13.4"
      ],
      "text/plain": [
       "<IPython.core.display.HTML object>"
      ]
     },
     "metadata": {},
     "output_type": "display_data"
    },
    {
     "data": {
      "text/html": [
       "Run data is saved locally in <code>/notebooks/wandb/run-20230529_230128-3w2lr04s</code>"
      ],
      "text/plain": [
       "<IPython.core.display.HTML object>"
      ]
     },
     "metadata": {},
     "output_type": "display_data"
    },
    {
     "data": {
      "text/html": [
       "Syncing run <strong><a href=\"https://wandb.ai/acertain/huggingface/runs/3w2lr04s\" target=\"_blank\">./polys-model-4-dropout-2-cont</a></strong> to <a href=\"https://wandb.ai/acertain/huggingface\" target=\"_blank\">Weights & Biases</a> (<a href=\"https://wandb.me/run\" target=\"_blank\">docs</a>)<br/>"
      ],
      "text/plain": [
       "<IPython.core.display.HTML object>"
      ]
     },
     "metadata": {},
     "output_type": "display_data"
    },
    {
     "data": {
      "text/html": [
       "\n",
       "    <div>\n",
       "      \n",
       "      <progress value='67501' max='229251' style='width:300px; height:20px; vertical-align: middle;'></progress>\n",
       "      [ 67500/229251 1:16:13 < 3:02:39, 14.76 it/s, Epoch 0.29/1]\n",
       "    </div>\n",
       "    <table border=\"1\" class=\"dataframe\">\n",
       "  <thead>\n",
       " <tr style=\"text-align: left;\">\n",
       "      <th>Step</th>\n",
       "      <th>Training Loss</th>\n",
       "      <th>Validation Loss</th>\n",
       "    </tr>\n",
       "  </thead>\n",
       "  <tbody>\n",
       "    <tr>\n",
       "      <td>500</td>\n",
       "      <td>0.018100</td>\n",
       "      <td>0.016155</td>\n",
       "    </tr>\n",
       "    <tr>\n",
       "      <td>1000</td>\n",
       "      <td>0.017900</td>\n",
       "      <td>0.016253</td>\n",
       "    </tr>\n",
       "    <tr>\n",
       "      <td>1500</td>\n",
       "      <td>0.017400</td>\n",
       "      <td>0.015194</td>\n",
       "    </tr>\n",
       "    <tr>\n",
       "      <td>2000</td>\n",
       "      <td>0.017100</td>\n",
       "      <td>0.015925</td>\n",
       "    </tr>\n",
       "    <tr>\n",
       "      <td>2500</td>\n",
       "      <td>0.016700</td>\n",
       "      <td>0.017286</td>\n",
       "    </tr>\n",
       "    <tr>\n",
       "      <td>3000</td>\n",
       "      <td>0.016000</td>\n",
       "      <td>0.018549</td>\n",
       "    </tr>\n",
       "    <tr>\n",
       "      <td>3500</td>\n",
       "      <td>0.015200</td>\n",
       "      <td>0.012048</td>\n",
       "    </tr>\n",
       "    <tr>\n",
       "      <td>4000</td>\n",
       "      <td>0.013500</td>\n",
       "      <td>0.007532</td>\n",
       "    </tr>\n",
       "    <tr>\n",
       "      <td>4500</td>\n",
       "      <td>0.010900</td>\n",
       "      <td>0.006157</td>\n",
       "    </tr>\n",
       "    <tr>\n",
       "      <td>5000</td>\n",
       "      <td>0.008900</td>\n",
       "      <td>0.006623</td>\n",
       "    </tr>\n",
       "    <tr>\n",
       "      <td>5500</td>\n",
       "      <td>0.007200</td>\n",
       "      <td>0.003311</td>\n",
       "    </tr>\n",
       "    <tr>\n",
       "      <td>6000</td>\n",
       "      <td>0.005500</td>\n",
       "      <td>0.001920</td>\n",
       "    </tr>\n",
       "    <tr>\n",
       "      <td>6500</td>\n",
       "      <td>0.005100</td>\n",
       "      <td>0.003600</td>\n",
       "    </tr>\n",
       "    <tr>\n",
       "      <td>7000</td>\n",
       "      <td>0.003700</td>\n",
       "      <td>0.000854</td>\n",
       "    </tr>\n",
       "    <tr>\n",
       "      <td>7500</td>\n",
       "      <td>0.003400</td>\n",
       "      <td>0.000635</td>\n",
       "    </tr>\n",
       "    <tr>\n",
       "      <td>8000</td>\n",
       "      <td>0.003000</td>\n",
       "      <td>0.001538</td>\n",
       "    </tr>\n",
       "    <tr>\n",
       "      <td>8500</td>\n",
       "      <td>0.002500</td>\n",
       "      <td>0.000640</td>\n",
       "    </tr>\n",
       "    <tr>\n",
       "      <td>9000</td>\n",
       "      <td>0.002200</td>\n",
       "      <td>0.000507</td>\n",
       "    </tr>\n",
       "    <tr>\n",
       "      <td>9500</td>\n",
       "      <td>0.002000</td>\n",
       "      <td>0.001057</td>\n",
       "    </tr>\n",
       "    <tr>\n",
       "      <td>10000</td>\n",
       "      <td>0.001700</td>\n",
       "      <td>0.000312</td>\n",
       "    </tr>\n",
       "    <tr>\n",
       "      <td>10500</td>\n",
       "      <td>0.001800</td>\n",
       "      <td>0.001222</td>\n",
       "    </tr>\n",
       "    <tr>\n",
       "      <td>11000</td>\n",
       "      <td>0.001400</td>\n",
       "      <td>0.003597</td>\n",
       "    </tr>\n",
       "    <tr>\n",
       "      <td>11500</td>\n",
       "      <td>0.001300</td>\n",
       "      <td>0.000794</td>\n",
       "    </tr>\n",
       "    <tr>\n",
       "      <td>12000</td>\n",
       "      <td>0.001000</td>\n",
       "      <td>0.000690</td>\n",
       "    </tr>\n",
       "    <tr>\n",
       "      <td>12500</td>\n",
       "      <td>0.001200</td>\n",
       "      <td>0.000186</td>\n",
       "    </tr>\n",
       "    <tr>\n",
       "      <td>13000</td>\n",
       "      <td>0.001000</td>\n",
       "      <td>0.001174</td>\n",
       "    </tr>\n",
       "    <tr>\n",
       "      <td>13500</td>\n",
       "      <td>0.000900</td>\n",
       "      <td>0.001049</td>\n",
       "    </tr>\n",
       "    <tr>\n",
       "      <td>14000</td>\n",
       "      <td>0.000900</td>\n",
       "      <td>0.000175</td>\n",
       "    </tr>\n",
       "    <tr>\n",
       "      <td>14500</td>\n",
       "      <td>0.000900</td>\n",
       "      <td>0.001296</td>\n",
       "    </tr>\n",
       "    <tr>\n",
       "      <td>15000</td>\n",
       "      <td>0.001100</td>\n",
       "      <td>0.000121</td>\n",
       "    </tr>\n",
       "    <tr>\n",
       "      <td>15500</td>\n",
       "      <td>0.000600</td>\n",
       "      <td>0.000146</td>\n",
       "    </tr>\n",
       "    <tr>\n",
       "      <td>16000</td>\n",
       "      <td>0.000700</td>\n",
       "      <td>0.000118</td>\n",
       "    </tr>\n",
       "    <tr>\n",
       "      <td>16500</td>\n",
       "      <td>0.000800</td>\n",
       "      <td>0.000106</td>\n",
       "    </tr>\n",
       "    <tr>\n",
       "      <td>17000</td>\n",
       "      <td>0.000900</td>\n",
       "      <td>0.000110</td>\n",
       "    </tr>\n",
       "    <tr>\n",
       "      <td>17500</td>\n",
       "      <td>0.000700</td>\n",
       "      <td>0.000238</td>\n",
       "    </tr>\n",
       "    <tr>\n",
       "      <td>18000</td>\n",
       "      <td>0.000600</td>\n",
       "      <td>0.000111</td>\n",
       "    </tr>\n",
       "    <tr>\n",
       "      <td>18500</td>\n",
       "      <td>0.000600</td>\n",
       "      <td>0.000088</td>\n",
       "    </tr>\n",
       "    <tr>\n",
       "      <td>19000</td>\n",
       "      <td>0.000500</td>\n",
       "      <td>0.000285</td>\n",
       "    </tr>\n",
       "    <tr>\n",
       "      <td>19500</td>\n",
       "      <td>0.000600</td>\n",
       "      <td>0.000076</td>\n",
       "    </tr>\n",
       "    <tr>\n",
       "      <td>20000</td>\n",
       "      <td>0.000500</td>\n",
       "      <td>0.000443</td>\n",
       "    </tr>\n",
       "    <tr>\n",
       "      <td>20500</td>\n",
       "      <td>0.000600</td>\n",
       "      <td>0.000121</td>\n",
       "    </tr>\n",
       "    <tr>\n",
       "      <td>21000</td>\n",
       "      <td>0.000500</td>\n",
       "      <td>0.000994</td>\n",
       "    </tr>\n",
       "    <tr>\n",
       "      <td>21500</td>\n",
       "      <td>0.000600</td>\n",
       "      <td>0.000224</td>\n",
       "    </tr>\n",
       "    <tr>\n",
       "      <td>22000</td>\n",
       "      <td>0.000400</td>\n",
       "      <td>0.000095</td>\n",
       "    </tr>\n",
       "    <tr>\n",
       "      <td>22500</td>\n",
       "      <td>0.000500</td>\n",
       "      <td>0.002105</td>\n",
       "    </tr>\n",
       "    <tr>\n",
       "      <td>23000</td>\n",
       "      <td>0.000400</td>\n",
       "      <td>0.000062</td>\n",
       "    </tr>\n",
       "    <tr>\n",
       "      <td>23500</td>\n",
       "      <td>0.000400</td>\n",
       "      <td>0.000085</td>\n",
       "    </tr>\n",
       "    <tr>\n",
       "      <td>24000</td>\n",
       "      <td>0.000500</td>\n",
       "      <td>0.000055</td>\n",
       "    </tr>\n",
       "    <tr>\n",
       "      <td>24500</td>\n",
       "      <td>0.000700</td>\n",
       "      <td>0.000052</td>\n",
       "    </tr>\n",
       "    <tr>\n",
       "      <td>25000</td>\n",
       "      <td>0.000400</td>\n",
       "      <td>0.000058</td>\n",
       "    </tr>\n",
       "    <tr>\n",
       "      <td>25500</td>\n",
       "      <td>0.000400</td>\n",
       "      <td>0.000125</td>\n",
       "    </tr>\n",
       "    <tr>\n",
       "      <td>26000</td>\n",
       "      <td>0.000300</td>\n",
       "      <td>0.000242</td>\n",
       "    </tr>\n",
       "    <tr>\n",
       "      <td>26500</td>\n",
       "      <td>0.000500</td>\n",
       "      <td>0.000168</td>\n",
       "    </tr>\n",
       "    <tr>\n",
       "      <td>27000</td>\n",
       "      <td>0.000300</td>\n",
       "      <td>0.000075</td>\n",
       "    </tr>\n",
       "    <tr>\n",
       "      <td>27500</td>\n",
       "      <td>0.000300</td>\n",
       "      <td>0.000296</td>\n",
       "    </tr>\n",
       "    <tr>\n",
       "      <td>28000</td>\n",
       "      <td>0.000400</td>\n",
       "      <td>0.000035</td>\n",
       "    </tr>\n",
       "    <tr>\n",
       "      <td>28500</td>\n",
       "      <td>0.000200</td>\n",
       "      <td>0.000091</td>\n",
       "    </tr>\n",
       "    <tr>\n",
       "      <td>29000</td>\n",
       "      <td>0.000600</td>\n",
       "      <td>0.000060</td>\n",
       "    </tr>\n",
       "    <tr>\n",
       "      <td>29500</td>\n",
       "      <td>0.000200</td>\n",
       "      <td>0.001992</td>\n",
       "    </tr>\n",
       "    <tr>\n",
       "      <td>30000</td>\n",
       "      <td>0.000500</td>\n",
       "      <td>0.000044</td>\n",
       "    </tr>\n",
       "    <tr>\n",
       "      <td>30500</td>\n",
       "      <td>0.000200</td>\n",
       "      <td>0.000012</td>\n",
       "    </tr>\n",
       "    <tr>\n",
       "      <td>31000</td>\n",
       "      <td>0.000300</td>\n",
       "      <td>0.000014</td>\n",
       "    </tr>\n",
       "    <tr>\n",
       "      <td>31500</td>\n",
       "      <td>0.000300</td>\n",
       "      <td>0.000022</td>\n",
       "    </tr>\n",
       "    <tr>\n",
       "      <td>32000</td>\n",
       "      <td>0.000400</td>\n",
       "      <td>0.003196</td>\n",
       "    </tr>\n",
       "    <tr>\n",
       "      <td>32500</td>\n",
       "      <td>0.000300</td>\n",
       "      <td>0.000069</td>\n",
       "    </tr>\n",
       "    <tr>\n",
       "      <td>33000</td>\n",
       "      <td>0.000300</td>\n",
       "      <td>0.000143</td>\n",
       "    </tr>\n",
       "    <tr>\n",
       "      <td>33500</td>\n",
       "      <td>0.000200</td>\n",
       "      <td>0.000086</td>\n",
       "    </tr>\n",
       "    <tr>\n",
       "      <td>34000</td>\n",
       "      <td>0.000300</td>\n",
       "      <td>0.000075</td>\n",
       "    </tr>\n",
       "    <tr>\n",
       "      <td>34500</td>\n",
       "      <td>0.000300</td>\n",
       "      <td>0.000040</td>\n",
       "    </tr>\n",
       "    <tr>\n",
       "      <td>35000</td>\n",
       "      <td>0.000300</td>\n",
       "      <td>0.000030</td>\n",
       "    </tr>\n",
       "    <tr>\n",
       "      <td>35500</td>\n",
       "      <td>0.000200</td>\n",
       "      <td>0.000231</td>\n",
       "    </tr>\n",
       "    <tr>\n",
       "      <td>36000</td>\n",
       "      <td>0.000200</td>\n",
       "      <td>0.000018</td>\n",
       "    </tr>\n",
       "    <tr>\n",
       "      <td>36500</td>\n",
       "      <td>0.000300</td>\n",
       "      <td>0.000320</td>\n",
       "    </tr>\n",
       "    <tr>\n",
       "      <td>37000</td>\n",
       "      <td>0.000400</td>\n",
       "      <td>0.000018</td>\n",
       "    </tr>\n",
       "    <tr>\n",
       "      <td>37500</td>\n",
       "      <td>0.000300</td>\n",
       "      <td>0.000034</td>\n",
       "    </tr>\n",
       "    <tr>\n",
       "      <td>38000</td>\n",
       "      <td>0.000200</td>\n",
       "      <td>0.000037</td>\n",
       "    </tr>\n",
       "    <tr>\n",
       "      <td>38500</td>\n",
       "      <td>0.000200</td>\n",
       "      <td>0.000011</td>\n",
       "    </tr>\n",
       "    <tr>\n",
       "      <td>39000</td>\n",
       "      <td>0.000300</td>\n",
       "      <td>0.000020</td>\n",
       "    </tr>\n",
       "    <tr>\n",
       "      <td>39500</td>\n",
       "      <td>0.000200</td>\n",
       "      <td>0.000015</td>\n",
       "    </tr>\n",
       "    <tr>\n",
       "      <td>40000</td>\n",
       "      <td>0.000100</td>\n",
       "      <td>0.000013</td>\n",
       "    </tr>\n",
       "    <tr>\n",
       "      <td>40500</td>\n",
       "      <td>0.000300</td>\n",
       "      <td>0.000031</td>\n",
       "    </tr>\n",
       "    <tr>\n",
       "      <td>41000</td>\n",
       "      <td>0.000300</td>\n",
       "      <td>0.000027</td>\n",
       "    </tr>\n",
       "    <tr>\n",
       "      <td>41500</td>\n",
       "      <td>0.000200</td>\n",
       "      <td>0.000018</td>\n",
       "    </tr>\n",
       "    <tr>\n",
       "      <td>42000</td>\n",
       "      <td>0.000100</td>\n",
       "      <td>0.000023</td>\n",
       "    </tr>\n",
       "    <tr>\n",
       "      <td>42500</td>\n",
       "      <td>0.000300</td>\n",
       "      <td>0.000036</td>\n",
       "    </tr>\n",
       "    <tr>\n",
       "      <td>43000</td>\n",
       "      <td>0.000200</td>\n",
       "      <td>0.000026</td>\n",
       "    </tr>\n",
       "    <tr>\n",
       "      <td>43500</td>\n",
       "      <td>0.000300</td>\n",
       "      <td>0.000012</td>\n",
       "    </tr>\n",
       "    <tr>\n",
       "      <td>44000</td>\n",
       "      <td>0.000100</td>\n",
       "      <td>0.000008</td>\n",
       "    </tr>\n",
       "    <tr>\n",
       "      <td>44500</td>\n",
       "      <td>0.000200</td>\n",
       "      <td>0.000008</td>\n",
       "    </tr>\n",
       "    <tr>\n",
       "      <td>45000</td>\n",
       "      <td>0.000100</td>\n",
       "      <td>0.000049</td>\n",
       "    </tr>\n",
       "    <tr>\n",
       "      <td>45500</td>\n",
       "      <td>0.000300</td>\n",
       "      <td>0.000021</td>\n",
       "    </tr>\n",
       "    <tr>\n",
       "      <td>46000</td>\n",
       "      <td>0.000200</td>\n",
       "      <td>0.000019</td>\n",
       "    </tr>\n",
       "    <tr>\n",
       "      <td>46500</td>\n",
       "      <td>0.000200</td>\n",
       "      <td>0.000018</td>\n",
       "    </tr>\n",
       "    <tr>\n",
       "      <td>47000</td>\n",
       "      <td>0.000000</td>\n",
       "      <td>0.000018</td>\n",
       "    </tr>\n",
       "    <tr>\n",
       "      <td>47500</td>\n",
       "      <td>0.000200</td>\n",
       "      <td>0.000469</td>\n",
       "    </tr>\n",
       "    <tr>\n",
       "      <td>48000</td>\n",
       "      <td>0.000200</td>\n",
       "      <td>0.000036</td>\n",
       "    </tr>\n",
       "    <tr>\n",
       "      <td>48500</td>\n",
       "      <td>0.000200</td>\n",
       "      <td>0.000016</td>\n",
       "    </tr>\n",
       "    <tr>\n",
       "      <td>49000</td>\n",
       "      <td>0.000100</td>\n",
       "      <td>0.000016</td>\n",
       "    </tr>\n",
       "    <tr>\n",
       "      <td>49500</td>\n",
       "      <td>0.000200</td>\n",
       "      <td>0.000016</td>\n",
       "    </tr>\n",
       "    <tr>\n",
       "      <td>50000</td>\n",
       "      <td>0.000100</td>\n",
       "      <td>0.000012</td>\n",
       "    </tr>\n",
       "    <tr>\n",
       "      <td>50500</td>\n",
       "      <td>0.000100</td>\n",
       "      <td>0.000013</td>\n",
       "    </tr>\n",
       "    <tr>\n",
       "      <td>51000</td>\n",
       "      <td>0.000300</td>\n",
       "      <td>0.000013</td>\n",
       "    </tr>\n",
       "    <tr>\n",
       "      <td>51500</td>\n",
       "      <td>0.000200</td>\n",
       "      <td>0.000063</td>\n",
       "    </tr>\n",
       "    <tr>\n",
       "      <td>52000</td>\n",
       "      <td>0.000200</td>\n",
       "      <td>0.000028</td>\n",
       "    </tr>\n",
       "    <tr>\n",
       "      <td>52500</td>\n",
       "      <td>0.000100</td>\n",
       "      <td>0.000031</td>\n",
       "    </tr>\n",
       "    <tr>\n",
       "      <td>53000</td>\n",
       "      <td>0.000200</td>\n",
       "      <td>0.000090</td>\n",
       "    </tr>\n",
       "    <tr>\n",
       "      <td>53500</td>\n",
       "      <td>0.000100</td>\n",
       "      <td>0.000014</td>\n",
       "    </tr>\n",
       "    <tr>\n",
       "      <td>54000</td>\n",
       "      <td>0.000100</td>\n",
       "      <td>0.000024</td>\n",
       "    </tr>\n",
       "    <tr>\n",
       "      <td>54500</td>\n",
       "      <td>0.000100</td>\n",
       "      <td>0.000004</td>\n",
       "    </tr>\n",
       "    <tr>\n",
       "      <td>55000</td>\n",
       "      <td>0.000200</td>\n",
       "      <td>0.003061</td>\n",
       "    </tr>\n",
       "    <tr>\n",
       "      <td>55500</td>\n",
       "      <td>0.000100</td>\n",
       "      <td>0.000020</td>\n",
       "    </tr>\n",
       "    <tr>\n",
       "      <td>56000</td>\n",
       "      <td>0.000100</td>\n",
       "      <td>0.000006</td>\n",
       "    </tr>\n",
       "    <tr>\n",
       "      <td>56500</td>\n",
       "      <td>0.000200</td>\n",
       "      <td>0.000579</td>\n",
       "    </tr>\n",
       "    <tr>\n",
       "      <td>57000</td>\n",
       "      <td>0.000200</td>\n",
       "      <td>0.000011</td>\n",
       "    </tr>\n",
       "    <tr>\n",
       "      <td>57500</td>\n",
       "      <td>0.000200</td>\n",
       "      <td>0.000016</td>\n",
       "    </tr>\n",
       "    <tr>\n",
       "      <td>58000</td>\n",
       "      <td>0.000100</td>\n",
       "      <td>0.000010</td>\n",
       "    </tr>\n",
       "    <tr>\n",
       "      <td>58500</td>\n",
       "      <td>0.000100</td>\n",
       "      <td>0.000021</td>\n",
       "    </tr>\n",
       "    <tr>\n",
       "      <td>59000</td>\n",
       "      <td>0.000100</td>\n",
       "      <td>0.000024</td>\n",
       "    </tr>\n",
       "    <tr>\n",
       "      <td>59500</td>\n",
       "      <td>0.000100</td>\n",
       "      <td>0.000193</td>\n",
       "    </tr>\n",
       "    <tr>\n",
       "      <td>60000</td>\n",
       "      <td>0.000300</td>\n",
       "      <td>0.000016</td>\n",
       "    </tr>\n",
       "    <tr>\n",
       "      <td>60500</td>\n",
       "      <td>0.000100</td>\n",
       "      <td>0.000011</td>\n",
       "    </tr>\n",
       "    <tr>\n",
       "      <td>61000</td>\n",
       "      <td>0.000100</td>\n",
       "      <td>0.000023</td>\n",
       "    </tr>\n",
       "    <tr>\n",
       "      <td>61500</td>\n",
       "      <td>0.000100</td>\n",
       "      <td>0.000011</td>\n",
       "    </tr>\n",
       "    <tr>\n",
       "      <td>62000</td>\n",
       "      <td>0.000200</td>\n",
       "      <td>0.000006</td>\n",
       "    </tr>\n",
       "    <tr>\n",
       "      <td>62500</td>\n",
       "      <td>0.000200</td>\n",
       "      <td>0.000018</td>\n",
       "    </tr>\n",
       "    <tr>\n",
       "      <td>63000</td>\n",
       "      <td>0.000100</td>\n",
       "      <td>0.000007</td>\n",
       "    </tr>\n",
       "    <tr>\n",
       "      <td>63500</td>\n",
       "      <td>0.000100</td>\n",
       "      <td>0.000022</td>\n",
       "    </tr>\n",
       "    <tr>\n",
       "      <td>64000</td>\n",
       "      <td>0.000200</td>\n",
       "      <td>0.000009</td>\n",
       "    </tr>\n",
       "    <tr>\n",
       "      <td>64500</td>\n",
       "      <td>0.000100</td>\n",
       "      <td>0.000021</td>\n",
       "    </tr>\n",
       "    <tr>\n",
       "      <td>65000</td>\n",
       "      <td>0.000100</td>\n",
       "      <td>0.000004</td>\n",
       "    </tr>\n",
       "    <tr>\n",
       "      <td>65500</td>\n",
       "      <td>0.000200</td>\n",
       "      <td>0.000006</td>\n",
       "    </tr>\n",
       "    <tr>\n",
       "      <td>66000</td>\n",
       "      <td>0.000100</td>\n",
       "      <td>0.000007</td>\n",
       "    </tr>\n",
       "    <tr>\n",
       "      <td>66500</td>\n",
       "      <td>0.000100</td>\n",
       "      <td>0.000005</td>\n",
       "    </tr>\n",
       "    <tr>\n",
       "      <td>67000</td>\n",
       "      <td>0.000100</td>\n",
       "      <td>0.000010</td>\n",
       "    </tr>\n",
       "  </tbody>\n",
       "</table><p>\n",
       "    <div>\n",
       "      \n",
       "      <progress value='55' max='125' style='width:300px; height:20px; vertical-align: middle;'></progress>\n",
       "      [ 55/125 00:00 < 00:01, 54.18 it/s]\n",
       "    </div>\n",
       "    "
      ],
      "text/plain": [
       "<IPython.core.display.HTML object>"
      ]
     },
     "metadata": {},
     "output_type": "display_data"
    },
    {
     "name": "stderr",
     "output_type": "stream",
     "text": [
      "***** Running Evaluation *****\n",
      "  Num examples = 1000\n",
      "  Batch size = 8\n"
     ]
    },
    {
     "name": "stdout",
     "output_type": "stream",
     "text": [
      "real: 2,17,442,4277,22658,83977,246602,615197,1360642,2743553,5141402,9079237,15264002,24622457,38342698,57919277,85201922,122447857,172377722,238235093,RRZR0S0RRZR0S0RRZR0S0RRZR0S0RRZR0S0RRZR0S0SSSSSZ10S0SZ8S0SSSSZ6S0SZ4S0SSSSZ2S0Z0S0SSZX\n",
      "out:  2,17,442,4277,22658,83977,246602,615197,1360642,2743553,5141402,9079237,15264002,24622457,38342698,57919277,85201922,122447857,172377722,238235093,RRZR0S0RRZR0S0RRZR0S0RRZR0S0RRZR0S0RRZR0S0SSSSSZ10S0SZ8S0SSSSZ6S0SSSSZ4S0SZ2S0Z0S0SSZX\u0000\n",
      "fact: 1,1,2,6,24,120,720,5040,40320,362880,3628800,39916800,479001600,6227020800,87178291200,1307674368000,20922789888000,355687428096000,6402373705728000,121645100408832000,RRZR0S0RRZR0S0RRZR0S0RRZR0S0RRZR0S0RRZR0S0SSSSSSZ10S0SSSSZ8S0SZ6S0SZ4S0Z2S0Z0S0SZX\u0000\n"
     ]
    },
    {
     "name": "stderr",
     "output_type": "stream",
     "text": [
      "***** Running Evaluation *****\n",
      "  Num examples = 1000\n",
      "  Batch size = 8\n"
     ]
    },
    {
     "name": "stdout",
     "output_type": "stream",
     "text": [
      "real: 2,17,442,4277,22658,83977,246602,615197,1360642,2743553,5141402,9079237,15264002,24622457,38342698,57919277,85201922,122447857,172377722,238235093,RRZR0S0RRZR0S0RRZR0S0RRZR0S0RRZR0S0RRZR0S0SSSSSZ10S0SZ8S0SSSSZ6S0SZ4S0SSSSZ2S0Z0S0SSZX\n",
      "out:  2,17,442,4277,22658,83977,246602,615197,1360642,2743553,5141402,9079237,15264002,24622457,38342698,57919277,85201922,122447857,172377722,238235093,RRZR0S0RRZR0S0RRZR0S0RRZR0S0RRZR0S0RRZR0S0SSSSSZ10S0SZ8S0SSSZ6S0SSSSZ4S0SZ2S0SZ0S0SSZX\u0000\n",
      "fact: 1,1,2,6,24,120,720,5040,40320,362880,3628800,39916800,479001600,6227020800,87178291200,1307674368000,20922789888000,355687428096000,6402373705728000,121645100408832000,RRZR0S0RRZR0S0RRZR0S0RRZR0S0RRZR0S0RRZR0S0SSSSSSZ10S0SSSSSZ8S0SZ6S0SZ4S0Z2S0Z0S0SZX\u0000\n"
     ]
    },
    {
     "name": "stderr",
     "output_type": "stream",
     "text": [
      "***** Running Evaluation *****\n",
      "  Num examples = 1000\n",
      "  Batch size = 8\n"
     ]
    },
    {
     "name": "stdout",
     "output_type": "stream",
     "text": [
      "real: 2,17,442,4277,22658,83977,246602,615197,1360642,2743553,5141402,9079237,15264002,24622457,38342698,57919277,85201922,122447857,172377722,238235093,RRZR0S0RRZR0S0RRZR0S0RRZR0S0RRZR0S0RRZR0S0SSSSSZ10S0SZ8S0SSSSZ6S0SZ4S0SSSSZ2S0Z0S0SSZX\n",
      "out:  2,17,442,4277,22658,83977,246602,615197,1360642,2743553,5141402,9079237,15264002,24622457,38342698,57919277,85201922,122447857,172377722,238235093,RRZR0S0RRZR0S0RRZR0S0RRZR0S0RRZR0S0RRZR0S0SSSSSZ10S0SZ8S0SSSSZ6S0SSSSZ4S0SZ2S0Z0S0SSZX\u0000\n",
      "fact: 1,1,2,6,24,120,720,5040,40320,362880,3628800,39916800,479001600,6227020800,87178291200,1307674368000,20922789888000,355687428096000,6402373705728000,121645100408832000,RRZR0S0RRZR0S0RRZR0S0RRZR0S0RRZR0S0SSSSSSSZ8S0SSSSZ6S0SZ4S0SZ2S0Z0S0SZX\u0000\n"
     ]
    },
    {
     "name": "stderr",
     "output_type": "stream",
     "text": [
      "***** Running Evaluation *****\n",
      "  Num examples = 1000\n",
      "  Batch size = 8\n"
     ]
    },
    {
     "name": "stdout",
     "output_type": "stream",
     "text": [
      "real: 2,17,442,4277,22658,83977,246602,615197,1360642,2743553,5141402,9079237,15264002,24622457,38342698,57919277,85201922,122447857,172377722,238235093,RRZR0S0RRZR0S0RRZR0S0RRZR0S0RRZR0S0RRZR0S0SSSSSZ10S0SZ8S0SSSSZ6S0SZ4S0SSSSZ2S0Z0S0SSZX\n",
      "out:  2,17,442,4277,22658,83977,246602,615197,1360642,2743553,5141402,9079237,15264002,24622457,38342698,57919277,85201922,122447857,172377722,238235093,RRZR0S0RRZR0S0RRZR0S0RRZR0S0RRZR0S0RRZR0S0SSSSSZ10S0SZ8S0SSSZ6S0SSSSZ4S0SZ2S0Z0S0SSZX\u0000\n",
      "fact: 1,1,2,6,24,120,720,5040,40320,362880,3628800,39916800,479001600,6227020800,87178291200,1307674368000,20922789888000,355687428096000,6402373705728000,121645100408832000,RRZR0S0RRZR0S0RRZR0S0RRZR0S0RRZR0S0SSSSSSSZ8S0SSSSZ6S0SZ4S0Z2S0Z0S0SZX\u0000\n"
     ]
    },
    {
     "name": "stderr",
     "output_type": "stream",
     "text": [
      "***** Running Evaluation *****\n",
      "  Num examples = 1000\n",
      "  Batch size = 8\n"
     ]
    },
    {
     "name": "stdout",
     "output_type": "stream",
     "text": [
      "real: 2,17,442,4277,22658,83977,246602,615197,1360642,2743553,5141402,9079237,15264002,24622457,38342698,57919277,85201922,122447857,172377722,238235093,RRZR0S0RRZR0S0RRZR0S0RRZR0S0RRZR0S0RRZR0S0SSSSSZ10S0SZ8S0SSSSZ6S0SZ4S0SSSSZ2S0Z0S0SSZX\n",
      "out:  2,17,442,4277,22658,83977,246602,615197,1360642,2743553,5141402,9079237,15264002,24622457,38342698,57919277,85201922,122447857,172377722,238235093,RRZR0S0RRZR0S0RRZR0S0RRZR0S0RRZR0S0RRZR0S0SSSSSZ10S0SZ8S0SSSZ6S0SSSSZ4S0SZ2S0Z0S0SSZX\u0000\n",
      "fact: 1,1,2,6,24,120,720,5040,40320,362880,3628800,39916800,479001600,6227020800,87178291200,1307674368000,20922789888000,355687428096000,6402373705728000,121645100408832000,RRZR0S0RRZR0S0RRZR0S0RRZR0S0RRZR0S0RRZR0S0SSSSSSZ10S0SSSSSZ8S0Z6S0SZ4S0Z2S0Z0S0SZX\u0000\n"
     ]
    },
    {
     "name": "stderr",
     "output_type": "stream",
     "text": [
      "***** Running Evaluation *****\n",
      "  Num examples = 1000\n",
      "  Batch size = 8\n"
     ]
    },
    {
     "name": "stdout",
     "output_type": "stream",
     "text": [
      "real: 2,17,442,4277,22658,83977,246602,615197,1360642,2743553,5141402,9079237,15264002,24622457,38342698,57919277,85201922,122447857,172377722,238235093,RRZR0S0RRZR0S0RRZR0S0RRZR0S0RRZR0S0RRZR0S0SSSSSZ10S0SZ8S0SSSSZ6S0SZ4S0SSSSZ2S0Z0S0SSZX\n",
      "out:  2,17,442,4277,22658,83977,246602,615197,1360642,2743553,5141402,9079237,15264002,24622457,38342698,57919277,85201922,122447857,172377722,238235093,RRZR0S0RRZR0S0RRZR0S0RRZR0S0RRZR0S0RRZR0S0SSSSSZ10S0SZ8S0SSZ6S0SSSZ4S0SSSZ2S0Z0S0SSZX\u0000\n",
      "fact: 1,1,2,6,24,120,720,5040,40320,362880,3628800,39916800,479001600,6227020800,87178291200,1307674368000,20922789888000,355687428096000,6402373705728000,121645100408832000,RRZR0S0RRZR0S0RRZR0S0RRZR0S0RRZR0S0RRZR0S0SSSSSSZ10S0SSSSSZ8S0SZ6S0Z4S0Z2S0Z0S0SZX\u0000\n"
     ]
    },
    {
     "name": "stderr",
     "output_type": "stream",
     "text": [
      "***** Running Evaluation *****\n",
      "  Num examples = 1000\n",
      "  Batch size = 8\n"
     ]
    },
    {
     "name": "stdout",
     "output_type": "stream",
     "text": [
      "real: 2,17,442,4277,22658,83977,246602,615197,1360642,2743553,5141402,9079237,15264002,24622457,38342698,57919277,85201922,122447857,172377722,238235093,RRZR0S0RRZR0S0RRZR0S0RRZR0S0RRZR0S0RRZR0S0SSSSSZ10S0SZ8S0SSSSZ6S0SZ4S0SSSSZ2S0Z0S0SSZX\n",
      "out:  2,17,442,4277,22658,83977,246602,615197,1360642,2743553,5141402,9079237,15264002,24622457,38342698,57919277,85201922,122447857,172377722,238235093,RRZR0S0RRZR0S0RRZR0S0RRZR0S0RRZR0S0RRZR0S0SSSSSZ10S0SZ8S0SSSSZ6S0SZ4S0SSSZ2S0Z0S0SSZX\u0000\n",
      "fact: 1,1,2,6,24,120,720,5040,40320,362880,3628800,39916800,479001600,6227020800,87178291200,1307674368000,20922789888000,355687428096000,6402373705728000,121645100408832000,RRZR0S0RRZR0S0RRZR0S0RRZR0S0RRZR0S0S0SSSSSZ10S0SSSSSSZ8S0SZ6S0Z4S0Z2S0Z0S0SZX\u0000\n"
     ]
    },
    {
     "name": "stderr",
     "output_type": "stream",
     "text": [
      "***** Running Evaluation *****\n",
      "  Num examples = 1000\n",
      "  Batch size = 8\n"
     ]
    },
    {
     "name": "stdout",
     "output_type": "stream",
     "text": [
      "real: 2,17,442,4277,22658,83977,246602,615197,1360642,2743553,5141402,9079237,15264002,24622457,38342698,57919277,85201922,122447857,172377722,238235093,RRZR0S0RRZR0S0RRZR0S0RRZR0S0RRZR0S0RRZR0S0SSSSSZ10S0SZ8S0SSSSZ6S0SZ4S0SSSSZ2S0Z0S0SSZX\n",
      "out:  2,17,442,4277,22658,83977,246602,615197,1360642,2743553,5141402,9079237,15264002,24622457,38342698,57919277,85201922,122447857,172377722,238235093,RRZR0S0RRZR0S0RRZR0S0RRZR0S0RRZR0S0RRZR0S0SSSSSZ10S0SZ8S0SSSSZ6S0SZ4S0SSSSZ2S0Z0S0SSZX\u0000\n",
      "fact: 1,1,2,6,24,120,720,5040,40320,362880,3628800,39916800,479001600,6227020800,87178291200,1307674368000,20922789888000,355687428096000,6402373705728000,121645100408832000,RRZR0S0RRZR0S0RRZR0S0RRZR0S0RRZR0S0RRZR0S0SSSSSSZ10S0SSSSSSZ8S0SZ6S0Z4S0Z2S0Z0S0SZX\u0000\n"
     ]
    },
    {
     "name": "stderr",
     "output_type": "stream",
     "text": [
      "***** Running Evaluation *****\n",
      "  Num examples = 1000\n",
      "  Batch size = 8\n"
     ]
    },
    {
     "name": "stdout",
     "output_type": "stream",
     "text": [
      "real: 2,17,442,4277,22658,83977,246602,615197,1360642,2743553,5141402,9079237,15264002,24622457,38342698,57919277,85201922,122447857,172377722,238235093,RRZR0S0RRZR0S0RRZR0S0RRZR0S0RRZR0S0RRZR0S0SSSSSZ10S0SZ8S0SSSSZ6S0SZ4S0SSSSZ2S0Z0S0SSZX\n",
      "out:  2,17,442,4277,22658,83977,246602,615197,1360642,2743553,5141402,9079237,15264002,24622457,38342698,57919277,85201922,122447857,172377722,238235093,RRZR0S0RRZR0S0RRZR0S0RRZR0S0RRZR0S0RRZR0S0SSSSSZ10S0SZ8S0SSSSZ6S0SZ4S0SSSSZ2S0Z0S0SSZX\u0000\n",
      "fact: 1,1,2,6,24,120,720,5040,40320,362880,3628800,39916800,479001600,6227020800,87178291200,1307674368000,20922789888000,355687428096000,6402373705728000,121645100408832000,RRZR0S0RRZR0S0RRZR0S0RRZR0S0RRZR0S0RRZR0S0SSSSSSZ10S0SSSSSSZ8S0SZ6S0Z4S0Z2S0Z0S0SZX\u0000\n"
     ]
    },
    {
     "name": "stderr",
     "output_type": "stream",
     "text": [
      "***** Running Evaluation *****\n",
      "  Num examples = 1000\n",
      "  Batch size = 8\n"
     ]
    },
    {
     "name": "stdout",
     "output_type": "stream",
     "text": [
      "real: 2,17,442,4277,22658,83977,246602,615197,1360642,2743553,5141402,9079237,15264002,24622457,38342698,57919277,85201922,122447857,172377722,238235093,RRZR0S0RRZR0S0RRZR0S0RRZR0S0RRZR0S0RRZR0S0SSSSSZ10S0SZ8S0SSSSZ6S0SZ4S0SSSSZ2S0Z0S0SSZX\n",
      "out:  2,17,442,4277,22658,83977,246602,615197,1360642,2743553,5141402,9079237,15264002,24622457,38342698,57919277,85201922,122447857,172377722,238235093,RRZR0S0RRZR0S0RRZR0S0RRZR0S0RRZR0S0RRZR0S0SSSSSZ10S0SZ8S0SSSSZ6S0SZ4S0SSSSZ2S0Z0S0SSZX\u0000\n",
      "fact: 1,1,2,6,24,120,720,5040,40320,362880,3628800,39916800,479001600,6227020800,87178291200,1307674368000,20922789888000,355687428096000,6402373705728000,121645100408832000,RRZR0S0RRZR0S0RRZR0S0RRZR0S0RRZR0S0SSSSSSSZ10S0SSSSZ8S0SZ6S0Z4S0Z2S0Z0S0SZX\u0000\n"
     ]
    },
    {
     "name": "stderr",
     "output_type": "stream",
     "text": [
      "***** Running Evaluation *****\n",
      "  Num examples = 1000\n",
      "  Batch size = 8\n"
     ]
    },
    {
     "name": "stdout",
     "output_type": "stream",
     "text": [
      "real: 2,17,442,4277,22658,83977,246602,615197,1360642,2743553,5141402,9079237,15264002,24622457,38342698,57919277,85201922,122447857,172377722,238235093,RRZR0S0RRZR0S0RRZR0S0RRZR0S0RRZR0S0RRZR0S0SSSSSZ10S0SZ8S0SSSSZ6S0SZ4S0SSSSZ2S0Z0S0SSZX\n",
      "out:  2,17,442,4277,22658,83977,246602,615197,1360642,2743553,5141402,9079237,15264002,24622457,38342698,57919277,85201922,122447857,172377722,238235093,RRZR0S0RRZR0S0RRZR0S0RRZR0S0RRZR0S0RRZR0S0SSSSSZ10S0SZ8S0SSSSZ6S0SZ4S0SSSSZ2S0Z0S0SSZX\u0000\n",
      "fact: 1,1,2,6,24,120,720,5040,40320,362880,3628800,39916800,479001600,6227020800,87178291200,1307674368000,20922789888000,355687428096000,6402373705728000,121645100408832000,RRZR0S0RRZR0S0RRZR0S0RRZR0S0RRZR0S0RRZR0S0SSSSSSZ10S0SSSSSSZ8S0SZ6S0SZ4S0Z2S0Z0S0ZX\u0000\n"
     ]
    },
    {
     "name": "stderr",
     "output_type": "stream",
     "text": [
      "***** Running Evaluation *****\n",
      "  Num examples = 1000\n",
      "  Batch size = 8\n"
     ]
    },
    {
     "name": "stdout",
     "output_type": "stream",
     "text": [
      "real: 2,17,442,4277,22658,83977,246602,615197,1360642,2743553,5141402,9079237,15264002,24622457,38342698,57919277,85201922,122447857,172377722,238235093,RRZR0S0RRZR0S0RRZR0S0RRZR0S0RRZR0S0RRZR0S0SSSSSZ10S0SZ8S0SSSSZ6S0SZ4S0SSSSZ2S0Z0S0SSZX\n",
      "out:  2,17,442,4277,22658,83977,246602,615197,1360642,2743553,5141402,9079237,15264002,24622457,38342698,57919277,85201922,122447857,172377722,238235093,RRZR0S0RRZR0S0RRZR0S0RRZR0S0RRZR0S0RRZR0S0SSSSSZ10S0SZ8S0SSSSZ6S0SZ4S0SSSSZ2S0Z0S0SSZX\u0000\n",
      "fact: 1,1,2,6,24,120,720,5040,40320,362880,3628800,39916800,479001600,6227020800,87178291200,1307674368000,20922789888000,355687428096000,6402373705728000,121645100408832000,RRZR0S0RRZR0S0RRZR0S0RRZR0S0RRZR0S0RRZR0S0SSSSSSZ10S0SSSSSSZ8S0SZ6S0SZ4S0SZ2S0Z0S0SZX\u0000\n"
     ]
    },
    {
     "name": "stderr",
     "output_type": "stream",
     "text": [
      "***** Running Evaluation *****\n",
      "  Num examples = 1000\n",
      "  Batch size = 8\n"
     ]
    },
    {
     "name": "stdout",
     "output_type": "stream",
     "text": [
      "real: 2,17,442,4277,22658,83977,246602,615197,1360642,2743553,5141402,9079237,15264002,24622457,38342698,57919277,85201922,122447857,172377722,238235093,RRZR0S0RRZR0S0RRZR0S0RRZR0S0RRZR0S0RRZR0S0SSSSSZ10S0SZ8S0SSSSZ6S0SZ4S0SSSSZ2S0Z0S0SSZX\n",
      "out:  2,17,442,4277,22658,83977,246602,615197,1360642,2743553,5141402,9079237,15264002,24622457,38342698,57919277,85201922,122447857,172377722,238235093,RRZR0S0RRZR0S0RRZR0S0RRZR0S0RRZR0S0RRZR0S0SSSSSZ10S0SZ8S0SSSSZ6S0SZ4S0SSSSZ2S0Z0S0SSZX\u0000\n",
      "fact: 1,1,2,6,24,120,720,5040,40320,362880,3628800,39916800,479001600,6227020800,87178291200,1307674368000,20922789888000,355687428096000,6402373705728000,121645100408832000,RRZR0S0RRZR0S0RRZR0S0RRZR0S0RRZR0S0SSSSSSSZ10S0SSSSSSZ8S0SZ6S0Z4S0SZ2S0Z0S0SZX\u0000\n"
     ]
    },
    {
     "name": "stderr",
     "output_type": "stream",
     "text": [
      "***** Running Evaluation *****\n",
      "  Num examples = 1000\n",
      "  Batch size = 8\n"
     ]
    },
    {
     "name": "stdout",
     "output_type": "stream",
     "text": [
      "real: 2,17,442,4277,22658,83977,246602,615197,1360642,2743553,5141402,9079237,15264002,24622457,38342698,57919277,85201922,122447857,172377722,238235093,RRZR0S0RRZR0S0RRZR0S0RRZR0S0RRZR0S0RRZR0S0SSSSSZ10S0SZ8S0SSSSZ6S0SZ4S0SSSSZ2S0Z0S0SSZX\n",
      "out:  2,17,442,4277,22658,83977,246602,615197,1360642,2743553,5141402,9079237,15264002,24622457,38342698,57919277,85201922,122447857,172377722,238235093,RRZR0S0RRZR0S0RRZR0S0RRZR0S0RRZR0S0RRZR0S0SSSSSZ10S0SZ8S0SSSSZ6S0SZ4S0SSSSZ2S0Z0S0SSZX\u0000\n",
      "fact: 1,1,2,6,24,120,720,5040,40320,362880,3628800,39916800,479001600,6227020800,87178291200,1307674368000,20922789888000,355687428096000,6402373705728000,121645100408832000,RRZR0S0RRZR0S0RRZR0S0RRZR0S0RRZR0S0RRZR0S0SSSSSSZ10S0SSSSSSZ8S0SZ6S0SZ4S0SZ2S0Z0S0SZX\u0000\n"
     ]
    },
    {
     "name": "stderr",
     "output_type": "stream",
     "text": [
      "***** Running Evaluation *****\n",
      "  Num examples = 1000\n",
      "  Batch size = 8\n"
     ]
    },
    {
     "name": "stdout",
     "output_type": "stream",
     "text": [
      "real: 2,17,442,4277,22658,83977,246602,615197,1360642,2743553,5141402,9079237,15264002,24622457,38342698,57919277,85201922,122447857,172377722,238235093,RRZR0S0RRZR0S0RRZR0S0RRZR0S0RRZR0S0RRZR0S0SSSSSZ10S0SZ8S0SSSSZ6S0SZ4S0SSSSZ2S0Z0S0SSZX\n",
      "out:  2,17,442,4277,22658,83977,246602,615197,1360642,2743553,5141402,9079237,15264002,24622457,38342698,57919277,85201922,122447857,172377722,238235093,RRZR0S0RRZR0S0RRZR0S0RRZR0S0RRZR0S0RRZR0S0SSSSSZ10S0SZ8S0SSSSZ6S0SZ4S0SSSSZ2S0Z0S0SSZX\u0000\n",
      "fact: 1,1,2,6,24,120,720,5040,40320,362880,3628800,39916800,479001600,6227020800,87178291200,1307674368000,20922789888000,355687428096000,6402373705728000,121645100408832000,RRZR0S0RRZR0S0RRZR0S0RRZR0S0RRZR0S0RRZR0S0SSSSSSZ10S0SSSZ8S0SZ6S0SSSZ4S0SZ2S0Z0S0SZX\u0000\n"
     ]
    },
    {
     "name": "stderr",
     "output_type": "stream",
     "text": [
      "***** Running Evaluation *****\n",
      "  Num examples = 1000\n",
      "  Batch size = 8\n"
     ]
    },
    {
     "name": "stdout",
     "output_type": "stream",
     "text": [
      "real: 2,17,442,4277,22658,83977,246602,615197,1360642,2743553,5141402,9079237,15264002,24622457,38342698,57919277,85201922,122447857,172377722,238235093,RRZR0S0RRZR0S0RRZR0S0RRZR0S0RRZR0S0RRZR0S0SSSSSZ10S0SZ8S0SSSSZ6S0SZ4S0SSSSZ2S0Z0S0SSZX\n",
      "out:  2,17,442,4277,22658,83977,246602,615197,1360642,2743553,5141402,9079237,15264002,24622457,38342698,57919277,85201922,122447857,172377722,238235093,RRZR0S0RRZR0S0RRZR0S0RRZR0S0RRZR0S0RRZR0S0SSSSSZ10S0SZ8S0SSSSZ6S0SZ4S0SSSSZ2S0Z0S0SSZX\u0000\n",
      "fact: 1,1,2,6,24,120,720,5040,40320,362880,3628800,39916800,479001600,6227020800,87178291200,1307674368000,20922789888000,355687428096000,6402373705728000,121645100408832000,RRZR0S0RRZR0S0RRZR0S0RRZR0S0RRZR0S0RRZR0S0SSSSSSZ10S0SSSSSSZ8S0Z6S0Z4S0SZ2S0Z0S0SZX\u0000\n"
     ]
    },
    {
     "name": "stderr",
     "output_type": "stream",
     "text": [
      "***** Running Evaluation *****\n",
      "  Num examples = 1000\n",
      "  Batch size = 8\n"
     ]
    },
    {
     "name": "stdout",
     "output_type": "stream",
     "text": [
      "real: 2,17,442,4277,22658,83977,246602,615197,1360642,2743553,5141402,9079237,15264002,24622457,38342698,57919277,85201922,122447857,172377722,238235093,RRZR0S0RRZR0S0RRZR0S0RRZR0S0RRZR0S0RRZR0S0SSSSSZ10S0SZ8S0SSSSZ6S0SZ4S0SSSSZ2S0Z0S0SSZX\n",
      "out:  2,17,442,4277,22658,83977,246602,615197,1360642,2743553,5141402,9079237,15264002,24622457,38342698,57919277,85201922,122447857,172377722,238235093,RRZR0S0RRZR0S0RRZR0S0RRZR0S0RRZR0S0RRZR0S0SSSSSZ10S0SZ8S0SSSSZ6S0SZ4S0SSSSZ2S0Z0S0SSZX\u0000\n",
      "fact: 1,1,2,6,24,120,720,5040,40320,362880,3628800,39916800,479001600,6227020800,87178291200,1307674368000,20922789888000,355687428096000,6402373705728000,121645100408832000,RRZR0S0RRZR0S0RRZR0S0RRZR0S0RRZR0S0RRZR0S0SSSSSSZ10S0SSSSSZ8S0Z6S0Z4S0SZ2S0Z0S0SZX\u0000\n"
     ]
    },
    {
     "name": "stderr",
     "output_type": "stream",
     "text": [
      "***** Running Evaluation *****\n",
      "  Num examples = 1000\n",
      "  Batch size = 8\n"
     ]
    },
    {
     "name": "stdout",
     "output_type": "stream",
     "text": [
      "real: 2,17,442,4277,22658,83977,246602,615197,1360642,2743553,5141402,9079237,15264002,24622457,38342698,57919277,85201922,122447857,172377722,238235093,RRZR0S0RRZR0S0RRZR0S0RRZR0S0RRZR0S0RRZR0S0SSSSSZ10S0SZ8S0SSSSZ6S0SZ4S0SSSSZ2S0Z0S0SSZX\n",
      "out:  2,17,442,4277,22658,83977,246602,615197,1360642,2743553,5141402,9079237,15264002,24622457,38342698,57919277,85201922,122447857,172377722,238235093,RRZR0S0RRZR0S0RRZR0S0RRZR0S0RRZR0S0RRZR0S0SSSSSZ10S0SZ8S0SSSSZ6S0SZ4S0SSSSZ2S0Z0S0SSZX\u0000\n",
      "fact: 1,1,2,6,24,120,720,5040,40320,362880,3628800,39916800,479001600,6227020800,87178291200,1307674368000,20922789888000,355687428096000,6402373705728000,121645100408832000,RRZR0S0RRZR0S0RRZR0S0RRZR0S0RRZR0S0RRZR0S0SSSSSSZ10S0SSSSSSZ8S0Z6S0Z4S0SZ2S0Z0S0SZX\u0000\n"
     ]
    },
    {
     "name": "stderr",
     "output_type": "stream",
     "text": [
      "***** Running Evaluation *****\n",
      "  Num examples = 1000\n",
      "  Batch size = 8\n"
     ]
    },
    {
     "name": "stdout",
     "output_type": "stream",
     "text": [
      "real: 2,17,442,4277,22658,83977,246602,615197,1360642,2743553,5141402,9079237,15264002,24622457,38342698,57919277,85201922,122447857,172377722,238235093,RRZR0S0RRZR0S0RRZR0S0RRZR0S0RRZR0S0RRZR0S0SSSSSZ10S0SZ8S0SSSSZ6S0SZ4S0SSSSZ2S0Z0S0SSZX\n",
      "out:  2,17,442,4277,22658,83977,246602,615197,1360642,2743553,5141402,9079237,15264002,24622457,38342698,57919277,85201922,122447857,172377722,238235093,RRZR0S0RRZR0S0RRZR0S0RRZR0S0RRZR0S0RRZR0S0SSSSSZ10S0SZ8S0SSSSZ6S0SZ4S0SSSSZ2S0Z0S0SSZX\u0000\n",
      "fact: 1,1,2,6,24,120,720,5040,40320,362880,3628800,39916800,479001600,6227020800,87178291200,1307674368000,20922789888000,355687428096000,6402373705728000,121645100408832000,RRZR0S0RRZR0S0RRZR0S0RRZR0S0RRZR0S0RRZR0S0SSSSSSZ10S0Z8S0SZ6S0Z4S0SZ2S0SZ0S0SZX\u0000\n"
     ]
    },
    {
     "name": "stderr",
     "output_type": "stream",
     "text": [
      "***** Running Evaluation *****\n",
      "  Num examples = 1000\n",
      "  Batch size = 8\n"
     ]
    },
    {
     "name": "stdout",
     "output_type": "stream",
     "text": [
      "real: 2,17,442,4277,22658,83977,246602,615197,1360642,2743553,5141402,9079237,15264002,24622457,38342698,57919277,85201922,122447857,172377722,238235093,RRZR0S0RRZR0S0RRZR0S0RRZR0S0RRZR0S0RRZR0S0SSSSSZ10S0SZ8S0SSSSZ6S0SZ4S0SSSSZ2S0Z0S0SSZX\n",
      "out:  2,17,442,4277,22658,83977,246602,615197,1360642,2743553,5141402,9079237,15264002,24622457,38342698,57919277,85201922,122447857,172377722,238235093,RRZR0S0RRZR0S0RRZR0S0RRZR0S0RRZR0S0RRZR0S0SSSSSZ10S0SZ8S0SSSSZ6S0SZ4S0SSSSZ2S0Z0S0SSZX\u0000\n",
      "fact: 1,1,2,6,24,120,720,5040,40320,362880,3628800,39916800,479001600,6227020800,87178291200,1307674368000,20922789888000,355687428096000,6402373705728000,121645100408832000,RRZR0S0RRZR0S0RRZR0S0RRZR0S0RRZR0S0RRZR0S0SSSSSSZ10S0SSSSSZ8S0SZ6S0Z4S0SZ2S0Z0S0SZX\u0000\n"
     ]
    },
    {
     "name": "stderr",
     "output_type": "stream",
     "text": [
      "Saving model checkpoint to ./polys-model-4-dropout-2-cont/checkpoint-10000\n",
      "Trainer.model is not a `PreTrainedModel`, only saving its state dict.\n",
      "***** Running Evaluation *****\n",
      "  Num examples = 1000\n",
      "  Batch size = 8\n"
     ]
    },
    {
     "name": "stdout",
     "output_type": "stream",
     "text": [
      "real: 2,17,442,4277,22658,83977,246602,615197,1360642,2743553,5141402,9079237,15264002,24622457,38342698,57919277,85201922,122447857,172377722,238235093,RRZR0S0RRZR0S0RRZR0S0RRZR0S0RRZR0S0RRZR0S0SSSSSZ10S0SZ8S0SSSSZ6S0SZ4S0SSSSZ2S0Z0S0SSZX\n",
      "out:  2,17,442,4277,22658,83977,246602,615197,1360642,2743553,5141402,9079237,15264002,24622457,38342698,57919277,85201922,122447857,172377722,238235093,RRZR0S0RRZR0S0RRZR0S0RRZR0S0RRZR0S0RRZR0S0SSSSSZ10S0SZ8S0SSSSZ6S0SZ4S0SSSSZ2S0Z0S0SSZX\u0000\n",
      "fact: 1,1,2,6,24,120,720,5040,40320,362880,3628800,39916800,479001600,6227020800,87178291200,1307674368000,20922789888000,355687428096000,6402373705728000,121645100408832000,RRZR0S0RRZR0S0RRZR0S0RRZR0S0RRZR0S0RRZR0S0SSSSSSZ10S0Z8S0SZ6S0SSSSSSZ4S0Z2S0Z0S0SZX\u0000\n"
     ]
    },
    {
     "name": "stderr",
     "output_type": "stream",
     "text": [
      "***** Running Evaluation *****\n",
      "  Num examples = 1000\n",
      "  Batch size = 8\n"
     ]
    },
    {
     "name": "stdout",
     "output_type": "stream",
     "text": [
      "real: 2,17,442,4277,22658,83977,246602,615197,1360642,2743553,5141402,9079237,15264002,24622457,38342698,57919277,85201922,122447857,172377722,238235093,RRZR0S0RRZR0S0RRZR0S0RRZR0S0RRZR0S0RRZR0S0SSSSSZ10S0SZ8S0SSSSZ6S0SZ4S0SSSSZ2S0Z0S0SSZX\n",
      "out:  2,17,442,4277,22658,83977,246602,615197,1360642,2743553,5141402,9079237,15264002,24622457,38342698,57919277,85201922,122447857,172377722,238235093,RRZR0S0RRZR0S0RRZR0S0RRZR0S0RRZR0S0RRZR0S0SSSSSZ10S0SZ8S0SSSSZ6S0SZ4S0SSSSZ2S0Z0S0SSZX\u0000\n",
      "fact: 1,1,2,6,24,120,720,5040,40320,362880,3628800,39916800,479001600,6227020800,87178291200,1307674368000,20922789888000,355687428096000,6402373705728000,121645100408832000,RRZR0S0RRZR0S0RRZR0S0RRZR0S0RRZR0S0RRZR0S0SSSSSSZ10S0Z8S0SZ6S0SZ4S0SZ2S0SZ0S0SZX\u0000\n"
     ]
    },
    {
     "name": "stderr",
     "output_type": "stream",
     "text": [
      "***** Running Evaluation *****\n",
      "  Num examples = 1000\n",
      "  Batch size = 8\n"
     ]
    },
    {
     "name": "stdout",
     "output_type": "stream",
     "text": [
      "real: 2,17,442,4277,22658,83977,246602,615197,1360642,2743553,5141402,9079237,15264002,24622457,38342698,57919277,85201922,122447857,172377722,238235093,RRZR0S0RRZR0S0RRZR0S0RRZR0S0RRZR0S0RRZR0S0SSSSSZ10S0SZ8S0SSSSZ6S0SZ4S0SSSSZ2S0Z0S0SSZX\n",
      "out:  2,17,442,4277,22658,83977,246602,615197,1360642,2743553,5141402,9079237,15264002,24622457,38342698,57919277,85201922,122447857,172377722,238235093,RRZR0S0RRZR0S0RRZR0S0RRZR0S0RRZR0S0RRZR0S0SSSSSZ10S0SZ8S0SSSSZ6S0SZ4S0SSSSZ2S0Z0S0SSZX\u0000\n",
      "fact: 1,1,2,6,24,120,720,5040,40320,362880,3628800,39916800,479001600,6227020800,87178291200,1307674368000,20922789888000,355687428096000,6402373705728000,121645100408832000,RRZR0S0RRZR0S0RRZR0S0RRZR0S0RRZR0S0RRZR0S0SSSSSSZ10S0Z8S0SZ6S0Z4S0SSSSSSZ2S0Z0S0ZX\u0000\n"
     ]
    },
    {
     "name": "stderr",
     "output_type": "stream",
     "text": [
      "***** Running Evaluation *****\n",
      "  Num examples = 1000\n",
      "  Batch size = 8\n"
     ]
    },
    {
     "name": "stdout",
     "output_type": "stream",
     "text": [
      "real: 2,17,442,4277,22658,83977,246602,615197,1360642,2743553,5141402,9079237,15264002,24622457,38342698,57919277,85201922,122447857,172377722,238235093,RRZR0S0RRZR0S0RRZR0S0RRZR0S0RRZR0S0RRZR0S0SSSSSZ10S0SZ8S0SSSSZ6S0SZ4S0SSSSZ2S0Z0S0SSZX\n",
      "out:  2,17,442,4277,22658,83977,246602,615197,1360642,2743553,5141402,9079237,15264002,24622457,38342698,57919277,85201922,122447857,172377722,238235093,RRZR0S0RRZR0S0RRZR0S0RRZR0S0RRZR0S0RRZR0S0SSSSSZ10S0SZ8S0SSSSZ6S0SZ4S0SSSSZ2S0Z0S0SSZX\u0000\n",
      "fact: 1,1,2,6,24,120,720,5040,40320,362880,3628800,39916800,479001600,6227020800,87178291200,1307674368000,20922789888000,355687428096000,6402373705728000,121645100408832000,RRZR0S0RRZR0S0RRZR0S0RRZR0S0RRZR0S0RRZR0S0SSSSSSZ10S0Z8S0Z6S0SSSSSSZ4S0SZ2S0Z0S0SZX\u0000\n"
     ]
    },
    {
     "name": "stderr",
     "output_type": "stream",
     "text": [
      "***** Running Evaluation *****\n",
      "  Num examples = 1000\n",
      "  Batch size = 8\n"
     ]
    },
    {
     "name": "stdout",
     "output_type": "stream",
     "text": [
      "real: 2,17,442,4277,22658,83977,246602,615197,1360642,2743553,5141402,9079237,15264002,24622457,38342698,57919277,85201922,122447857,172377722,238235093,RRZR0S0RRZR0S0RRZR0S0RRZR0S0RRZR0S0RRZR0S0SSSSSZ10S0SZ8S0SSSSZ6S0SZ4S0SSSSZ2S0Z0S0SSZX\n",
      "out:  2,17,442,4277,22658,83977,246602,615197,1360642,2743553,5141402,9079237,15264002,24622457,38342698,57919277,85201922,122447857,172377722,238235093,RRZR0S0RRZR0S0RRZR0S0RRZR0S0RRZR0S0RRZR0S0SSSSSZ10S0SZ8S0SSSSZ6S0SZ4S0SSSSZ2S0Z0S0SSZX\u0000\n",
      "fact: 1,1,2,6,24,120,720,5040,40320,362880,3628800,39916800,479001600,6227020800,87178291200,1307674368000,20922789888000,355687428096000,6402373705728000,121645100408832000,RRZR0S0RRZR0S0RRZR0S0RRZR0S0RRZR0S0RRZR0S0SSSSSSZ10S0Z8S0SZ6S0Z4S0SSSSSSZ2S0Z0S0SZX\u0000\n"
     ]
    },
    {
     "name": "stderr",
     "output_type": "stream",
     "text": [
      "***** Running Evaluation *****\n",
      "  Num examples = 1000\n",
      "  Batch size = 8\n"
     ]
    },
    {
     "name": "stdout",
     "output_type": "stream",
     "text": [
      "real: 2,17,442,4277,22658,83977,246602,615197,1360642,2743553,5141402,9079237,15264002,24622457,38342698,57919277,85201922,122447857,172377722,238235093,RRZR0S0RRZR0S0RRZR0S0RRZR0S0RRZR0S0RRZR0S0SSSSSZ10S0SZ8S0SSSSZ6S0SZ4S0SSSSZ2S0Z0S0SSZX\n",
      "out:  2,17,442,4277,22658,83977,246602,615197,1360642,2743553,5141402,9079237,15264002,24622457,38342698,57919277,85201922,122447857,172377722,238235093,RRZR0S0RRZR0S0RRZR0S0RRZR0S0RRZR0S0RRZR0S0SSSSSZ10S0SZ8S0SSSSZ6S0SZ4S0SSSSZ2S0Z0S0SSZX\u0000\n",
      "fact: 1,1,2,6,24,120,720,5040,40320,362880,3628800,39916800,479001600,6227020800,87178291200,1307674368000,20922789888000,355687428096000,6402373705728000,121645100408832000,RRZR0S0RRZR0S0RRZR0S0RRZR0S0RRZR0S0RRZR0S0SSSSSSZ10S0Z8S0Z6S0SZ4S0SZ2S0SSSSSZ0S0SZX\u0000\n"
     ]
    },
    {
     "name": "stderr",
     "output_type": "stream",
     "text": [
      "***** Running Evaluation *****\n",
      "  Num examples = 1000\n",
      "  Batch size = 8\n"
     ]
    },
    {
     "name": "stdout",
     "output_type": "stream",
     "text": [
      "real: 2,17,442,4277,22658,83977,246602,615197,1360642,2743553,5141402,9079237,15264002,24622457,38342698,57919277,85201922,122447857,172377722,238235093,RRZR0S0RRZR0S0RRZR0S0RRZR0S0RRZR0S0RRZR0S0SSSSSZ10S0SZ8S0SSSSZ6S0SZ4S0SSSSZ2S0Z0S0SSZX\n",
      "out:  2,17,442,4277,22658,83977,246602,615197,1360642,2743553,5141402,9079237,15264002,24622457,38342698,57919277,85201922,122447857,172377722,238235093,RRZR0S0RRZR0S0RRZR0S0RRZR0S0RRZR0S0RRZR0S0SSSSSZ10S0SZ8S0SSSSZ6S0SZ4S0SSSSZ2S0Z0S0SSZX\u0000\n",
      "fact: 1,1,2,6,24,120,720,5040,40320,362880,3628800,39916800,479001600,6227020800,87178291200,1307674368000,20922789888000,355687428096000,6402373705728000,121645100408832000,RRZR0S0RRZR0S0RRZR0S0RRZR0S0RRZR0S0RRZR0S0SSSSSSZ10S0Z8S0Z6S0SZ4S0SSZ2S0Z0S0SZX\u0000\n"
     ]
    },
    {
     "name": "stderr",
     "output_type": "stream",
     "text": [
      "***** Running Evaluation *****\n",
      "  Num examples = 1000\n",
      "  Batch size = 8\n"
     ]
    },
    {
     "name": "stdout",
     "output_type": "stream",
     "text": [
      "real: 2,17,442,4277,22658,83977,246602,615197,1360642,2743553,5141402,9079237,15264002,24622457,38342698,57919277,85201922,122447857,172377722,238235093,RRZR0S0RRZR0S0RRZR0S0RRZR0S0RRZR0S0RRZR0S0SSSSSZ10S0SZ8S0SSSSZ6S0SZ4S0SSSSZ2S0Z0S0SSZX\n",
      "out:  2,17,442,4277,22658,83977,246602,615197,1360642,2743553,5141402,9079237,15264002,24622457,38342698,57919277,85201922,122447857,172377722,238235093,RRZR0S0RRZR0S0RRZR0S0RRZR0S0RRZR0S0RRZR0S0SSSSSZ10S0SZ8S0SSSSZ6S0SZ4S0SSSSZ2S0Z0S0SSZX\u0000\n",
      "fact: 1,1,2,6,24,120,720,5040,40320,362880,3628800,39916800,479001600,6227020800,87178291200,1307674368000,20922789888000,355687428096000,6402373705728000,121645100408832000,RRZR0S0RRZR0S0RRZR0S0RRZR0S0RRZR0S0RRZR0S0SSSSSSZ10S0Z8S0SZ6S0SSSSSSZ4S0SZ2S0Z0S0SZX\u0000\n"
     ]
    },
    {
     "name": "stderr",
     "output_type": "stream",
     "text": [
      "***** Running Evaluation *****\n",
      "  Num examples = 1000\n",
      "  Batch size = 8\n"
     ]
    },
    {
     "name": "stdout",
     "output_type": "stream",
     "text": [
      "real: 2,17,442,4277,22658,83977,246602,615197,1360642,2743553,5141402,9079237,15264002,24622457,38342698,57919277,85201922,122447857,172377722,238235093,RRZR0S0RRZR0S0RRZR0S0RRZR0S0RRZR0S0RRZR0S0SSSSSZ10S0SZ8S0SSSSZ6S0SZ4S0SSSSZ2S0Z0S0SSZX\n",
      "out:  2,17,442,4277,22658,83977,246602,615197,1360642,2743553,5141402,9079237,15264002,24622457,38342698,57919277,85201922,122447857,172377722,238235093,RRZR0S0RRZR0S0RRZR0S0RRZR0S0RRZR0S0RRZR0S0SSSSSZ10S0SZ8S0SSSSZ6S0SZ4S0SSSSZ2S0Z0S0SSZX\u0000\n",
      "fact: 1,1,2,6,24,120,720,5040,40320,362880,3628800,39916800,479001600,6227020800,87178291200,1307674368000,20922789888000,355687428096000,6402373705728000,121645100408832000,RRZR0S0RRZR0S0RRZR0S0RRZR0S0RRZR0S0RRZR0S0SSSSSSZ10S0Z8S0Z6S0SZ4S0SSSSSSZ2S0Z0S0SZX\u0000\n"
     ]
    },
    {
     "name": "stderr",
     "output_type": "stream",
     "text": [
      "***** Running Evaluation *****\n",
      "  Num examples = 1000\n",
      "  Batch size = 8\n"
     ]
    },
    {
     "name": "stdout",
     "output_type": "stream",
     "text": [
      "real: 2,17,442,4277,22658,83977,246602,615197,1360642,2743553,5141402,9079237,15264002,24622457,38342698,57919277,85201922,122447857,172377722,238235093,RRZR0S0RRZR0S0RRZR0S0RRZR0S0RRZR0S0RRZR0S0SSSSSZ10S0SZ8S0SSSSZ6S0SZ4S0SSSSZ2S0Z0S0SSZX\n",
      "out:  2,17,442,4277,22658,83977,246602,615197,1360642,2743553,5141402,9079237,15264002,24622457,38342698,57919277,85201922,122447857,172377722,238235093,RRZR0S0RRZR0S0RRZR0S0RRZR0S0RRZR0S0RRZR0S0SSSSSZ10S0SZ8S0SSSSZ6S0SZ4S0SSSSZ2S0Z0S0SSZX\u0000\n",
      "fact: 1,1,2,6,24,120,720,5040,40320,362880,3628800,39916800,479001600,6227020800,87178291200,1307674368000,20922789888000,355687428096000,6402373705728000,121645100408832000,RRZR0S0RRZR0S0RRZR0S0RRZR0S0RRZR0S0RRZR0S0SSSSSSZ10S0Z8S0SZ6S0SZ4S0SZ2S0Z0S0SZX\u0000\n"
     ]
    },
    {
     "name": "stderr",
     "output_type": "stream",
     "text": [
      "***** Running Evaluation *****\n",
      "  Num examples = 1000\n",
      "  Batch size = 8\n"
     ]
    },
    {
     "name": "stdout",
     "output_type": "stream",
     "text": [
      "real: 2,17,442,4277,22658,83977,246602,615197,1360642,2743553,5141402,9079237,15264002,24622457,38342698,57919277,85201922,122447857,172377722,238235093,RRZR0S0RRZR0S0RRZR0S0RRZR0S0RRZR0S0RRZR0S0SSSSSZ10S0SZ8S0SSSSZ6S0SZ4S0SSSSZ2S0Z0S0SSZX\n",
      "out:  2,17,442,4277,22658,83977,246602,615197,1360642,2743553,5141402,9079237,15264002,24622457,38342698,57919277,85201922,122447857,172377722,238235093,RRZR0S0RRZR0S0RRZR0S0RRZR0S0RRZR0S0RRZR0S0SSSSSZ10S0SZ8S0SSSSZ6S0SZ4S0SSSSZ2S0Z0S0SSZX\u0000\n",
      "fact: 1,1,2,6,24,120,720,5040,40320,362880,3628800,39916800,479001600,6227020800,87178291200,1307674368000,20922789888000,355687428096000,6402373705728000,121645100408832000,RRZR0S0RRZR0S0RRZR0S0RRZR0S0RRZR0S0RRZR0S0SSSSSSZ10S0Z8S0Z6S0SZ4S0Z2S0Z0S0SZX\u0000\n"
     ]
    },
    {
     "name": "stderr",
     "output_type": "stream",
     "text": [
      "***** Running Evaluation *****\n",
      "  Num examples = 1000\n",
      "  Batch size = 8\n"
     ]
    },
    {
     "name": "stdout",
     "output_type": "stream",
     "text": [
      "real: 2,17,442,4277,22658,83977,246602,615197,1360642,2743553,5141402,9079237,15264002,24622457,38342698,57919277,85201922,122447857,172377722,238235093,RRZR0S0RRZR0S0RRZR0S0RRZR0S0RRZR0S0RRZR0S0SSSSSZ10S0SZ8S0SSSSZ6S0SZ4S0SSSSZ2S0Z0S0SSZX\n",
      "out:  2,17,442,4277,22658,83977,246602,615197,1360642,2743553,5141402,9079237,15264002,24622457,38342698,57919277,85201922,122447857,172377722,238235093,RRZR0S0RRZR0S0RRZR0S0RRZR0S0RRZR0S0RRZR0S0SSSSSZ10S0SZ8S0SSSSZ6S0SZ4S0SSSSZ2S0Z0S0SSZX\u0000\n",
      "fact: 1,1,2,6,24,120,720,5040,40320,362880,3628800,39916800,479001600,6227020800,87178291200,1307674368000,20922789888000,355687428096000,6402373705728000,121645100408832000,RRZR0S0RRZR0S0RRZR0S0RRZR0S0RRZR0S0RRZR0S0SSSSSSSZ10S0Z8S0Z6S0SZ4S0Z2S0Z0S0SZX\u0000\n"
     ]
    },
    {
     "name": "stderr",
     "output_type": "stream",
     "text": [
      "***** Running Evaluation *****\n",
      "  Num examples = 1000\n",
      "  Batch size = 8\n"
     ]
    },
    {
     "name": "stdout",
     "output_type": "stream",
     "text": [
      "real: 2,17,442,4277,22658,83977,246602,615197,1360642,2743553,5141402,9079237,15264002,24622457,38342698,57919277,85201922,122447857,172377722,238235093,RRZR0S0RRZR0S0RRZR0S0RRZR0S0RRZR0S0RRZR0S0SSSSSZ10S0SZ8S0SSSSZ6S0SZ4S0SSSSZ2S0Z0S0SSZX\n",
      "out:  2,17,442,4277,22658,83977,246602,615197,1360642,2743553,5141402,9079237,15264002,24622457,38342698,57919277,85201922,122447857,172377722,238235093,RRZR0S0RRZR0S0RRZR0S0RRZR0S0RRZR0S0RRZR0S0SSSSSZ10S0SZ8S0SSSSZ6S0SZ4S0SSSSZ2S0Z0S0SSZX\u0000\n",
      "fact: 1,1,2,6,24,120,720,5040,40320,362880,3628800,39916800,479001600,6227020800,87178291200,1307674368000,20922789888000,355687428096000,6402373705728000,121645100408832000,RRZR0S0RRZR0S0RRZR0S0RRZR0S0RRZR0S0RRZR0S0SSSSSSZ10S0Z8S0Z6S0SZ4S0SZ2S0Z0S0SZX\u0000\n"
     ]
    },
    {
     "name": "stderr",
     "output_type": "stream",
     "text": [
      "***** Running Evaluation *****\n",
      "  Num examples = 1000\n",
      "  Batch size = 8\n"
     ]
    },
    {
     "name": "stdout",
     "output_type": "stream",
     "text": [
      "real: 2,17,442,4277,22658,83977,246602,615197,1360642,2743553,5141402,9079237,15264002,24622457,38342698,57919277,85201922,122447857,172377722,238235093,RRZR0S0RRZR0S0RRZR0S0RRZR0S0RRZR0S0RRZR0S0SSSSSZ10S0SZ8S0SSSSZ6S0SZ4S0SSSSZ2S0Z0S0SSZX\n",
      "out:  2,17,442,4277,22658,83977,246602,615197,1360642,2743553,5141402,9079237,15264002,24622457,38342698,57919277,85201922,122447857,172377722,238235093,RRZR0S0RRZR0S0RRZR0S0RRZR0S0RRZR0S0RRZR0S0SSSSSZ10S0SZ8S0SSSSZ6S0SZ4S0SSSSZ2S0Z0S0SSZX\u0000\n",
      "fact: 1,1,2,6,24,120,720,5040,40320,362880,3628800,39916800,479001600,6227020800,87178291200,1307674368000,20922789888000,355687428096000,6402373705728000,121645100408832000,RRZR0S0RRZR0S0RRZR0S0RRZR0S0RRZR0S0RRZR0S0SSSSSSZ10S0Z8S0SZ6S0SZ4S0SSSSSSZ2S0Z0S0SZX\u0000\n"
     ]
    },
    {
     "name": "stderr",
     "output_type": "stream",
     "text": [
      "***** Running Evaluation *****\n",
      "  Num examples = 1000\n",
      "  Batch size = 8\n"
     ]
    },
    {
     "name": "stdout",
     "output_type": "stream",
     "text": [
      "real: 2,17,442,4277,22658,83977,246602,615197,1360642,2743553,5141402,9079237,15264002,24622457,38342698,57919277,85201922,122447857,172377722,238235093,RRZR0S0RRZR0S0RRZR0S0RRZR0S0RRZR0S0RRZR0S0SSSSSZ10S0SZ8S0SSSSZ6S0SZ4S0SSSSZ2S0Z0S0SSZX\n",
      "out:  2,17,442,4277,22658,83977,246602,615197,1360642,2743553,5141402,9079237,15264002,24622457,38342698,57919277,85201922,122447857,172377722,238235093,RRZR0S0RRZR0S0RRZR0S0RRZR0S0RRZR0S0RRZR0S0SSSSSZ10S0SZ8S0SSSSZ6S0SZ4S0SSSSZ2S0Z0S0SSZX\u0000\n",
      "fact: 1,1,2,6,24,120,720,5040,40320,362880,3628800,39916800,479001600,6227020800,87178291200,1307674368000,20922789888000,355687428096000,6402373705728000,121645100408832000,RRZR0S0RRZR0S0RRZR0S0RRZR0S0RRZR0S0RRZR0S0SSSSSSZ10S0Z8S0Z6S0SZ4S0Z2S0SSSSSSZ0S0SZX\u0000\n"
     ]
    },
    {
     "name": "stderr",
     "output_type": "stream",
     "text": [
      "***** Running Evaluation *****\n",
      "  Num examples = 1000\n",
      "  Batch size = 8\n"
     ]
    },
    {
     "name": "stdout",
     "output_type": "stream",
     "text": [
      "real: 2,17,442,4277,22658,83977,246602,615197,1360642,2743553,5141402,9079237,15264002,24622457,38342698,57919277,85201922,122447857,172377722,238235093,RRZR0S0RRZR0S0RRZR0S0RRZR0S0RRZR0S0RRZR0S0SSSSSZ10S0SZ8S0SSSSZ6S0SZ4S0SSSSZ2S0Z0S0SSZX\n",
      "out:  2,17,442,4277,22658,83977,246602,615197,1360642,2743553,5141402,9079237,15264002,24622457,38342698,57919277,85201922,122447857,172377722,238235093,RRZR0S0RRZR0S0RRZR0S0RRZR0S0RRZR0S0RRZR0S0SSSSSZ10S0SZ8S0SSSSZ6S0SZ4S0SSSSZ2S0Z0S0SSZX\u0000\n",
      "fact: 1,1,2,6,24,120,720,5040,40320,362880,3628800,39916800,479001600,6227020800,87178291200,1307674368000,20922789888000,355687428096000,6402373705728000,121645100408832000,RRZR0S0RRZR0S0RRZR0S0RRZR0S0RRZR0S0RRZR0S0SSSSSSZ10S0Z8S0Z6S0SZ4S0Z2S0SSSSZ0S0SZX\u0000\n"
     ]
    },
    {
     "name": "stderr",
     "output_type": "stream",
     "text": [
      "***** Running Evaluation *****\n",
      "  Num examples = 1000\n",
      "  Batch size = 8\n"
     ]
    },
    {
     "name": "stdout",
     "output_type": "stream",
     "text": [
      "real: 2,17,442,4277,22658,83977,246602,615197,1360642,2743553,5141402,9079237,15264002,24622457,38342698,57919277,85201922,122447857,172377722,238235093,RRZR0S0RRZR0S0RRZR0S0RRZR0S0RRZR0S0RRZR0S0SSSSSZ10S0SZ8S0SSSSZ6S0SZ4S0SSSSZ2S0Z0S0SSZX\n",
      "out:  2,17,442,4277,22658,83977,246602,615197,1360642,2743553,5141402,9079237,15264002,24622457,38342698,57919277,85201922,122447857,172377722,238235093,RRZR0S0RRZR0S0RRZR0S0RRZR0S0RRZR0S0RRZR0S0SSSSSZ10S0SZ8S0SSSSZ6S0SZ4S0SSSSZ2S0Z0S0SSZX\u0000\n",
      "fact: 1,1,2,6,24,120,720,5040,40320,362880,3628800,39916800,479001600,6227020800,87178291200,1307674368000,20922789888000,355687428096000,6402373705728000,121645100408832000,RRZR0S0RRZR0S0RRZR0S0RRZR0S0RRZR0S0RRZR0S0SSSSSSZ10S0Z8S0Z6S0SZ4S0Z2S0SSSSZ0S0SZX\u0000\n"
     ]
    },
    {
     "name": "stderr",
     "output_type": "stream",
     "text": [
      "***** Running Evaluation *****\n",
      "  Num examples = 1000\n",
      "  Batch size = 8\n"
     ]
    },
    {
     "name": "stdout",
     "output_type": "stream",
     "text": [
      "real: 2,17,442,4277,22658,83977,246602,615197,1360642,2743553,5141402,9079237,15264002,24622457,38342698,57919277,85201922,122447857,172377722,238235093,RRZR0S0RRZR0S0RRZR0S0RRZR0S0RRZR0S0RRZR0S0SSSSSZ10S0SZ8S0SSSSZ6S0SZ4S0SSSSZ2S0Z0S0SSZX\n",
      "out:  2,17,442,4277,22658,83977,246602,615197,1360642,2743553,5141402,9079237,15264002,24622457,38342698,57919277,85201922,122447857,172377722,238235093,RRZR0S0RRZR0S0RRZR0S0RRZR0S0RRZR0S0RRZR0S0SSSSSZ10S0SZ8S0SSSSZ6S0SZ4S0SSSSZ2S0Z0S0SSZX\u0000\n",
      "fact: 1,1,2,6,24,120,720,5040,40320,362880,3628800,39916800,479001600,6227020800,87178291200,1307674368000,20922789888000,355687428096000,6402373705728000,121645100408832000,RRZR0S0RRZR0S0RRZR0S0RRZR0S0RRZR0S0RRZR0S0SSSSSSZ10S0Z8S0Z6S0SZ4S0SZ2S0SSSSSZ0S0SZX\u0000\n"
     ]
    },
    {
     "name": "stderr",
     "output_type": "stream",
     "text": [
      "***** Running Evaluation *****\n",
      "  Num examples = 1000\n",
      "  Batch size = 8\n"
     ]
    },
    {
     "name": "stdout",
     "output_type": "stream",
     "text": [
      "real: 2,17,442,4277,22658,83977,246602,615197,1360642,2743553,5141402,9079237,15264002,24622457,38342698,57919277,85201922,122447857,172377722,238235093,RRZR0S0RRZR0S0RRZR0S0RRZR0S0RRZR0S0RRZR0S0SSSSSZ10S0SZ8S0SSSSZ6S0SZ4S0SSSSZ2S0Z0S0SSZX\n",
      "out:  2,17,442,4277,22658,83977,246602,615197,1360642,2743553,5141402,9079237,15264002,24622457,38342698,57919277,85201922,122447857,172377722,238235093,RRZR0S0RRZR0S0RRZR0S0RRZR0S0RRZR0S0RRZR0S0SSSSSZ10S0SZ8S0SSSSZ6S0SZ4S0SSSSZ2S0Z0S0SSZX\u0000\n",
      "fact: 1,1,2,6,24,120,720,5040,40320,362880,3628800,39916800,479001600,6227020800,87178291200,1307674368000,20922789888000,355687428096000,6402373705728000,121645100408832000,RRZR0S0RRZR0S0RRZR0S0RRZR0S0RRZR0S0RRZR0S0SSSSSSZ10S0Z8S0Z6S0SZ4S0SSSSSSZ2S0Z0S0SZX\u0000\n"
     ]
    },
    {
     "name": "stderr",
     "output_type": "stream",
     "text": [
      "***** Running Evaluation *****\n",
      "  Num examples = 1000\n",
      "  Batch size = 8\n"
     ]
    },
    {
     "name": "stdout",
     "output_type": "stream",
     "text": [
      "real: 2,17,442,4277,22658,83977,246602,615197,1360642,2743553,5141402,9079237,15264002,24622457,38342698,57919277,85201922,122447857,172377722,238235093,RRZR0S0RRZR0S0RRZR0S0RRZR0S0RRZR0S0RRZR0S0SSSSSZ10S0SZ8S0SSSSZ6S0SZ4S0SSSSZ2S0Z0S0SSZX\n",
      "out:  2,17,442,4277,22658,83977,246602,615197,1360642,2743553,5141402,9079237,15264002,24622457,38342698,57919277,85201922,122447857,172377722,238235093,RRZR0S0RRZR0S0RRZR0S0RRZR0S0RRZR0S0RRZR0S0SSSSSZ10S0SZ8S0SSSSZ6S0SZ4S0SSSSZ2S0Z0S0SSZX\u0000\n",
      "fact: 1,1,2,6,24,120,720,5040,40320,362880,3628800,39916800,479001600,6227020800,87178291200,1307674368000,20922789888000,355687428096000,6402373705728000,121645100408832000,RRZR0S0RRZR0S0RRZR0S0RRZR0S0RRZR0S0RRZR0S0SSSSSSZ10S0Z8S0Z6S0SZ4S0Z2S0SSSSSSZ0S0SZX\u0000\n"
     ]
    },
    {
     "name": "stderr",
     "output_type": "stream",
     "text": [
      "Saving model checkpoint to ./polys-model-4-dropout-2-cont/checkpoint-20000\n",
      "Trainer.model is not a `PreTrainedModel`, only saving its state dict.\n",
      "***** Running Evaluation *****\n",
      "  Num examples = 1000\n",
      "  Batch size = 8\n"
     ]
    },
    {
     "name": "stdout",
     "output_type": "stream",
     "text": [
      "real: 2,17,442,4277,22658,83977,246602,615197,1360642,2743553,5141402,9079237,15264002,24622457,38342698,57919277,85201922,122447857,172377722,238235093,RRZR0S0RRZR0S0RRZR0S0RRZR0S0RRZR0S0RRZR0S0SSSSSZ10S0SZ8S0SSSSZ6S0SZ4S0SSSSZ2S0Z0S0SSZX\n",
      "out:  2,17,442,4277,22658,83977,246602,615197,1360642,2743553,5141402,9079237,15264002,24622457,38342698,57919277,85201922,122447857,172377722,238235093,RRZR0S0RRZR0S0RRZR0S0RRZR0S0RRZR0S0RRZR0S0SSSSSZ10S0SZ8S0SSSSZ6S0SZ4S0SSSSZ2S0Z0S0SSZX\u0000\n",
      "fact: 1,1,2,6,24,120,720,5040,40320,362880,3628800,39916800,479001600,6227020800,87178291200,1307674368000,20922789888000,355687428096000,6402373705728000,121645100408832000,RRZR0S0RRZR0S0RRZR0S0RRZR0S0RRZR0S0RRZR0S0SSSSSSZ10S0Z8S0Z6S0SZ4S0SSSSSSZ2S0Z0S0SZX\u0000\n"
     ]
    },
    {
     "name": "stderr",
     "output_type": "stream",
     "text": [
      "***** Running Evaluation *****\n",
      "  Num examples = 1000\n",
      "  Batch size = 8\n"
     ]
    },
    {
     "name": "stdout",
     "output_type": "stream",
     "text": [
      "real: 2,17,442,4277,22658,83977,246602,615197,1360642,2743553,5141402,9079237,15264002,24622457,38342698,57919277,85201922,122447857,172377722,238235093,RRZR0S0RRZR0S0RRZR0S0RRZR0S0RRZR0S0RRZR0S0SSSSSZ10S0SZ8S0SSSSZ6S0SZ4S0SSSSZ2S0Z0S0SSZX\n",
      "out:  2,17,442,4277,22658,83977,246602,615197,1360642,2743553,5141402,9079237,15264002,24622457,38342698,57919277,85201922,122447857,172377722,238235093,RRZR0S0RRZR0S0RRZR0S0RRZR0S0RRZR0S0RRZR0S0SSSSSZ10S0SZ8S0SSSSZ6S0SZ4S0SSSSZ2S0Z0S0SSZX\u0000\n",
      "fact: 1,1,2,6,24,120,720,5040,40320,362880,3628800,39916800,479001600,6227020800,87178291200,1307674368000,20922789888000,355687428096000,6402373705728000,121645100408832000,RRZR0S0RRZR0S0RRZR0S0RRZR0S0RRZR0S0RRZR0S0SSSSSSZ10S0Z8S0Z6S0SZ4S0SZ2S0SSSSSSZ0S0SZX\u0000\n"
     ]
    },
    {
     "name": "stderr",
     "output_type": "stream",
     "text": [
      "***** Running Evaluation *****\n",
      "  Num examples = 1000\n",
      "  Batch size = 8\n"
     ]
    },
    {
     "name": "stdout",
     "output_type": "stream",
     "text": [
      "real: 2,17,442,4277,22658,83977,246602,615197,1360642,2743553,5141402,9079237,15264002,24622457,38342698,57919277,85201922,122447857,172377722,238235093,RRZR0S0RRZR0S0RRZR0S0RRZR0S0RRZR0S0RRZR0S0SSSSSZ10S0SZ8S0SSSSZ6S0SZ4S0SSSSZ2S0Z0S0SSZX\n",
      "out:  2,17,442,4277,22658,83977,246602,615197,1360642,2743553,5141402,9079237,15264002,24622457,38342698,57919277,85201922,122447857,172377722,238235093,RRZR0S0RRZR0S0RRZR0S0RRZR0S0RRZR0S0RRZR0S0SSSSSZ10S0SZ8S0SSSSZ6S0SZ4S0SSSSZ2S0Z0S0SSZX\u0000\n",
      "fact: 1,1,2,6,24,120,720,5040,40320,362880,3628800,39916800,479001600,6227020800,87178291200,1307674368000,20922789888000,355687428096000,6402373705728000,121645100408832000,RRZR0S0RRZR0S0RRZR0S0RRZR0S0RRZR0S0RRZR0S0SSSSSSZ10S0Z8S0Z6S0Z4S0SSSSSSZ2S0Z0S0SZX\u0000\n"
     ]
    },
    {
     "name": "stderr",
     "output_type": "stream",
     "text": [
      "***** Running Evaluation *****\n",
      "  Num examples = 1000\n",
      "  Batch size = 8\n"
     ]
    },
    {
     "name": "stdout",
     "output_type": "stream",
     "text": [
      "real: 2,17,442,4277,22658,83977,246602,615197,1360642,2743553,5141402,9079237,15264002,24622457,38342698,57919277,85201922,122447857,172377722,238235093,RRZR0S0RRZR0S0RRZR0S0RRZR0S0RRZR0S0RRZR0S0SSSSSZ10S0SZ8S0SSSSZ6S0SZ4S0SSSSZ2S0Z0S0SSZX\n",
      "out:  2,17,442,4277,22658,83977,246602,615197,1360642,2743553,5141402,9079237,15264002,24622457,38342698,57919277,85201922,122447857,172377722,238235093,RRZR0S0RRZR0S0RRZR0S0RRZR0S0RRZR0S0RRZR0S0SSSSSZ10S0SZ8S0SSSSZ6S0SZ4S0SSSSZ2S0Z0S0SSZX\u0000\n",
      "fact: 1,1,2,6,24,120,720,5040,40320,362880,3628800,39916800,479001600,6227020800,87178291200,1307674368000,20922789888000,355687428096000,6402373705728000,121645100408832000,RRZR0S0RRZR0S0RRZR0S0RRZR0S0RRZR0S0RRZR0S0SSSSSSZ10S0Z8S0Z6S0SZ4S0SSSSSSZ2S0Z0S0SZX\u0000\n"
     ]
    },
    {
     "name": "stderr",
     "output_type": "stream",
     "text": [
      "***** Running Evaluation *****\n",
      "  Num examples = 1000\n",
      "  Batch size = 8\n"
     ]
    },
    {
     "name": "stdout",
     "output_type": "stream",
     "text": [
      "real: 2,17,442,4277,22658,83977,246602,615197,1360642,2743553,5141402,9079237,15264002,24622457,38342698,57919277,85201922,122447857,172377722,238235093,RRZR0S0RRZR0S0RRZR0S0RRZR0S0RRZR0S0RRZR0S0SSSSSZ10S0SZ8S0SSSSZ6S0SZ4S0SSSSZ2S0Z0S0SSZX\n",
      "out:  2,17,442,4277,22658,83977,246602,615197,1360642,2743553,5141402,9079237,15264002,24622457,38342698,57919277,85201922,122447857,172377722,238235093,RRZR0S0RRZR0S0RRZR0S0RRZR0S0RRZR0S0RRZR0S0SSSSSZ10S0SZ8S0SSSSZ6S0SZ4S0SSSSZ2S0Z0S0SSZX\u0000\n",
      "fact: 1,1,2,6,24,120,720,5040,40320,362880,3628800,39916800,479001600,6227020800,87178291200,1307674368000,20922789888000,355687428096000,6402373705728000,121645100408832000,RRZR0S0RRZR0S0RRZR0S0RRZR0S0RRZR0S0RRZR0S0SSSSSSZ10S0Z8S0Z6S0SZ4S0Z2S0SSSSSSZ0S0SZX\u0000\n"
     ]
    },
    {
     "name": "stderr",
     "output_type": "stream",
     "text": [
      "***** Running Evaluation *****\n",
      "  Num examples = 1000\n",
      "  Batch size = 8\n"
     ]
    },
    {
     "name": "stdout",
     "output_type": "stream",
     "text": [
      "real: 2,17,442,4277,22658,83977,246602,615197,1360642,2743553,5141402,9079237,15264002,24622457,38342698,57919277,85201922,122447857,172377722,238235093,RRZR0S0RRZR0S0RRZR0S0RRZR0S0RRZR0S0RRZR0S0SSSSSZ10S0SZ8S0SSSSZ6S0SZ4S0SSSSZ2S0Z0S0SSZX\n",
      "out:  2,17,442,4277,22658,83977,246602,615197,1360642,2743553,5141402,9079237,15264002,24622457,38342698,57919277,85201922,122447857,172377722,238235093,RRZR0S0RRZR0S0RRZR0S0RRZR0S0RRZR0S0RRZR0S0SSSSSZ10S0SZ8S0SSSSZ6S0SZ4S0SSSSZ2S0Z0S0SSZX\u0000\n",
      "fact: 1,1,2,6,24,120,720,5040,40320,362880,3628800,39916800,479001600,6227020800,87178291200,1307674368000,20922789888000,355687428096000,6402373705728000,121645100408832000,RRZR0S0RRZR0S0RRZR0S0RRZR0S0RRZR0S0RRZR0S0SSSSSSZ10S0Z8S0Z6S0SZ4S0SZ2S0SSSSSZ0S0SZX\u0000\n"
     ]
    },
    {
     "name": "stderr",
     "output_type": "stream",
     "text": [
      "***** Running Evaluation *****\n",
      "  Num examples = 1000\n",
      "  Batch size = 8\n"
     ]
    },
    {
     "name": "stdout",
     "output_type": "stream",
     "text": [
      "real: 2,17,442,4277,22658,83977,246602,615197,1360642,2743553,5141402,9079237,15264002,24622457,38342698,57919277,85201922,122447857,172377722,238235093,RRZR0S0RRZR0S0RRZR0S0RRZR0S0RRZR0S0RRZR0S0SSSSSZ10S0SZ8S0SSSSZ6S0SZ4S0SSSSZ2S0Z0S0SSZX\n",
      "out:  2,17,442,4277,22658,83977,246602,615197,1360642,2743553,5141402,9079237,15264002,24622457,38342698,57919277,85201922,122447857,172377722,238235093,RRZR0S0RRZR0S0RRZR0S0RRZR0S0RRZR0S0RRZR0S0SSSSSZ10S0SZ8S0SSSSZ6S0SZ4S0SSSSZ2S0Z0S0SSZX\u0000\n",
      "fact: 1,1,2,6,24,120,720,5040,40320,362880,3628800,39916800,479001600,6227020800,87178291200,1307674368000,20922789888000,355687428096000,6402373705728000,121645100408832000,RRZR0S0RRZR0S0RRZR0S0RRZR0S0RRZR0S0RRZR0S0SSSSSSZ10S0Z8S0Z6S0SZ4S0SZ2S0SSSSSSZ0S0SZX\u0000\n"
     ]
    },
    {
     "name": "stderr",
     "output_type": "stream",
     "text": [
      "***** Running Evaluation *****\n",
      "  Num examples = 1000\n",
      "  Batch size = 8\n"
     ]
    },
    {
     "name": "stdout",
     "output_type": "stream",
     "text": [
      "real: 2,17,442,4277,22658,83977,246602,615197,1360642,2743553,5141402,9079237,15264002,24622457,38342698,57919277,85201922,122447857,172377722,238235093,RRZR0S0RRZR0S0RRZR0S0RRZR0S0RRZR0S0RRZR0S0SSSSSZ10S0SZ8S0SSSSZ6S0SZ4S0SSSSZ2S0Z0S0SSZX\n",
      "out:  2,17,442,4277,22658,83977,246602,615197,1360642,2743553,5141402,9079237,15264002,24622457,38342698,57919277,85201922,122447857,172377722,238235093,RRZR0S0RRZR0S0RRZR0S0RRZR0S0RRZR0S0RRZR0S0SSSSSZ10S0SZ8S0SSSSZ6S0SZ4S0SSSSZ2S0Z0S0SSZX\u0000\n",
      "fact: 1,1,2,6,24,120,720,5040,40320,362880,3628800,39916800,479001600,6227020800,87178291200,1307674368000,20922789888000,355687428096000,6402373705728000,121645100408832000,RRZR0S0RRZR0S0RRZR0S0RRZR0S0RRZR0S0RRZR0S0SSSSSSZ10S0Z8S0Z6S0SSSSSSZ4S0Z2S0Z0S0SZX\u0000\n"
     ]
    },
    {
     "name": "stderr",
     "output_type": "stream",
     "text": [
      "***** Running Evaluation *****\n",
      "  Num examples = 1000\n",
      "  Batch size = 8\n"
     ]
    },
    {
     "name": "stdout",
     "output_type": "stream",
     "text": [
      "real: 2,17,442,4277,22658,83977,246602,615197,1360642,2743553,5141402,9079237,15264002,24622457,38342698,57919277,85201922,122447857,172377722,238235093,RRZR0S0RRZR0S0RRZR0S0RRZR0S0RRZR0S0RRZR0S0SSSSSZ10S0SZ8S0SSSSZ6S0SZ4S0SSSSZ2S0Z0S0SSZX\n",
      "out:  2,17,442,4277,22658,83977,246602,615197,1360642,2743553,5141402,9079237,15264002,24622457,38342698,57919277,85201922,122447857,172377722,238235093,RRZR0S0RRZR0S0RRZR0S0RRZR0S0RRZR0S0RRZR0S0SSSSSZ10S0SZ8S0SSSSZ6S0SZ4S0SSSSZ2S0Z0S0SSZX\u0000\n",
      "fact: 1,1,2,6,24,120,720,5040,40320,362880,3628800,39916800,479001600,6227020800,87178291200,1307674368000,20922789888000,355687428096000,6402373705728000,121645100408832000,RRZR0S0RRZR0S0RRZR0S0RRZR0S0RRZR0S0RRZR0S0SSSSSSZ10S0Z8S0Z6S0SZ4S0SSSSSSZ2S0Z0S0SZX\u0000\n"
     ]
    },
    {
     "name": "stderr",
     "output_type": "stream",
     "text": [
      "***** Running Evaluation *****\n",
      "  Num examples = 1000\n",
      "  Batch size = 8\n"
     ]
    },
    {
     "name": "stdout",
     "output_type": "stream",
     "text": [
      "real: 2,17,442,4277,22658,83977,246602,615197,1360642,2743553,5141402,9079237,15264002,24622457,38342698,57919277,85201922,122447857,172377722,238235093,RRZR0S0RRZR0S0RRZR0S0RRZR0S0RRZR0S0RRZR0S0SSSSSZ10S0SZ8S0SSSSZ6S0SZ4S0SSSSZ2S0Z0S0SSZX\n",
      "out:  2,17,442,4277,22658,83977,246602,615197,1360642,2743553,5141402,9079237,15264002,24622457,38342698,57919277,85201922,122447857,172377722,238235093,RRZR0S0RRZR0S0RRZR0S0RRZR0S0RRZR0S0RRZR0S0SSSSSZ10S0SZ8S0SSSSZ6S0SZ4S0SSSSZ2S0Z0S0SSZX\u0000\n",
      "fact: 1,1,2,6,24,120,720,5040,40320,362880,3628800,39916800,479001600,6227020800,87178291200,1307674368000,20922789888000,355687428096000,6402373705728000,121645100408832000,RRZR0S0RRZR0S0RRZR0S0RRZR0S0RRZR0S0RRZR0S0SSSSSSZ10S0Z8S0Z6S0SSSSSSZ4S0Z2S0Z0S0SZX\u0000\n"
     ]
    },
    {
     "name": "stderr",
     "output_type": "stream",
     "text": [
      "***** Running Evaluation *****\n",
      "  Num examples = 1000\n",
      "  Batch size = 8\n"
     ]
    },
    {
     "name": "stdout",
     "output_type": "stream",
     "text": [
      "real: 2,17,442,4277,22658,83977,246602,615197,1360642,2743553,5141402,9079237,15264002,24622457,38342698,57919277,85201922,122447857,172377722,238235093,RRZR0S0RRZR0S0RRZR0S0RRZR0S0RRZR0S0RRZR0S0SSSSSZ10S0SZ8S0SSSSZ6S0SZ4S0SSSSZ2S0Z0S0SSZX\n",
      "out:  2,17,442,4277,22658,83977,246602,615197,1360642,2743553,5141402,9079237,15264002,24622457,38342698,57919277,85201922,122447857,172377722,238235093,RRZR0S0RRZR0S0RRZR0S0RRZR0S0RRZR0S0RRZR0S0SSSSSZ10S0SZ8S0SSSSZ6S0SZ4S0SSSSZ2S0Z0S0SSZX\u0000\n",
      "fact: 1,1,2,6,24,120,720,5040,40320,362880,3628800,39916800,479001600,6227020800,87178291200,1307674368000,20922789888000,355687428096000,6402373705728000,121645100408832000,RRZR0S0RRZR0S0RRZR0S0RRZR0S0RRZR0S0RRZR0S0SSSSSSZ10S0Z8S0Z6S0SZ4S0SSSSSSZ2S0Z0S0SZX\u0000\n"
     ]
    },
    {
     "name": "stderr",
     "output_type": "stream",
     "text": [
      "***** Running Evaluation *****\n",
      "  Num examples = 1000\n",
      "  Batch size = 8\n"
     ]
    },
    {
     "name": "stdout",
     "output_type": "stream",
     "text": [
      "real: 2,17,442,4277,22658,83977,246602,615197,1360642,2743553,5141402,9079237,15264002,24622457,38342698,57919277,85201922,122447857,172377722,238235093,RRZR0S0RRZR0S0RRZR0S0RRZR0S0RRZR0S0RRZR0S0SSSSSZ10S0SZ8S0SSSSZ6S0SZ4S0SSSSZ2S0Z0S0SSZX\n",
      "out:  2,17,442,4277,22658,83977,246602,615197,1360642,2743553,5141402,9079237,15264002,24622457,38342698,57919277,85201922,122447857,172377722,238235093,RRZR0S0RRZR0S0RRZR0S0RRZR0S0RRZR0S0RRZR0S0SSSSSZ10S0SZ8S0SSSSZ6S0SZ4S0SSSSZ2S0Z0S0SSZX\u0000\n",
      "fact: 1,1,2,6,24,120,720,5040,40320,362880,3628800,39916800,479001600,6227020800,87178291200,1307674368000,20922789888000,355687428096000,6402373705728000,121645100408832000,RRZR0S0RRZR0S0RRZR0S0RRZR0S0RRZR0S0RRZR0S0SSSSSSZ10S0Z8S0Z6S0SZ4S0SSSSSSZ2S0Z0S0SZX\u0000\n"
     ]
    },
    {
     "name": "stderr",
     "output_type": "stream",
     "text": [
      "***** Running Evaluation *****\n",
      "  Num examples = 1000\n",
      "  Batch size = 8\n"
     ]
    },
    {
     "name": "stdout",
     "output_type": "stream",
     "text": [
      "real: 2,17,442,4277,22658,83977,246602,615197,1360642,2743553,5141402,9079237,15264002,24622457,38342698,57919277,85201922,122447857,172377722,238235093,RRZR0S0RRZR0S0RRZR0S0RRZR0S0RRZR0S0RRZR0S0SSSSSZ10S0SZ8S0SSSSZ6S0SZ4S0SSSSZ2S0Z0S0SSZX\n",
      "out:  2,17,442,4277,22658,83977,246602,615197,1360642,2743553,5141402,9079237,15264002,24622457,38342698,57919277,85201922,122447857,172377722,238235093,RRZR0S0RRZR0S0RRZR0S0RRZR0S0RRZR0S0RRZR0S0SSSSSZ10S0SZ8S0SSSSZ6S0SZ4S0SSSSZ2S0Z0S0SSZX\u0000\n",
      "fact: 1,1,2,6,24,120,720,5040,40320,362880,3628800,39916800,479001600,6227020800,87178291200,1307674368000,20922789888000,355687428096000,6402373705728000,121645100408832000,RRZR0S0RRZR0S0RRZR0S0RRZR0S0RRZR0S0RRZR0S0SSSSSSZ10S0Z8S0Z6S0SZ4S0SSSSSSZ2S0Z0S0SZX\u0000\n"
     ]
    },
    {
     "name": "stderr",
     "output_type": "stream",
     "text": [
      "***** Running Evaluation *****\n",
      "  Num examples = 1000\n",
      "  Batch size = 8\n"
     ]
    },
    {
     "name": "stdout",
     "output_type": "stream",
     "text": [
      "real: 2,17,442,4277,22658,83977,246602,615197,1360642,2743553,5141402,9079237,15264002,24622457,38342698,57919277,85201922,122447857,172377722,238235093,RRZR0S0RRZR0S0RRZR0S0RRZR0S0RRZR0S0RRZR0S0SSSSSZ10S0SZ8S0SSSSZ6S0SZ4S0SSSSZ2S0Z0S0SSZX\n",
      "out:  2,17,442,4277,22658,83977,246602,615197,1360642,2743553,5141402,9079237,15264002,24622457,38342698,57919277,85201922,122447857,172377722,238235093,RRZR0S0RRZR0S0RRZR0S0RRZR0S0RRZR0S0RRZR0S0SSSSSZ10S0SZ8S0SSSSZ6S0SZ4S0SSSSZ2S0Z0S0SSZX\u0000\n",
      "fact: 1,1,2,6,24,120,720,5040,40320,362880,3628800,39916800,479001600,6227020800,87178291200,1307674368000,20922789888000,355687428096000,6402373705728000,121645100408832000,RRZR0S0RRZR0S0RRZR0S0RRZR0S0RRZR0S0RRZR0S0SSSSSSZ10S0Z8S0Z6S0SZ4S0SZ2S0Z0S0SZX\u0000\n"
     ]
    },
    {
     "name": "stderr",
     "output_type": "stream",
     "text": [
      "***** Running Evaluation *****\n",
      "  Num examples = 1000\n",
      "  Batch size = 8\n"
     ]
    },
    {
     "name": "stdout",
     "output_type": "stream",
     "text": [
      "real: 2,17,442,4277,22658,83977,246602,615197,1360642,2743553,5141402,9079237,15264002,24622457,38342698,57919277,85201922,122447857,172377722,238235093,RRZR0S0RRZR0S0RRZR0S0RRZR0S0RRZR0S0RRZR0S0SSSSSZ10S0SZ8S0SSSSZ6S0SZ4S0SSSSZ2S0Z0S0SSZX\n",
      "out:  2,17,442,4277,22658,83977,246602,615197,1360642,2743553,5141402,9079237,15264002,24622457,38342698,57919277,85201922,122447857,172377722,238235093,RRZR0S0RRZR0S0RRZR0S0RRZR0S0RRZR0S0RRZR0S0SSSSSZ10S0SZ8S0SSSSZ6S0SZ4S0SSSSZ2S0Z0S0SSZX\u0000\n",
      "fact: 1,1,2,6,24,120,720,5040,40320,362880,3628800,39916800,479001600,6227020800,87178291200,1307674368000,20922789888000,355687428096000,6402373705728000,121645100408832000,RRZR0S0RRZR0S0RRZR0S0RRZR0S0RRZR0S0RRZR0S0SSSSSSZ10S0Z8S0Z6S0SZ4S0SSSSSSZ2S0Z0S0SZX\u0000\n"
     ]
    },
    {
     "name": "stderr",
     "output_type": "stream",
     "text": [
      "***** Running Evaluation *****\n",
      "  Num examples = 1000\n",
      "  Batch size = 8\n"
     ]
    },
    {
     "name": "stdout",
     "output_type": "stream",
     "text": [
      "real: 2,17,442,4277,22658,83977,246602,615197,1360642,2743553,5141402,9079237,15264002,24622457,38342698,57919277,85201922,122447857,172377722,238235093,RRZR0S0RRZR0S0RRZR0S0RRZR0S0RRZR0S0RRZR0S0SSSSSZ10S0SZ8S0SSSSZ6S0SZ4S0SSSSZ2S0Z0S0SSZX\n",
      "out:  2,17,442,4277,22658,83977,246602,615197,1360642,2743553,5141402,9079237,15264002,24622457,38342698,57919277,85201922,122447857,172377722,238235093,RRZR0S0RRZR0S0RRZR0S0RRZR0S0RRZR0S0RRZR0S0SSSSSZ10S0SZ8S0SSSSZ6S0SZ4S0SSSSZ2S0Z0S0SSZX\u0000\n",
      "fact: 1,1,2,6,24,120,720,5040,40320,362880,3628800,39916800,479001600,6227020800,87178291200,1307674368000,20922789888000,355687428096000,6402373705728000,121645100408832000,RRZR0S0RRZR0S0RRZR0S0RRZR0S0RRZR0S0RRZR0S0SSSSSSZ10S0Z8S0Z6S0SZ4S0Z2S0SSSSSSZ0S0SZX\u0000\n"
     ]
    },
    {
     "name": "stderr",
     "output_type": "stream",
     "text": [
      "***** Running Evaluation *****\n",
      "  Num examples = 1000\n",
      "  Batch size = 8\n"
     ]
    },
    {
     "name": "stdout",
     "output_type": "stream",
     "text": [
      "real: 2,17,442,4277,22658,83977,246602,615197,1360642,2743553,5141402,9079237,15264002,24622457,38342698,57919277,85201922,122447857,172377722,238235093,RRZR0S0RRZR0S0RRZR0S0RRZR0S0RRZR0S0RRZR0S0SSSSSZ10S0SZ8S0SSSSZ6S0SZ4S0SSSSZ2S0Z0S0SSZX\n",
      "out:  2,17,442,4277,22658,83977,246602,615197,1360642,2743553,5141402,9079237,15264002,24622457,38342698,57919277,85201922,122447857,172377722,238235093,RRZR0S0RRZR0S0RRZR0S0RRZR0S0RRZR0S0RRZR0S0SSSSSZ10S0SZ8S0SSSSZ6S0SZ4S0SSSSZ2S0Z0S0SSZX\u0000\n",
      "fact: 1,1,2,6,24,120,720,5040,40320,362880,3628800,39916800,479001600,6227020800,87178291200,1307674368000,20922789888000,355687428096000,6402373705728000,121645100408832000,RRZR0S0RRZR0S0RRZR0S0RRZR0S0RRZR0S0RRZR0S0SSSSSSZ10S0Z8S0Z6S0SZ4S0SSSSSSZ2S0Z0S0SZX\u0000\n"
     ]
    },
    {
     "name": "stderr",
     "output_type": "stream",
     "text": [
      "***** Running Evaluation *****\n",
      "  Num examples = 1000\n",
      "  Batch size = 8\n"
     ]
    },
    {
     "name": "stdout",
     "output_type": "stream",
     "text": [
      "real: 2,17,442,4277,22658,83977,246602,615197,1360642,2743553,5141402,9079237,15264002,24622457,38342698,57919277,85201922,122447857,172377722,238235093,RRZR0S0RRZR0S0RRZR0S0RRZR0S0RRZR0S0RRZR0S0SSSSSZ10S0SZ8S0SSSSZ6S0SZ4S0SSSSZ2S0Z0S0SSZX\n",
      "out:  2,17,442,4277,22658,83977,246602,615197,1360642,2743553,5141402,9079237,15264002,24622457,38342698,57919277,85201922,122447857,172377722,238235093,RRZR0S0RRZR0S0RRZR0S0RRZR0S0RRZR0S0RRZR0S0SSSSSZ10S0SZ8S0SSSSZ6S0SZ4S0SSSSZ2S0Z0S0SSZX\u0000\n",
      "fact: 1,1,2,6,24,120,720,5040,40320,362880,3628800,39916800,479001600,6227020800,87178291200,1307674368000,20922789888000,355687428096000,6402373705728000,121645100408832000,RRZR0S0RRZR0S0RRZR0S0RRZR0S0RRZR0S0RRZR0S0SSSSSSZ10S0Z8S0Z6S0SZ4S0SZ2S0SSSSSSZ0S0SZX\u0000\n"
     ]
    },
    {
     "name": "stderr",
     "output_type": "stream",
     "text": [
      "***** Running Evaluation *****\n",
      "  Num examples = 1000\n",
      "  Batch size = 8\n"
     ]
    },
    {
     "name": "stdout",
     "output_type": "stream",
     "text": [
      "real: 2,17,442,4277,22658,83977,246602,615197,1360642,2743553,5141402,9079237,15264002,24622457,38342698,57919277,85201922,122447857,172377722,238235093,RRZR0S0RRZR0S0RRZR0S0RRZR0S0RRZR0S0RRZR0S0SSSSSZ10S0SZ8S0SSSSZ6S0SZ4S0SSSSZ2S0Z0S0SSZX\n",
      "out:  2,17,442,4277,22658,83977,246602,615197,1360642,2743553,5141402,9079237,15264002,24622457,38342698,57919277,85201922,122447857,172377722,238235093,RRZR0S0RRZR0S0RRZR0S0RRZR0S0RRZR0S0RRZR0S0SSSSSZ10S0SZ8S0SSSSZ6S0SZ4S0SSSSZ2S0Z0S0SSZX\u0000\n",
      "fact: 1,1,2,6,24,120,720,5040,40320,362880,3628800,39916800,479001600,6227020800,87178291200,1307674368000,20922789888000,355687428096000,6402373705728000,121645100408832000,RRZR0S0RRZR0S0RRZR0S0RRZR0S0RRZR0S0RRZR0S0SSSSSSZ10S0Z8S0Z6S0SSSSSSZ4S0SZ2S0Z0S0SZX\u0000\n"
     ]
    },
    {
     "name": "stderr",
     "output_type": "stream",
     "text": [
      "***** Running Evaluation *****\n",
      "  Num examples = 1000\n",
      "  Batch size = 8\n"
     ]
    },
    {
     "name": "stdout",
     "output_type": "stream",
     "text": [
      "real: 2,17,442,4277,22658,83977,246602,615197,1360642,2743553,5141402,9079237,15264002,24622457,38342698,57919277,85201922,122447857,172377722,238235093,RRZR0S0RRZR0S0RRZR0S0RRZR0S0RRZR0S0RRZR0S0SSSSSZ10S0SZ8S0SSSSZ6S0SZ4S0SSSSZ2S0Z0S0SSZX\n",
      "out:  2,17,442,4277,22658,83977,246602,615197,1360642,2743553,5141402,9079237,15264002,24622457,38342698,57919277,85201922,122447857,172377722,238235093,RRZR0S0RRZR0S0RRZR0S0RRZR0S0RRZR0S0RRZR0S0SSSSSZ10S0SZ8S0SSSSZ6S0SZ4S0SSSSZ2S0Z0S0SSZX\u0000\n",
      "fact: 1,1,2,6,24,120,720,5040,40320,362880,3628800,39916800,479001600,6227020800,87178291200,1307674368000,20922789888000,355687428096000,6402373705728000,121645100408832000,RRZR0S0RRZR0S0RRZR0S0RRZR0S0RRZR0S0SSSSSSSZ8S0Z6S0Z4S0SZ2S0SSZ0S0SZX\u0000\n"
     ]
    },
    {
     "name": "stderr",
     "output_type": "stream",
     "text": [
      "Saving model checkpoint to ./polys-model-4-dropout-2-cont/checkpoint-30000\n",
      "Trainer.model is not a `PreTrainedModel`, only saving its state dict.\n",
      "***** Running Evaluation *****\n",
      "  Num examples = 1000\n",
      "  Batch size = 8\n"
     ]
    },
    {
     "name": "stdout",
     "output_type": "stream",
     "text": [
      "real: 2,17,442,4277,22658,83977,246602,615197,1360642,2743553,5141402,9079237,15264002,24622457,38342698,57919277,85201922,122447857,172377722,238235093,RRZR0S0RRZR0S0RRZR0S0RRZR0S0RRZR0S0RRZR0S0SSSSSZ10S0SZ8S0SSSSZ6S0SZ4S0SSSSZ2S0Z0S0SSZX\n",
      "out:  2,17,442,4277,22658,83977,246602,615197,1360642,2743553,5141402,9079237,15264002,24622457,38342698,57919277,85201922,122447857,172377722,238235093,RRZR0S0RRZR0S0RRZR0S0RRZR0S0RRZR0S0RRZR0S0SSSSSZ10S0SZ8S0SSSSZ6S0SZ4S0SSSSZ2S0Z0S0SSZX\u0000\n",
      "fact: 1,1,2,6,24,120,720,5040,40320,362880,3628800,39916800,479001600,6227020800,87178291200,1307674368000,20922789888000,355687428096000,6402373705728000,121645100408832000,RRZR0S0RRZR0S0RRZR0S0RRZR0S0RRZR0S0RRZR0S0SSSSSSZ10S0Z8S0Z6S0SZ4S0SZ2S0SSSSSSZ0S0SZX\u0000\n"
     ]
    },
    {
     "name": "stderr",
     "output_type": "stream",
     "text": [
      "***** Running Evaluation *****\n",
      "  Num examples = 1000\n",
      "  Batch size = 8\n"
     ]
    },
    {
     "name": "stdout",
     "output_type": "stream",
     "text": [
      "real: 2,17,442,4277,22658,83977,246602,615197,1360642,2743553,5141402,9079237,15264002,24622457,38342698,57919277,85201922,122447857,172377722,238235093,RRZR0S0RRZR0S0RRZR0S0RRZR0S0RRZR0S0RRZR0S0SSSSSZ10S0SZ8S0SSSSZ6S0SZ4S0SSSSZ2S0Z0S0SSZX\n",
      "out:  2,17,442,4277,22658,83977,246602,615197,1360642,2743553,5141402,9079237,15264002,24622457,38342698,57919277,85201922,122447857,172377722,238235093,RRZR0S0RRZR0S0RRZR0S0RRZR0S0RRZR0S0RRZR0S0SSSSSZ10S0SZ8S0SSSSZ6S0SZ4S0SSSSZ2S0Z0S0SSZX\u0000\n",
      "fact: 1,1,2,6,24,120,720,5040,40320,362880,3628800,39916800,479001600,6227020800,87178291200,1307674368000,20922789888000,355687428096000,6402373705728000,121645100408832000,RRZR0S0RRZR0S0RRZR0S0RRZR0S0RRZR0S0RRZR0S0SSSSSSZ10S0Z8S0Z6S0SZ4S0SSSSSSZ2S0Z0S0SZX\u0000\n"
     ]
    },
    {
     "name": "stderr",
     "output_type": "stream",
     "text": [
      "***** Running Evaluation *****\n",
      "  Num examples = 1000\n",
      "  Batch size = 8\n"
     ]
    },
    {
     "name": "stdout",
     "output_type": "stream",
     "text": [
      "real: 2,17,442,4277,22658,83977,246602,615197,1360642,2743553,5141402,9079237,15264002,24622457,38342698,57919277,85201922,122447857,172377722,238235093,RRZR0S0RRZR0S0RRZR0S0RRZR0S0RRZR0S0RRZR0S0SSSSSZ10S0SZ8S0SSSSZ6S0SZ4S0SSSSZ2S0Z0S0SSZX\n",
      "out:  2,17,442,4277,22658,83977,246602,615197,1360642,2743553,5141402,9079237,15264002,24622457,38342698,57919277,85201922,122447857,172377722,238235093,RRZR0S0RRZR0S0RRZR0S0RRZR0S0RRZR0S0RRZR0S0SSSSSZ10S0SZ8S0SSSSZ6S0SZ4S0SSSSZ2S0Z0S0SSZX\u0000\n",
      "fact: 1,1,2,6,24,120,720,5040,40320,362880,3628800,39916800,479001600,6227020800,87178291200,1307674368000,20922789888000,355687428096000,6402373705728000,121645100408832000,RRZR0S0RRZR0S0RRZR0S0RRZR0S0RRZR0S0RRZR0S0SSSSSSZ10S0Z8S0Z6S0SZ4S0SSSSSSZ2S0Z0S0SZX\u0000\n"
     ]
    },
    {
     "name": "stderr",
     "output_type": "stream",
     "text": [
      "***** Running Evaluation *****\n",
      "  Num examples = 1000\n",
      "  Batch size = 8\n"
     ]
    },
    {
     "name": "stdout",
     "output_type": "stream",
     "text": [
      "real: 2,17,442,4277,22658,83977,246602,615197,1360642,2743553,5141402,9079237,15264002,24622457,38342698,57919277,85201922,122447857,172377722,238235093,RRZR0S0RRZR0S0RRZR0S0RRZR0S0RRZR0S0RRZR0S0SSSSSZ10S0SZ8S0SSSSZ6S0SZ4S0SSSSZ2S0Z0S0SSZX\n",
      "out:  2,17,442,4277,22658,83977,246602,615197,1360642,2743553,5141402,9079237,15264002,24622457,38342698,57919277,85201922,122447857,172377722,238235093,RRZR0S0RRZR0S0RRZR0S0RRZR0S0RRZR0S0RRZR0S0SSSSSZ10S0SZ8S0SSSSZ6S0SZ4S0SSSSZ2S0Z0S0SSZX\u0000\n",
      "fact: 1,1,2,6,24,120,720,5040,40320,362880,3628800,39916800,479001600,6227020800,87178291200,1307674368000,20922789888000,355687428096000,6402373705728000,121645100408832000,RRZR0S0RRZR0S0RRZR0S0RRZR0S0RRZR0S0SSSSSSSZ10S0Z8S0Z6S0Z4S0SZ2S0SZ0S0SZX\u0000\n"
     ]
    },
    {
     "name": "stderr",
     "output_type": "stream",
     "text": [
      "***** Running Evaluation *****\n",
      "  Num examples = 1000\n",
      "  Batch size = 8\n"
     ]
    },
    {
     "name": "stdout",
     "output_type": "stream",
     "text": [
      "real: 2,17,442,4277,22658,83977,246602,615197,1360642,2743553,5141402,9079237,15264002,24622457,38342698,57919277,85201922,122447857,172377722,238235093,RRZR0S0RRZR0S0RRZR0S0RRZR0S0RRZR0S0RRZR0S0SSSSSZ10S0SZ8S0SSSSZ6S0SZ4S0SSSSZ2S0Z0S0SSZX\n",
      "out:  2,17,442,4277,22658,83977,246602,615197,1360642,2743553,5141402,9079237,15264002,24622457,38342698,57919277,85201922,122447857,172377722,238235093,RRZR0S0RRZR0S0RRZR0S0RRZR0S0RRZR0S0RRZR0S0SSSSSZ10S0SZ8S0SSSSZ6S0SZ4S0SSSSZ2S0Z0S0SSZX\u0000\n",
      "fact: 1,1,2,6,24,120,720,5040,40320,362880,3628800,39916800,479001600,6227020800,87178291200,1307674368000,20922789888000,355687428096000,6402373705728000,121645100408832000,RRZR0S0RRZR0S0RRZR0S0RRZR0S0RRZR0S0RRZR0S0SSSSSSZ10S0Z8S0Z6S0SSSSSSZ4S0SZ2S0Z0S0SZX\u0000\n"
     ]
    },
    {
     "name": "stderr",
     "output_type": "stream",
     "text": [
      "***** Running Evaluation *****\n",
      "  Num examples = 1000\n",
      "  Batch size = 8\n"
     ]
    },
    {
     "name": "stdout",
     "output_type": "stream",
     "text": [
      "real: 2,17,442,4277,22658,83977,246602,615197,1360642,2743553,5141402,9079237,15264002,24622457,38342698,57919277,85201922,122447857,172377722,238235093,RRZR0S0RRZR0S0RRZR0S0RRZR0S0RRZR0S0RRZR0S0SSSSSZ10S0SZ8S0SSSSZ6S0SZ4S0SSSSZ2S0Z0S0SSZX\n",
      "out:  2,17,442,4277,22658,83977,246602,615197,1360642,2743553,5141402,9079237,15264002,24622457,38342698,57919277,85201922,122447857,172377722,238235093,RRZR0S0RRZR0S0RRZR0S0RRZR0S0RRZR0S0RRZR0S0SSSSSZ10S0SZ8S0SSSSZ6S0SZ4S0SSSSZ2S0Z0S0SSZX\u0000\n",
      "fact: 1,1,2,6,24,120,720,5040,40320,362880,3628800,39916800,479001600,6227020800,87178291200,1307674368000,20922789888000,355687428096000,6402373705728000,121645100408832000,RRZR0S0RRZR0S0RRZR0S0RRZR0S0RRZR0S0RRZR0S0SSSSSSZ10S0Z8S0Z6S0SZ4S0SSSSSSZ2S0Z0S0SZX\u0000\n"
     ]
    },
    {
     "name": "stderr",
     "output_type": "stream",
     "text": [
      "***** Running Evaluation *****\n",
      "  Num examples = 1000\n",
      "  Batch size = 8\n"
     ]
    },
    {
     "name": "stdout",
     "output_type": "stream",
     "text": [
      "real: 2,17,442,4277,22658,83977,246602,615197,1360642,2743553,5141402,9079237,15264002,24622457,38342698,57919277,85201922,122447857,172377722,238235093,RRZR0S0RRZR0S0RRZR0S0RRZR0S0RRZR0S0RRZR0S0SSSSSZ10S0SZ8S0SSSSZ6S0SZ4S0SSSSZ2S0Z0S0SSZX\n",
      "out:  2,17,442,4277,22658,83977,246602,615197,1360642,2743553,5141402,9079237,15264002,24622457,38342698,57919277,85201922,122447857,172377722,238235093,RRZR0S0RRZR0S0RRZR0S0RRZR0S0RRZR0S0RRZR0S0SSSSSZ10S0SZ8S0SSSSZ6S0SZ4S0SSSSZ2S0Z0S0SSZX\u0000\n",
      "fact: 1,1,2,6,24,120,720,5040,40320,362880,3628800,39916800,479001600,6227020800,87178291200,1307674368000,20922789888000,355687428096000,6402373705728000,121645100408832000,RRZR0S0RRZR0S0RRZR0S0RRZR0S0RRZR0S0RRZR0S0SSSSSSZ10S0Z8S0Z6S0SSSSSSZ4S0SZ2S0Z0S0SZX\u0000\n"
     ]
    },
    {
     "name": "stderr",
     "output_type": "stream",
     "text": [
      "***** Running Evaluation *****\n",
      "  Num examples = 1000\n",
      "  Batch size = 8\n"
     ]
    },
    {
     "name": "stdout",
     "output_type": "stream",
     "text": [
      "real: 2,17,442,4277,22658,83977,246602,615197,1360642,2743553,5141402,9079237,15264002,24622457,38342698,57919277,85201922,122447857,172377722,238235093,RRZR0S0RRZR0S0RRZR0S0RRZR0S0RRZR0S0RRZR0S0SSSSSZ10S0SZ8S0SSSSZ6S0SZ4S0SSSSZ2S0Z0S0SSZX\n",
      "out:  2,17,442,4277,22658,83977,246602,615197,1360642,2743553,5141402,9079237,15264002,24622457,38342698,57919277,85201922,122447857,172377722,238235093,RRZR0S0RRZR0S0RRZR0S0RRZR0S0RRZR0S0RRZR0S0SSSSSZ10S0SZ8S0SSSSZ6S0SZ4S0SSSSZ2S0Z0S0SSZX\u0000\n",
      "fact: 1,1,2,6,24,120,720,5040,40320,362880,3628800,39916800,479001600,6227020800,87178291200,1307674368000,20922789888000,355687428096000,6402373705728000,121645100408832000,RRZR0S0RRZR0S0RRZR0S0RRZR0S0RRZR0S0RRZR0S0SSSSSSZ10S0Z8S0Z6S0SZ4S0SSSSSSZ2S0Z0S0SZX\u0000\n"
     ]
    },
    {
     "name": "stderr",
     "output_type": "stream",
     "text": [
      "***** Running Evaluation *****\n",
      "  Num examples = 1000\n",
      "  Batch size = 8\n"
     ]
    },
    {
     "name": "stdout",
     "output_type": "stream",
     "text": [
      "real: 2,17,442,4277,22658,83977,246602,615197,1360642,2743553,5141402,9079237,15264002,24622457,38342698,57919277,85201922,122447857,172377722,238235093,RRZR0S0RRZR0S0RRZR0S0RRZR0S0RRZR0S0RRZR0S0SSSSSZ10S0SZ8S0SSSSZ6S0SZ4S0SSSSZ2S0Z0S0SSZX\n",
      "out:  2,17,442,4277,22658,83977,246602,615197,1360642,2743553,5141402,9079237,15264002,24622457,38342698,57919277,85201922,122447857,172377722,238235093,RRZR0S0RRZR0S0RRZR0S0RRZR0S0RRZR0S0RRZR0S0SSSSSZ10S0SZ8S0SSSSZ6S0SZ4S0SSSSZ2S0Z0S0SSZX\u0000\n",
      "fact: 1,1,2,6,24,120,720,5040,40320,362880,3628800,39916800,479001600,6227020800,87178291200,1307674368000,20922789888000,355687428096000,6402373705728000,121645100408832000,RRZR0S0RRZR0S0RRZR0S0RRZR0S0RRZR0S0RRZR0S0SSSSSSZ10S0Z8S0Z6S0SSSSSSZ4S0SZ2S0Z0S0SZX\u0000\n"
     ]
    },
    {
     "name": "stderr",
     "output_type": "stream",
     "text": [
      "***** Running Evaluation *****\n",
      "  Num examples = 1000\n",
      "  Batch size = 8\n"
     ]
    },
    {
     "name": "stdout",
     "output_type": "stream",
     "text": [
      "real: 2,17,442,4277,22658,83977,246602,615197,1360642,2743553,5141402,9079237,15264002,24622457,38342698,57919277,85201922,122447857,172377722,238235093,RRZR0S0RRZR0S0RRZR0S0RRZR0S0RRZR0S0RRZR0S0SSSSSZ10S0SZ8S0SSSSZ6S0SZ4S0SSSSZ2S0Z0S0SSZX\n",
      "out:  2,17,442,4277,22658,83977,246602,615197,1360642,2743553,5141402,9079237,15264002,24622457,38342698,57919277,85201922,122447857,172377722,238235093,RRZR0S0RRZR0S0RRZR0S0RRZR0S0RRZR0S0RRZR0S0SSSSSZ10S0SZ8S0SSSSZ6S0SZ4S0SSSSZ2S0Z0S0SSZX\u0000\n",
      "fact: 1,1,2,6,24,120,720,5040,40320,362880,3628800,39916800,479001600,6227020800,87178291200,1307674368000,20922789888000,355687428096000,6402373705728000,121645100408832000,RRZR0S0RRZR0S0RRZR0S0RRZR0S0RRZR0S0RRZR0S0SSSSSSZ10S0Z8S0Z6S0SSSSSSZ4S0SZ2S0Z0S0SZX\u0000\n"
     ]
    },
    {
     "name": "stderr",
     "output_type": "stream",
     "text": [
      "***** Running Evaluation *****\n",
      "  Num examples = 1000\n",
      "  Batch size = 8\n"
     ]
    },
    {
     "name": "stdout",
     "output_type": "stream",
     "text": [
      "real: 2,17,442,4277,22658,83977,246602,615197,1360642,2743553,5141402,9079237,15264002,24622457,38342698,57919277,85201922,122447857,172377722,238235093,RRZR0S0RRZR0S0RRZR0S0RRZR0S0RRZR0S0RRZR0S0SSSSSZ10S0SZ8S0SSSSZ6S0SZ4S0SSSSZ2S0Z0S0SSZX\n",
      "out:  2,17,442,4277,22658,83977,246602,615197,1360642,2743553,5141402,9079237,15264002,24622457,38342698,57919277,85201922,122447857,172377722,238235093,RRZR0S0RRZR0S0RRZR0S0RRZR0S0RRZR0S0RRZR0S0SSSSSZ10S0SZ8S0SSSSZ6S0SZ4S0SSSSZ2S0Z0S0SSZX\u0000\n",
      "fact: 1,1,2,6,24,120,720,5040,40320,362880,3628800,39916800,479001600,6227020800,87178291200,1307674368000,20922789888000,355687428096000,6402373705728000,121645100408832000,RRZR0S0RRZR0S0RRZR0S0RRZR0S0RRZR0S0RRZR0S0SSSSSSZ10S0Z8S0Z6S0SZ4S0SZ2S0SSSSSSZ0S0SZX\u0000\n"
     ]
    },
    {
     "name": "stderr",
     "output_type": "stream",
     "text": [
      "***** Running Evaluation *****\n",
      "  Num examples = 1000\n",
      "  Batch size = 8\n"
     ]
    },
    {
     "name": "stdout",
     "output_type": "stream",
     "text": [
      "real: 2,17,442,4277,22658,83977,246602,615197,1360642,2743553,5141402,9079237,15264002,24622457,38342698,57919277,85201922,122447857,172377722,238235093,RRZR0S0RRZR0S0RRZR0S0RRZR0S0RRZR0S0RRZR0S0SSSSSZ10S0SZ8S0SSSSZ6S0SZ4S0SSSSZ2S0Z0S0SSZX\n",
      "out:  2,17,442,4277,22658,83977,246602,615197,1360642,2743553,5141402,9079237,15264002,24622457,38342698,57919277,85201922,122447857,172377722,238235093,RRZR0S0RRZR0S0RRZR0S0RRZR0S0RRZR0S0RRZR0S0SSSSSZ10S0SZ8S0SSSSZ6S0SZ4S0SSSSZ2S0Z0S0SSZX\u0000\n",
      "fact: 1,1,2,6,24,120,720,5040,40320,362880,3628800,39916800,479001600,6227020800,87178291200,1307674368000,20922789888000,355687428096000,6402373705728000,121645100408832000,RRZR0S0RRZR0S0RRZR0S0RRZR0S0RRZR0S0RRZR0S0SSSSSSZ10S0Z8S0Z6S0SZ4S0SZ2S0SSSSSZ0S0SZX\u0000\n"
     ]
    },
    {
     "name": "stderr",
     "output_type": "stream",
     "text": [
      "***** Running Evaluation *****\n",
      "  Num examples = 1000\n",
      "  Batch size = 8\n"
     ]
    },
    {
     "name": "stdout",
     "output_type": "stream",
     "text": [
      "real: 2,17,442,4277,22658,83977,246602,615197,1360642,2743553,5141402,9079237,15264002,24622457,38342698,57919277,85201922,122447857,172377722,238235093,RRZR0S0RRZR0S0RRZR0S0RRZR0S0RRZR0S0RRZR0S0SSSSSZ10S0SZ8S0SSSSZ6S0SZ4S0SSSSZ2S0Z0S0SSZX\n",
      "out:  2,17,442,4277,22658,83977,246602,615197,1360642,2743553,5141402,9079237,15264002,24622457,38342698,57919277,85201922,122447857,172377722,238235093,RRZR0S0RRZR0S0RRZR0S0RRZR0S0RRZR0S0RRZR0S0SSSSSZ10S0SZ8S0SSSSZ6S0SZ4S0SSSSZ2S0Z0S0SSZX\u0000\n",
      "fact: 1,1,2,6,24,120,720,5040,40320,362880,3628800,39916800,479001600,6227020800,87178291200,1307674368000,20922789888000,355687428096000,6402373705728000,121645100408832000,RRZR0S0RRZR0S0RRZR0S0RRZR0S0RRZR0S0RRZR0S0SSSSSSZ10S0Z8S0Z6S0SZ4S0SSZ2S0Z0S0SZX\u0000\n"
     ]
    },
    {
     "name": "stderr",
     "output_type": "stream",
     "text": [
      "***** Running Evaluation *****\n",
      "  Num examples = 1000\n",
      "  Batch size = 8\n"
     ]
    },
    {
     "name": "stdout",
     "output_type": "stream",
     "text": [
      "real: 2,17,442,4277,22658,83977,246602,615197,1360642,2743553,5141402,9079237,15264002,24622457,38342698,57919277,85201922,122447857,172377722,238235093,RRZR0S0RRZR0S0RRZR0S0RRZR0S0RRZR0S0RRZR0S0SSSSSZ10S0SZ8S0SSSSZ6S0SZ4S0SSSSZ2S0Z0S0SSZX\n",
      "out:  2,17,442,4277,22658,83977,246602,615197,1360642,2743553,5141402,9079237,15264002,24622457,38342698,57919277,85201922,122447857,172377722,238235093,RRZR0S0RRZR0S0RRZR0S0RRZR0S0RRZR0S0RRZR0S0SSSSSZ10S0SZ8S0SSSSZ6S0SZ4S0SSSSZ2S0Z0S0SSZX\u0000\n",
      "fact: 1,1,2,6,24,120,720,5040,40320,362880,3628800,39916800,479001600,6227020800,87178291200,1307674368000,20922789888000,355687428096000,6402373705728000,121645100408832000,RRZR0S0RRZR0S0RRZR0S0RRZR0S0RRZR0S0RRZR0S0SSSSSSZ10S0Z8S0Z6S0SSSSSSZ4S0SSZ2S0Z0S0SZX\u0000\n"
     ]
    },
    {
     "name": "stderr",
     "output_type": "stream",
     "text": [
      "***** Running Evaluation *****\n",
      "  Num examples = 1000\n",
      "  Batch size = 8\n"
     ]
    },
    {
     "name": "stdout",
     "output_type": "stream",
     "text": [
      "real: 2,17,442,4277,22658,83977,246602,615197,1360642,2743553,5141402,9079237,15264002,24622457,38342698,57919277,85201922,122447857,172377722,238235093,RRZR0S0RRZR0S0RRZR0S0RRZR0S0RRZR0S0RRZR0S0SSSSSZ10S0SZ8S0SSSSZ6S0SZ4S0SSSSZ2S0Z0S0SSZX\n",
      "out:  2,17,442,4277,22658,83977,246602,615197,1360642,2743553,5141402,9079237,15264002,24622457,38342698,57919277,85201922,122447857,172377722,238235093,RRZR0S0RRZR0S0RRZR0S0RRZR0S0RRZR0S0RRZR0S0SSSSSZ10S0SZ8S0SSSSZ6S0SZ4S0SSSSZ2S0Z0S0SSZX\u0000\n",
      "fact: 1,1,2,6,24,120,720,5040,40320,362880,3628800,39916800,479001600,6227020800,87178291200,1307674368000,20922789888000,355687428096000,6402373705728000,121645100408832000,RRZR0S0RRZR0S0RRZR0S0RRZR0S0RRZR0S0RRZR0S0SSSSSSZ10S0Z8S0Z6S0SSSSSSZ4S0SZ2S0Z0S0SZX\u0000\n"
     ]
    },
    {
     "name": "stderr",
     "output_type": "stream",
     "text": [
      "***** Running Evaluation *****\n",
      "  Num examples = 1000\n",
      "  Batch size = 8\n"
     ]
    },
    {
     "name": "stdout",
     "output_type": "stream",
     "text": [
      "real: 2,17,442,4277,22658,83977,246602,615197,1360642,2743553,5141402,9079237,15264002,24622457,38342698,57919277,85201922,122447857,172377722,238235093,RRZR0S0RRZR0S0RRZR0S0RRZR0S0RRZR0S0RRZR0S0SSSSSZ10S0SZ8S0SSSSZ6S0SZ4S0SSSSZ2S0Z0S0SSZX\n",
      "out:  2,17,442,4277,22658,83977,246602,615197,1360642,2743553,5141402,9079237,15264002,24622457,38342698,57919277,85201922,122447857,172377722,238235093,RRZR0S0RRZR0S0RRZR0S0RRZR0S0RRZR0S0RRZR0S0SSSSSZ10S0SZ8S0SSSSZ6S0SZ4S0SSSSZ2S0Z0S0SSZX\u0000\n",
      "fact: 1,1,2,6,24,120,720,5040,40320,362880,3628800,39916800,479001600,6227020800,87178291200,1307674368000,20922789888000,355687428096000,6402373705728000,121645100408832000,RRZR0S0RRZR0S0RRZR0S0RRZR0S0RRZR0S0RRZR0S0SSSSSSZ10S0Z8S0Z6S0SSSSSSZ4S0SZ2S0Z0S0SZX\u0000\n"
     ]
    },
    {
     "name": "stderr",
     "output_type": "stream",
     "text": [
      "***** Running Evaluation *****\n",
      "  Num examples = 1000\n",
      "  Batch size = 8\n"
     ]
    },
    {
     "name": "stdout",
     "output_type": "stream",
     "text": [
      "real: 2,17,442,4277,22658,83977,246602,615197,1360642,2743553,5141402,9079237,15264002,24622457,38342698,57919277,85201922,122447857,172377722,238235093,RRZR0S0RRZR0S0RRZR0S0RRZR0S0RRZR0S0RRZR0S0SSSSSZ10S0SZ8S0SSSSZ6S0SZ4S0SSSSZ2S0Z0S0SSZX\n",
      "out:  2,17,442,4277,22658,83977,246602,615197,1360642,2743553,5141402,9079237,15264002,24622457,38342698,57919277,85201922,122447857,172377722,238235093,RRZR0S0RRZR0S0RRZR0S0RRZR0S0RRZR0S0RRZR0S0SSSSSZ10S0SZ8S0SSSSZ6S0SZ4S0SSSSZ2S0Z0S0SSZX\u0000\n",
      "fact: 1,1,2,6,24,120,720,5040,40320,362880,3628800,39916800,479001600,6227020800,87178291200,1307674368000,20922789888000,355687428096000,6402373705728000,121645100408832000,RRZR0S0RRZR0S0RRZR0S0RRZR0S0RRZR0S0RRZR0S0SSSSSSZ10S0Z8S0Z6S0SSSSSSZ4S0SZ2S0Z0S0SZX\u0000\n"
     ]
    },
    {
     "name": "stderr",
     "output_type": "stream",
     "text": [
      "***** Running Evaluation *****\n",
      "  Num examples = 1000\n",
      "  Batch size = 8\n"
     ]
    },
    {
     "name": "stdout",
     "output_type": "stream",
     "text": [
      "real: 2,17,442,4277,22658,83977,246602,615197,1360642,2743553,5141402,9079237,15264002,24622457,38342698,57919277,85201922,122447857,172377722,238235093,RRZR0S0RRZR0S0RRZR0S0RRZR0S0RRZR0S0RRZR0S0SSSSSZ10S0SZ8S0SSSSZ6S0SZ4S0SSSSZ2S0Z0S0SSZX\n",
      "out:  2,17,442,4277,22658,83977,246602,615197,1360642,2743553,5141402,9079237,15264002,24622457,38342698,57919277,85201922,122447857,172377722,238235093,RRZR0S0RRZR0S0RRZR0S0RRZR0S0RRZR0S0RRZR0S0SSSSSZ10S0SZ8S0SSSSZ6S0SZ4S0SSSSZ2S0Z0S0SSZX\u0000\n",
      "fact: 1,1,2,6,24,120,720,5040,40320,362880,3628800,39916800,479001600,6227020800,87178291200,1307674368000,20922789888000,355687428096000,6402373705728000,121645100408832000,RRZR0S0RRZR0S0RRZR0S0RRZR0S0RRZR0S0RRZR0S0SSSSSSZ10S0Z8S0Z6S0Z4S0SZ2S0SSSSSSZ0S0SZX\u0000\n"
     ]
    },
    {
     "name": "stderr",
     "output_type": "stream",
     "text": [
      "***** Running Evaluation *****\n",
      "  Num examples = 1000\n",
      "  Batch size = 8\n"
     ]
    },
    {
     "name": "stdout",
     "output_type": "stream",
     "text": [
      "real: 2,17,442,4277,22658,83977,246602,615197,1360642,2743553,5141402,9079237,15264002,24622457,38342698,57919277,85201922,122447857,172377722,238235093,RRZR0S0RRZR0S0RRZR0S0RRZR0S0RRZR0S0RRZR0S0SSSSSZ10S0SZ8S0SSSSZ6S0SZ4S0SSSSZ2S0Z0S0SSZX\n",
      "out:  2,17,442,4277,22658,83977,246602,615197,1360642,2743553,5141402,9079237,15264002,24622457,38342698,57919277,85201922,122447857,172377722,238235093,RRZR0S0RRZR0S0RRZR0S0RRZR0S0RRZR0S0RRZR0S0SSSSSZ10S0SZ8S0SSSSZ6S0SZ4S0SSSSZ2S0Z0S0SSZX\u0000\n",
      "fact: 1,1,2,6,24,120,720,5040,40320,362880,3628800,39916800,479001600,6227020800,87178291200,1307674368000,20922789888000,355687428096000,6402373705728000,121645100408832000,RRZR0S0RRZR0S0RRZR0S0RRZR0S0RRZR0S0RRZR0S0SSSSSSZ10S0Z8S0Z6S0SZ4S0SSSSSSZ2S0Z0S0SZX\u0000\n"
     ]
    },
    {
     "name": "stderr",
     "output_type": "stream",
     "text": [
      "***** Running Evaluation *****\n",
      "  Num examples = 1000\n",
      "  Batch size = 8\n"
     ]
    },
    {
     "name": "stdout",
     "output_type": "stream",
     "text": [
      "real: 2,17,442,4277,22658,83977,246602,615197,1360642,2743553,5141402,9079237,15264002,24622457,38342698,57919277,85201922,122447857,172377722,238235093,RRZR0S0RRZR0S0RRZR0S0RRZR0S0RRZR0S0RRZR0S0SSSSSZ10S0SZ8S0SSSSZ6S0SZ4S0SSSSZ2S0Z0S0SSZX\n",
      "out:  2,17,442,4277,22658,83977,246602,615197,1360642,2743553,5141402,9079237,15264002,24622457,38342698,57919277,85201922,122447857,172377722,238235093,RRZR0S0RRZR0S0RRZR0S0RRZR0S0RRZR0S0RRZR0S0SSSSSZ10S0SZ8S0SSSSZ6S0SZ4S0SSSSZ2S0Z0S0SSZX\u0000\n",
      "fact: 1,1,2,6,24,120,720,5040,40320,362880,3628800,39916800,479001600,6227020800,87178291200,1307674368000,20922789888000,355687428096000,6402373705728000,121645100408832000,RRZR0S0RRZR0S0RRZR0S0RRZR0S0RRZR0S0RRZR0S0SSSSSSZ10S0Z8S0Z6S0SZ4S0SSSSSSZ2S0Z0S0SZX\u0000\n"
     ]
    },
    {
     "name": "stderr",
     "output_type": "stream",
     "text": [
      "Saving model checkpoint to ./polys-model-4-dropout-2-cont/checkpoint-40000\n",
      "Trainer.model is not a `PreTrainedModel`, only saving its state dict.\n",
      "***** Running Evaluation *****\n",
      "  Num examples = 1000\n",
      "  Batch size = 8\n"
     ]
    },
    {
     "name": "stdout",
     "output_type": "stream",
     "text": [
      "real: 2,17,442,4277,22658,83977,246602,615197,1360642,2743553,5141402,9079237,15264002,24622457,38342698,57919277,85201922,122447857,172377722,238235093,RRZR0S0RRZR0S0RRZR0S0RRZR0S0RRZR0S0RRZR0S0SSSSSZ10S0SZ8S0SSSSZ6S0SZ4S0SSSSZ2S0Z0S0SSZX\n",
      "out:  2,17,442,4277,22658,83977,246602,615197,1360642,2743553,5141402,9079237,15264002,24622457,38342698,57919277,85201922,122447857,172377722,238235093,RRZR0S0RRZR0S0RRZR0S0RRZR0S0RRZR0S0RRZR0S0SSSSSZ10S0SZ8S0SSSSZ6S0SZ4S0SSSSZ2S0Z0S0SSZX\u0000\n",
      "fact: 1,1,2,6,24,120,720,5040,40320,362880,3628800,39916800,479001600,6227020800,87178291200,1307674368000,20922789888000,355687428096000,6402373705728000,121645100408832000,RRZR0S0RRZR0S0RRZR0S0RRZR0S0RRZR0S0RRZR0S0SSSSSSZ10S0Z8S0Z6S0SZ4S0SSZ2S0SSSSSSZ0S0SZX\u0000\n"
     ]
    },
    {
     "name": "stderr",
     "output_type": "stream",
     "text": [
      "***** Running Evaluation *****\n",
      "  Num examples = 1000\n",
      "  Batch size = 8\n"
     ]
    },
    {
     "name": "stdout",
     "output_type": "stream",
     "text": [
      "real: 2,17,442,4277,22658,83977,246602,615197,1360642,2743553,5141402,9079237,15264002,24622457,38342698,57919277,85201922,122447857,172377722,238235093,RRZR0S0RRZR0S0RRZR0S0RRZR0S0RRZR0S0RRZR0S0SSSSSZ10S0SZ8S0SSSSZ6S0SZ4S0SSSSZ2S0Z0S0SSZX\n",
      "out:  2,17,442,4277,22658,83977,246602,615197,1360642,2743553,5141402,9079237,15264002,24622457,38342698,57919277,85201922,122447857,172377722,238235093,RRZR0S0RRZR0S0RRZR0S0RRZR0S0RRZR0S0RRZR0S0SSSSSZ10S0SZ8S0SSSSZ6S0SZ4S0SSSSZ2S0Z0S0SSZX\u0000\n",
      "fact: 1,1,2,6,24,120,720,5040,40320,362880,3628800,39916800,479001600,6227020800,87178291200,1307674368000,20922789888000,355687428096000,6402373705728000,121645100408832000,RRZR0S0RRZR0S0RRZR0S0RRZR0S0RRZR0S0RRZR0S0SSSSSSZ10S0Z8S0Z6S0SZ4S0SSSSSSZ2S0Z0S0SZX\u0000\n"
     ]
    },
    {
     "name": "stderr",
     "output_type": "stream",
     "text": [
      "***** Running Evaluation *****\n",
      "  Num examples = 1000\n",
      "  Batch size = 8\n"
     ]
    },
    {
     "name": "stdout",
     "output_type": "stream",
     "text": [
      "real: 2,17,442,4277,22658,83977,246602,615197,1360642,2743553,5141402,9079237,15264002,24622457,38342698,57919277,85201922,122447857,172377722,238235093,RRZR0S0RRZR0S0RRZR0S0RRZR0S0RRZR0S0RRZR0S0SSSSSZ10S0SZ8S0SSSSZ6S0SZ4S0SSSSZ2S0Z0S0SSZX\n",
      "out:  2,17,442,4277,22658,83977,246602,615197,1360642,2743553,5141402,9079237,15264002,24622457,38342698,57919277,85201922,122447857,172377722,238235093,RRZR0S0RRZR0S0RRZR0S0RRZR0S0RRZR0S0RRZR0S0SSSSSZ10S0SZ8S0SSSSZ6S0SZ4S0SSSSZ2S0Z0S0SSZX\u0000\n",
      "fact: 1,1,2,6,24,120,720,5040,40320,362880,3628800,39916800,479001600,6227020800,87178291200,1307674368000,20922789888000,355687428096000,6402373705728000,121645100408832000,RRZR0S0RRZR0S0RRZR0S0RRZR0S0RRZR0S0RRZR0S0SSSSSSZ10S0Z8S0Z6S0SZ4S0SSZ2S0SSSSSSZ0S0SZX\u0000\n"
     ]
    },
    {
     "name": "stderr",
     "output_type": "stream",
     "text": [
      "***** Running Evaluation *****\n",
      "  Num examples = 1000\n",
      "  Batch size = 8\n"
     ]
    },
    {
     "name": "stdout",
     "output_type": "stream",
     "text": [
      "real: 2,17,442,4277,22658,83977,246602,615197,1360642,2743553,5141402,9079237,15264002,24622457,38342698,57919277,85201922,122447857,172377722,238235093,RRZR0S0RRZR0S0RRZR0S0RRZR0S0RRZR0S0RRZR0S0SSSSSZ10S0SZ8S0SSSSZ6S0SZ4S0SSSSZ2S0Z0S0SSZX\n",
      "out:  2,17,442,4277,22658,83977,246602,615197,1360642,2743553,5141402,9079237,15264002,24622457,38342698,57919277,85201922,122447857,172377722,238235093,RRZR0S0RRZR0S0RRZR0S0RRZR0S0RRZR0S0RRZR0S0SSSSSZ10S0SZ8S0SSSSZ6S0SZ4S0SSSSZ2S0Z0S0SSZX\u0000\n",
      "fact: 1,1,2,6,24,120,720,5040,40320,362880,3628800,39916800,479001600,6227020800,87178291200,1307674368000,20922789888000,355687428096000,6402373705728000,121645100408832000,RRZR0S0RRZR0S0RRZR0S0RRZR0S0RRZR0S0RRZR0S0SSSSSSZ10S0Z8S0Z6S0Z4S0SZ2S0SSZ0S0SZX\u0000\n"
     ]
    },
    {
     "name": "stderr",
     "output_type": "stream",
     "text": [
      "***** Running Evaluation *****\n",
      "  Num examples = 1000\n",
      "  Batch size = 8\n"
     ]
    },
    {
     "name": "stdout",
     "output_type": "stream",
     "text": [
      "real: 2,17,442,4277,22658,83977,246602,615197,1360642,2743553,5141402,9079237,15264002,24622457,38342698,57919277,85201922,122447857,172377722,238235093,RRZR0S0RRZR0S0RRZR0S0RRZR0S0RRZR0S0RRZR0S0SSSSSZ10S0SZ8S0SSSSZ6S0SZ4S0SSSSZ2S0Z0S0SSZX\n",
      "out:  2,17,442,4277,22658,83977,246602,615197,1360642,2743553,5141402,9079237,15264002,24622457,38342698,57919277,85201922,122447857,172377722,238235093,RRZR0S0RRZR0S0RRZR0S0RRZR0S0RRZR0S0RRZR0S0SSSSSZ10S0SZ8S0SSSSZ6S0SZ4S0SSSSZ2S0Z0S0SSZX\u0000\n",
      "fact: 1,1,2,6,24,120,720,5040,40320,362880,3628800,39916800,479001600,6227020800,87178291200,1307674368000,20922789888000,355687428096000,6402373705728000,121645100408832000,RRZR0S0RRZR0S0RRZR0S0RRZR0S0RRZR0S0RRZR0S0SSSSSSZ10S0Z8S0Z6S0SZ4S0SSSSSSZ2S0SSZ0S0SZX\u0000\n"
     ]
    },
    {
     "name": "stderr",
     "output_type": "stream",
     "text": [
      "***** Running Evaluation *****\n",
      "  Num examples = 1000\n",
      "  Batch size = 8\n"
     ]
    },
    {
     "name": "stdout",
     "output_type": "stream",
     "text": [
      "real: 2,17,442,4277,22658,83977,246602,615197,1360642,2743553,5141402,9079237,15264002,24622457,38342698,57919277,85201922,122447857,172377722,238235093,RRZR0S0RRZR0S0RRZR0S0RRZR0S0RRZR0S0RRZR0S0SSSSSZ10S0SZ8S0SSSSZ6S0SZ4S0SSSSZ2S0Z0S0SSZX\n",
      "out:  2,17,442,4277,22658,83977,246602,615197,1360642,2743553,5141402,9079237,15264002,24622457,38342698,57919277,85201922,122447857,172377722,238235093,RRZR0S0RRZR0S0RRZR0S0RRZR0S0RRZR0S0RRZR0S0SSSSSZ10S0SZ8S0SSSSZ6S0SZ4S0SSSSZ2S0Z0S0SSZX\u0000\n",
      "fact: 1,1,2,6,24,120,720,5040,40320,362880,3628800,39916800,479001600,6227020800,87178291200,1307674368000,20922789888000,355687428096000,6402373705728000,121645100408832000,RRZR0S0RRZR0S0RRZR0S0RRZR0S0RRZR0S0RRZR0S0SSSSSSZ10S0Z8S0Z6S0SZ4S0SSSSSSZ2S0SSZ0S0SZX\u0000\n"
     ]
    },
    {
     "name": "stderr",
     "output_type": "stream",
     "text": [
      "***** Running Evaluation *****\n",
      "  Num examples = 1000\n",
      "  Batch size = 8\n"
     ]
    },
    {
     "name": "stdout",
     "output_type": "stream",
     "text": [
      "real: 2,17,442,4277,22658,83977,246602,615197,1360642,2743553,5141402,9079237,15264002,24622457,38342698,57919277,85201922,122447857,172377722,238235093,RRZR0S0RRZR0S0RRZR0S0RRZR0S0RRZR0S0RRZR0S0SSSSSZ10S0SZ8S0SSSSZ6S0SZ4S0SSSSZ2S0Z0S0SSZX\n",
      "out:  2,17,442,4277,22658,83977,246602,615197,1360642,2743553,5141402,9079237,15264002,24622457,38342698,57919277,85201922,122447857,172377722,238235093,RRZR0S0RRZR0S0RRZR0S0RRZR0S0RRZR0S0RRZR0S0SSSSSZ10S0SZ8S0SSSSZ6S0SZ4S0SSSSZ2S0Z0S0SSZX\u0000\n",
      "fact: 1,1,2,6,24,120,720,5040,40320,362880,3628800,39916800,479001600,6227020800,87178291200,1307674368000,20922789888000,355687428096000,6402373705728000,121645100408832000,RRZR0S0RRZR0S0RRZR0S0RRZR0S0RRZR0S0RRZR0S0SSSSSSZ10S0Z8S0Z6S0SSSSSSZ4S0SSZ2S0Z0S0SZX\u0000\n"
     ]
    },
    {
     "name": "stderr",
     "output_type": "stream",
     "text": [
      "***** Running Evaluation *****\n",
      "  Num examples = 1000\n",
      "  Batch size = 8\n"
     ]
    },
    {
     "name": "stdout",
     "output_type": "stream",
     "text": [
      "real: 2,17,442,4277,22658,83977,246602,615197,1360642,2743553,5141402,9079237,15264002,24622457,38342698,57919277,85201922,122447857,172377722,238235093,RRZR0S0RRZR0S0RRZR0S0RRZR0S0RRZR0S0RRZR0S0SSSSSZ10S0SZ8S0SSSSZ6S0SZ4S0SSSSZ2S0Z0S0SSZX\n",
      "out:  2,17,442,4277,22658,83977,246602,615197,1360642,2743553,5141402,9079237,15264002,24622457,38342698,57919277,85201922,122447857,172377722,238235093,RRZR0S0RRZR0S0RRZR0S0RRZR0S0RRZR0S0RRZR0S0SSSSSZ10S0SZ8S0SSSSZ6S0SZ4S0SSSSZ2S0Z0S0SSZX\u0000\n",
      "fact: 1,1,2,6,24,120,720,5040,40320,362880,3628800,39916800,479001600,6227020800,87178291200,1307674368000,20922789888000,355687428096000,6402373705728000,121645100408832000,RRZR0S0RRZR0S0RRZR0S0RRZR0S0RRZR0S0RRZR0S0SSSSSSZ10S0Z8S0Z6S0SZ4S0SZ2S0SSZ0S0SZX\u0000\n"
     ]
    },
    {
     "name": "stderr",
     "output_type": "stream",
     "text": [
      "***** Running Evaluation *****\n",
      "  Num examples = 1000\n",
      "  Batch size = 8\n"
     ]
    },
    {
     "name": "stdout",
     "output_type": "stream",
     "text": [
      "real: 2,17,442,4277,22658,83977,246602,615197,1360642,2743553,5141402,9079237,15264002,24622457,38342698,57919277,85201922,122447857,172377722,238235093,RRZR0S0RRZR0S0RRZR0S0RRZR0S0RRZR0S0RRZR0S0SSSSSZ10S0SZ8S0SSSSZ6S0SZ4S0SSSSZ2S0Z0S0SSZX\n",
      "out:  2,17,442,4277,22658,83977,246602,615197,1360642,2743553,5141402,9079237,15264002,24622457,38342698,57919277,85201922,122447857,172377722,238235093,RRZR0S0RRZR0S0RRZR0S0RRZR0S0RRZR0S0RRZR0S0SSSSSZ10S0SZ8S0SSSSZ6S0SZ4S0SSSSZ2S0Z0S0SSZX\u0000\n",
      "fact: 1,1,2,6,24,120,720,5040,40320,362880,3628800,39916800,479001600,6227020800,87178291200,1307674368000,20922789888000,355687428096000,6402373705728000,121645100408832000,RRZR0S0RRZR0S0RRZR0S0RRZR0S0RRZR0S0RRZR0S0SSSSSSZ10S0Z8S0Z6S0SZ4S0SSSSSSZ2S0SSZ0S0SZX\u0000\n"
     ]
    },
    {
     "name": "stderr",
     "output_type": "stream",
     "text": [
      "***** Running Evaluation *****\n",
      "  Num examples = 1000\n",
      "  Batch size = 8\n"
     ]
    },
    {
     "name": "stdout",
     "output_type": "stream",
     "text": [
      "real: 2,17,442,4277,22658,83977,246602,615197,1360642,2743553,5141402,9079237,15264002,24622457,38342698,57919277,85201922,122447857,172377722,238235093,RRZR0S0RRZR0S0RRZR0S0RRZR0S0RRZR0S0RRZR0S0SSSSSZ10S0SZ8S0SSSSZ6S0SZ4S0SSSSZ2S0Z0S0SSZX\n",
      "out:  2,17,442,4277,22658,83977,246602,615197,1360642,2743553,5141402,9079237,15264002,24622457,38342698,57919277,85201922,122447857,172377722,238235093,RRZR0S0RRZR0S0RRZR0S0RRZR0S0RRZR0S0RRZR0S0SSSSSZ10S0SZ8S0SSSSZ6S0SZ4S0SSSSZ2S0Z0S0SSZX\u0000\n",
      "fact: 1,1,2,6,24,120,720,5040,40320,362880,3628800,39916800,479001600,6227020800,87178291200,1307674368000,20922789888000,355687428096000,6402373705728000,121645100408832000,RRZR0S0RRZR0S0RRZR0S0RRZR0S0RRZR0S0RRZR0S0SSSSSSZ10S0Z8S0Z6S0SSSSSSZ4S0SSZ2S0Z0S0SZX\u0000\n"
     ]
    },
    {
     "name": "stderr",
     "output_type": "stream",
     "text": [
      "***** Running Evaluation *****\n",
      "  Num examples = 1000\n",
      "  Batch size = 8\n"
     ]
    },
    {
     "name": "stdout",
     "output_type": "stream",
     "text": [
      "real: 2,17,442,4277,22658,83977,246602,615197,1360642,2743553,5141402,9079237,15264002,24622457,38342698,57919277,85201922,122447857,172377722,238235093,RRZR0S0RRZR0S0RRZR0S0RRZR0S0RRZR0S0RRZR0S0SSSSSZ10S0SZ8S0SSSSZ6S0SZ4S0SSSSZ2S0Z0S0SSZX\n",
      "out:  2,17,442,4277,22658,83977,246602,615197,1360642,2743553,5141402,9079237,15264002,24622457,38342698,57919277,85201922,122447857,172377722,238235093,RRZR0S0RRZR0S0RRZR0S0RRZR0S0RRZR0S0RRZR0S0SSSSSZ10S0SZ8S0SSSSZ6S0SZ4S0SSSSZ2S0Z0S0SSZX\u0000\n",
      "fact: 1,1,2,6,24,120,720,5040,40320,362880,3628800,39916800,479001600,6227020800,87178291200,1307674368000,20922789888000,355687428096000,6402373705728000,121645100408832000,RRZR0S0RRZR0S0RRZR0S0RRZR0S0RRZR0S0RRZR0S0SSSSSSZ10S0Z8S0Z6S0SSSSSSZ4S0SZ2S0SSSSSSZ0S0SZX\u0000\n"
     ]
    },
    {
     "name": "stderr",
     "output_type": "stream",
     "text": [
      "***** Running Evaluation *****\n",
      "  Num examples = 1000\n",
      "  Batch size = 8\n"
     ]
    },
    {
     "name": "stdout",
     "output_type": "stream",
     "text": [
      "real: 2,17,442,4277,22658,83977,246602,615197,1360642,2743553,5141402,9079237,15264002,24622457,38342698,57919277,85201922,122447857,172377722,238235093,RRZR0S0RRZR0S0RRZR0S0RRZR0S0RRZR0S0RRZR0S0SSSSSZ10S0SZ8S0SSSSZ6S0SZ4S0SSSSZ2S0Z0S0SSZX\n",
      "out:  2,17,442,4277,22658,83977,246602,615197,1360642,2743553,5141402,9079237,15264002,24622457,38342698,57919277,85201922,122447857,172377722,238235093,RRZR0S0RRZR0S0RRZR0S0RRZR0S0RRZR0S0RRZR0S0SSSSSZ10S0SZ8S0SSSSZ6S0SZ4S0SSSSZ2S0Z0S0SSZX\u0000\n",
      "fact: 1,1,2,6,24,120,720,5040,40320,362880,3628800,39916800,479001600,6227020800,87178291200,1307674368000,20922789888000,355687428096000,6402373705728000,121645100408832000,RRZR0S0RRZR0S0RRZR0S0RRZR0S0RRZR0S0RRZR0S0SSSSSSZ10S0Z8S0Z6S0SSSSSSZ4S0Z2S0SSZ0S0SZX\u0000\n"
     ]
    },
    {
     "name": "stderr",
     "output_type": "stream",
     "text": [
      "***** Running Evaluation *****\n",
      "  Num examples = 1000\n",
      "  Batch size = 8\n"
     ]
    },
    {
     "name": "stdout",
     "output_type": "stream",
     "text": [
      "real: 2,17,442,4277,22658,83977,246602,615197,1360642,2743553,5141402,9079237,15264002,24622457,38342698,57919277,85201922,122447857,172377722,238235093,RRZR0S0RRZR0S0RRZR0S0RRZR0S0RRZR0S0RRZR0S0SSSSSZ10S0SZ8S0SSSSZ6S0SZ4S0SSSSZ2S0Z0S0SSZX\n",
      "out:  2,17,442,4277,22658,83977,246602,615197,1360642,2743553,5141402,9079237,15264002,24622457,38342698,57919277,85201922,122447857,172377722,238235093,RRZR0S0RRZR0S0RRZR0S0RRZR0S0RRZR0S0RRZR0S0SSSSSZ10S0SZ8S0SSSSZ6S0SZ4S0SSSSZ2S0Z0S0SSZX\u0000\n",
      "fact: 1,1,2,6,24,120,720,5040,40320,362880,3628800,39916800,479001600,6227020800,87178291200,1307674368000,20922789888000,355687428096000,6402373705728000,121645100408832000,RRZR0S0RRZR0S0RRZR0S0RRZR0S0RRZR0S0SSSSSSSZ10S0Z8S0Z6S0SZ4S0SZ2S0SZ0S0SZX\u0000\n"
     ]
    },
    {
     "name": "stderr",
     "output_type": "stream",
     "text": [
      "***** Running Evaluation *****\n",
      "  Num examples = 1000\n",
      "  Batch size = 8\n"
     ]
    },
    {
     "name": "stdout",
     "output_type": "stream",
     "text": [
      "real: 2,17,442,4277,22658,83977,246602,615197,1360642,2743553,5141402,9079237,15264002,24622457,38342698,57919277,85201922,122447857,172377722,238235093,RRZR0S0RRZR0S0RRZR0S0RRZR0S0RRZR0S0RRZR0S0SSSSSZ10S0SZ8S0SSSSZ6S0SZ4S0SSSSZ2S0Z0S0SSZX\n",
      "out:  2,17,442,4277,22658,83977,246602,615197,1360642,2743553,5141402,9079237,15264002,24622457,38342698,57919277,85201922,122447857,172377722,238235093,RRZR0S0RRZR0S0RRZR0S0RRZR0S0RRZR0S0RRZR0S0SSSSSZ10S0SZ8S0SSSSZ6S0SZ4S0SSSSZ2S0Z0S0SSZX\u0000\n",
      "fact: 1,1,2,6,24,120,720,5040,40320,362880,3628800,39916800,479001600,6227020800,87178291200,1307674368000,20922789888000,355687428096000,6402373705728000,121645100408832000,RRZR0S0RRZR0S0RRZR0S0RRZR0S0RRZR0S0RRZR0S0SSSSSSZ10S0Z8S0Z6S0SSSSSSZ4S0SZ2S0Z0S0SZX\u0000\n"
     ]
    },
    {
     "name": "stderr",
     "output_type": "stream",
     "text": [
      "***** Running Evaluation *****\n",
      "  Num examples = 1000\n",
      "  Batch size = 8\n"
     ]
    },
    {
     "name": "stdout",
     "output_type": "stream",
     "text": [
      "real: 2,17,442,4277,22658,83977,246602,615197,1360642,2743553,5141402,9079237,15264002,24622457,38342698,57919277,85201922,122447857,172377722,238235093,RRZR0S0RRZR0S0RRZR0S0RRZR0S0RRZR0S0RRZR0S0SSSSSZ10S0SZ8S0SSSSZ6S0SZ4S0SSSSZ2S0Z0S0SSZX\n",
      "out:  2,17,442,4277,22658,83977,246602,615197,1360642,2743553,5141402,9079237,15264002,24622457,38342698,57919277,85201922,122447857,172377722,238235093,RRZR0S0RRZR0S0RRZR0S0RRZR0S0RRZR0S0RRZR0S0SSSSSZ10S0SZ8S0SSSSZ6S0SZ4S0SSSSZ2S0Z0S0SSZX\u0000\n",
      "fact: 1,1,2,6,24,120,720,5040,40320,362880,3628800,39916800,479001600,6227020800,87178291200,1307674368000,20922789888000,355687428096000,6402373705728000,121645100408832000,RRZR0S0RRZR0S0RRZR0S0RRZR0S0RRZR0S0RRZR0S0SSSSSSZ10S0Z8S0Z6S0SSSSSSZ4S0Z2S0SSZ0S0SZX\u0000\n"
     ]
    },
    {
     "name": "stderr",
     "output_type": "stream",
     "text": [
      "***** Running Evaluation *****\n",
      "  Num examples = 1000\n",
      "  Batch size = 8\n"
     ]
    },
    {
     "name": "stdout",
     "output_type": "stream",
     "text": [
      "real: 2,17,442,4277,22658,83977,246602,615197,1360642,2743553,5141402,9079237,15264002,24622457,38342698,57919277,85201922,122447857,172377722,238235093,RRZR0S0RRZR0S0RRZR0S0RRZR0S0RRZR0S0RRZR0S0SSSSSZ10S0SZ8S0SSSSZ6S0SZ4S0SSSSZ2S0Z0S0SSZX\n",
      "out:  2,17,442,4277,22658,83977,246602,615197,1360642,2743553,5141402,9079237,15264002,24622457,38342698,57919277,85201922,122447857,172377722,238235093,RRZR0S0RRZR0S0RRZR0S0RRZR0S0RRZR0S0RRZR0S0SSSSSZ10S0SZ8S0SSSSZ6S0SZ4S0SSSSZ2S0Z0S0SSZX\u0000\n",
      "fact: 1,1,2,6,24,120,720,5040,40320,362880,3628800,39916800,479001600,6227020800,87178291200,1307674368000,20922789888000,355687428096000,6402373705728000,121645100408832000,RRZR0S0RRZR0S0RRZR0S0RRZR0S0RRZR0S0SSSSSSSZ8S0Z6S0Z4S0SZ2S0SZ0S0SZX\u0000\n"
     ]
    },
    {
     "name": "stderr",
     "output_type": "stream",
     "text": [
      "***** Running Evaluation *****\n",
      "  Num examples = 1000\n",
      "  Batch size = 8\n"
     ]
    },
    {
     "name": "stdout",
     "output_type": "stream",
     "text": [
      "real: 2,17,442,4277,22658,83977,246602,615197,1360642,2743553,5141402,9079237,15264002,24622457,38342698,57919277,85201922,122447857,172377722,238235093,RRZR0S0RRZR0S0RRZR0S0RRZR0S0RRZR0S0RRZR0S0SSSSSZ10S0SZ8S0SSSSZ6S0SZ4S0SSSSZ2S0Z0S0SSZX\n",
      "out:  2,17,442,4277,22658,83977,246602,615197,1360642,2743553,5141402,9079237,15264002,24622457,38342698,57919277,85201922,122447857,172377722,238235093,RRZR0S0RRZR0S0RRZR0S0RRZR0S0RRZR0S0RRZR0S0SSSSSZ10S0SZ8S0SSSSZ6S0SZ4S0SSSSZ2S0Z0S0SSZX\u0000\n",
      "fact: 1,1,2,6,24,120,720,5040,40320,362880,3628800,39916800,479001600,6227020800,87178291200,1307674368000,20922789888000,355687428096000,6402373705728000,121645100408832000,RRZR0S0RRZR0S0RRZR0S0RRZR0S0RRZR0S0RRZR0S0SSSSSSZ10S0Z8S0Z6S0SZ4S0SZ2S0SSZ0S0SZX\u0000\n"
     ]
    },
    {
     "name": "stderr",
     "output_type": "stream",
     "text": [
      "***** Running Evaluation *****\n",
      "  Num examples = 1000\n",
      "  Batch size = 8\n"
     ]
    },
    {
     "name": "stdout",
     "output_type": "stream",
     "text": [
      "real: 2,17,442,4277,22658,83977,246602,615197,1360642,2743553,5141402,9079237,15264002,24622457,38342698,57919277,85201922,122447857,172377722,238235093,RRZR0S0RRZR0S0RRZR0S0RRZR0S0RRZR0S0RRZR0S0SSSSSZ10S0SZ8S0SSSSZ6S0SZ4S0SSSSZ2S0Z0S0SSZX\n",
      "out:  2,17,442,4277,22658,83977,246602,615197,1360642,2743553,5141402,9079237,15264002,24622457,38342698,57919277,85201922,122447857,172377722,238235093,RRZR0S0RRZR0S0RRZR0S0RRZR0S0RRZR0S0RRZR0S0SSSSSZ10S0SZ8S0SSSSZ6S0SZ4S0SSSSZ2S0Z0S0SSZX\u0000\n",
      "fact: 1,1,2,6,24,120,720,5040,40320,362880,3628800,39916800,479001600,6227020800,87178291200,1307674368000,20922789888000,355687428096000,6402373705728000,121645100408832000,RRZR0S0RRZR0S0RRZR0S0RRZR0S0RRZR0S0RRZR0S0SSSSSSZ10S0Z8S0Z6S0SSSSSSZ4S0SZ2S0SSZ0S0SZX\u0000\n"
     ]
    },
    {
     "name": "stderr",
     "output_type": "stream",
     "text": [
      "***** Running Evaluation *****\n",
      "  Num examples = 1000\n",
      "  Batch size = 8\n"
     ]
    },
    {
     "name": "stdout",
     "output_type": "stream",
     "text": [
      "real: 2,17,442,4277,22658,83977,246602,615197,1360642,2743553,5141402,9079237,15264002,24622457,38342698,57919277,85201922,122447857,172377722,238235093,RRZR0S0RRZR0S0RRZR0S0RRZR0S0RRZR0S0RRZR0S0SSSSSZ10S0SZ8S0SSSSZ6S0SZ4S0SSSSZ2S0Z0S0SSZX\n",
      "out:  2,17,442,4277,22658,83977,246602,615197,1360642,2743553,5141402,9079237,15264002,24622457,38342698,57919277,85201922,122447857,172377722,238235093,RRZR0S0RRZR0S0RRZR0S0RRZR0S0RRZR0S0RRZR0S0SSSSSZ10S0SZ8S0SSSSZ6S0SZ4S0SSSSZ2S0Z0S0SSZX\u0000\n",
      "fact: 1,1,2,6,24,120,720,5040,40320,362880,3628800,39916800,479001600,6227020800,87178291200,1307674368000,20922789888000,355687428096000,6402373705728000,121645100408832000,RRZR0S0RRZR0S0RRZR0S0RRZR0S0RRZR0S0SSSSSSSZ10S0Z8S0Z6S0SZ4S0SZ2S0SSZ0S0SZX\u0000\n"
     ]
    },
    {
     "name": "stderr",
     "output_type": "stream",
     "text": [
      "***** Running Evaluation *****\n",
      "  Num examples = 1000\n",
      "  Batch size = 8\n"
     ]
    },
    {
     "name": "stdout",
     "output_type": "stream",
     "text": [
      "real: 2,17,442,4277,22658,83977,246602,615197,1360642,2743553,5141402,9079237,15264002,24622457,38342698,57919277,85201922,122447857,172377722,238235093,RRZR0S0RRZR0S0RRZR0S0RRZR0S0RRZR0S0RRZR0S0SSSSSZ10S0SZ8S0SSSSZ6S0SZ4S0SSSSZ2S0Z0S0SSZX\n",
      "out:  2,17,442,4277,22658,83977,246602,615197,1360642,2743553,5141402,9079237,15264002,24622457,38342698,57919277,85201922,122447857,172377722,238235093,RRZR0S0RRZR0S0RRZR0S0RRZR0S0RRZR0S0RRZR0S0SSSSSZ10S0SZ8S0SSSSZ6S0SZ4S0SSSSZ2S0Z0S0SSZX\u0000\n",
      "fact: 1,1,2,6,24,120,720,5040,40320,362880,3628800,39916800,479001600,6227020800,87178291200,1307674368000,20922789888000,355687428096000,6402373705728000,121645100408832000,RRZR0S0RRZR0S0RRZR0S0RRZR0S0RRZR0S0RRZR0S0SSSSSSZ10S0Z8S0Z6S0SSSSSSZ4S0SZ2S0SSZ0S0SZX\u0000\n"
     ]
    },
    {
     "name": "stderr",
     "output_type": "stream",
     "text": [
      "Saving model checkpoint to ./polys-model-4-dropout-2-cont/checkpoint-50000\n",
      "Trainer.model is not a `PreTrainedModel`, only saving its state dict.\n",
      "***** Running Evaluation *****\n",
      "  Num examples = 1000\n",
      "  Batch size = 8\n"
     ]
    },
    {
     "name": "stdout",
     "output_type": "stream",
     "text": [
      "real: 2,17,442,4277,22658,83977,246602,615197,1360642,2743553,5141402,9079237,15264002,24622457,38342698,57919277,85201922,122447857,172377722,238235093,RRZR0S0RRZR0S0RRZR0S0RRZR0S0RRZR0S0RRZR0S0SSSSSZ10S0SZ8S0SSSSZ6S0SZ4S0SSSSZ2S0Z0S0SSZX\n",
      "out:  2,17,442,4277,22658,83977,246602,615197,1360642,2743553,5141402,9079237,15264002,24622457,38342698,57919277,85201922,122447857,172377722,238235093,RRZR0S0RRZR0S0RRZR0S0RRZR0S0RRZR0S0RRZR0S0SSSSSZ10S0SZ8S0SSSSZ6S0SZ4S0SSSSZ2S0Z0S0SSZX\u0000\n",
      "fact: 1,1,2,6,24,120,720,5040,40320,362880,3628800,39916800,479001600,6227020800,87178291200,1307674368000,20922789888000,355687428096000,6402373705728000,121645100408832000,RRZR0S0RRZR0S0RRZR0S0RRZR0S0RRZR0S0SSSSSSSZ10S0Z8S0Z6S0Z4S0SZ2S0SSSSSSZ0S0SZX\u0000\n"
     ]
    },
    {
     "name": "stderr",
     "output_type": "stream",
     "text": [
      "***** Running Evaluation *****\n",
      "  Num examples = 1000\n",
      "  Batch size = 8\n"
     ]
    },
    {
     "name": "stdout",
     "output_type": "stream",
     "text": [
      "real: 2,17,442,4277,22658,83977,246602,615197,1360642,2743553,5141402,9079237,15264002,24622457,38342698,57919277,85201922,122447857,172377722,238235093,RRZR0S0RRZR0S0RRZR0S0RRZR0S0RRZR0S0RRZR0S0SSSSSZ10S0SZ8S0SSSSZ6S0SZ4S0SSSSZ2S0Z0S0SSZX\n",
      "out:  2,17,442,4277,22658,83977,246602,615197,1360642,2743553,5141402,9079237,15264002,24622457,38342698,57919277,85201922,122447857,172377722,238235093,RRZR0S0RRZR0S0RRZR0S0RRZR0S0RRZR0S0RRZR0S0SSSSSZ10S0SZ8S0SSSSZ6S0SZ4S0SSSSZ2S0Z0S0SSZX\u0000\n",
      "fact: 1,1,2,6,24,120,720,5040,40320,362880,3628800,39916800,479001600,6227020800,87178291200,1307674368000,20922789888000,355687428096000,6402373705728000,121645100408832000,RRZR0S0RRZR0S0RRZR0S0RRZR0S0RRZR0S0SSSSSSSZ10S0Z8S0Z6S0Z4S0SZ2S0SZ0S0SZX\u0000\n"
     ]
    },
    {
     "name": "stderr",
     "output_type": "stream",
     "text": [
      "***** Running Evaluation *****\n",
      "  Num examples = 1000\n",
      "  Batch size = 8\n"
     ]
    },
    {
     "name": "stdout",
     "output_type": "stream",
     "text": [
      "real: 2,17,442,4277,22658,83977,246602,615197,1360642,2743553,5141402,9079237,15264002,24622457,38342698,57919277,85201922,122447857,172377722,238235093,RRZR0S0RRZR0S0RRZR0S0RRZR0S0RRZR0S0RRZR0S0SSSSSZ10S0SZ8S0SSSSZ6S0SZ4S0SSSSZ2S0Z0S0SSZX\n",
      "out:  2,17,442,4277,22658,83977,246602,615197,1360642,2743553,5141402,9079237,15264002,24622457,38342698,57919277,85201922,122447857,172377722,238235093,RRZR0S0RRZR0S0RRZR0S0RRZR0S0RRZR0S0RRZR0S0SSSSSZ10S0SZ8S0SSSSZ6S0SZ4S0SSSSZ2S0Z0S0SSZX\u0000\n",
      "fact: 1,1,2,6,24,120,720,5040,40320,362880,3628800,39916800,479001600,6227020800,87178291200,1307674368000,20922789888000,355687428096000,6402373705728000,121645100408832000,RRZR0S0RRZR0S0RRZR0S0RRZR0S0RRZR0S0RRZR0S0SSSSSSZ10S0Z8S0Z6S0SSSSSSZ4S0SZ2S0SSZ0S0SZX\u0000\n"
     ]
    },
    {
     "name": "stderr",
     "output_type": "stream",
     "text": [
      "***** Running Evaluation *****\n",
      "  Num examples = 1000\n",
      "  Batch size = 8\n"
     ]
    },
    {
     "name": "stdout",
     "output_type": "stream",
     "text": [
      "real: 2,17,442,4277,22658,83977,246602,615197,1360642,2743553,5141402,9079237,15264002,24622457,38342698,57919277,85201922,122447857,172377722,238235093,RRZR0S0RRZR0S0RRZR0S0RRZR0S0RRZR0S0RRZR0S0SSSSSZ10S0SZ8S0SSSSZ6S0SZ4S0SSSSZ2S0Z0S0SSZX\n",
      "out:  2,17,442,4277,22658,83977,246602,615197,1360642,2743553,5141402,9079237,15264002,24622457,38342698,57919277,85201922,122447857,172377722,238235093,RRZR0S0RRZR0S0RRZR0S0RRZR0S0RRZR0S0RRZR0S0SSSSSZ10S0SZ8S0SSSSZ6S0SZ4S0SSSSZ2S0Z0S0SSZX\u0000\n",
      "fact: 1,1,2,6,24,120,720,5040,40320,362880,3628800,39916800,479001600,6227020800,87178291200,1307674368000,20922789888000,355687428096000,6402373705728000,121645100408832000,RRZR0S0RRZR0S0RRZR0S0RRZR0S0RRZR0S0RRZR0S0SSSSSSZ10S0Z8S0Z6S0SSSSSSZ4S0SZ2S0SSZ0S0SZX\u0000\n"
     ]
    },
    {
     "name": "stderr",
     "output_type": "stream",
     "text": [
      "***** Running Evaluation *****\n",
      "  Num examples = 1000\n",
      "  Batch size = 8\n"
     ]
    },
    {
     "name": "stdout",
     "output_type": "stream",
     "text": [
      "real: 2,17,442,4277,22658,83977,246602,615197,1360642,2743553,5141402,9079237,15264002,24622457,38342698,57919277,85201922,122447857,172377722,238235093,RRZR0S0RRZR0S0RRZR0S0RRZR0S0RRZR0S0RRZR0S0SSSSSZ10S0SZ8S0SSSSZ6S0SZ4S0SSSSZ2S0Z0S0SSZX\n",
      "out:  2,17,442,4277,22658,83977,246602,615197,1360642,2743553,5141402,9079237,15264002,24622457,38342698,57919277,85201922,122447857,172377722,238235093,RRZR0S0RRZR0S0RRZR0S0RRZR0S0RRZR0S0RRZR0S0SSSSSZ10S0SZ8S0SSSSZ6S0SZ4S0SSSSZ2S0Z0S0SSZX\u0000\n",
      "fact: 1,1,2,6,24,120,720,5040,40320,362880,3628800,39916800,479001600,6227020800,87178291200,1307674368000,20922789888000,355687428096000,6402373705728000,121645100408832000,RRZR0S0RRZR0S0RRZR0S0RRZR0S0RRZR0S0RRZR0S0SSSSSSZ10S0Z8S0Z6S0SSSSSSZ4S0Z2S0SSZ0S0SZX\u0000\n"
     ]
    },
    {
     "name": "stderr",
     "output_type": "stream",
     "text": [
      "***** Running Evaluation *****\n",
      "  Num examples = 1000\n",
      "  Batch size = 8\n"
     ]
    },
    {
     "name": "stdout",
     "output_type": "stream",
     "text": [
      "real: 2,17,442,4277,22658,83977,246602,615197,1360642,2743553,5141402,9079237,15264002,24622457,38342698,57919277,85201922,122447857,172377722,238235093,RRZR0S0RRZR0S0RRZR0S0RRZR0S0RRZR0S0RRZR0S0SSSSSZ10S0SZ8S0SSSSZ6S0SZ4S0SSSSZ2S0Z0S0SSZX\n",
      "out:  2,17,442,4277,22658,83977,246602,615197,1360642,2743553,5141402,9079237,15264002,24622457,38342698,57919277,85201922,122447857,172377722,238235093,RRZR0S0RRZR0S0RRZR0S0RRZR0S0RRZR0S0RRZR0S0SSSSSZ10S0SZ8S0SSSSZ6S0SZ4S0SSSSZ2S0Z0S0SSZX\u0000\n",
      "fact: 1,1,2,6,24,120,720,5040,40320,362880,3628800,39916800,479001600,6227020800,87178291200,1307674368000,20922789888000,355687428096000,6402373705728000,121645100408832000,RRZR0S0RRZR0S0RRZR0S0RRZR0S0RRZR0S0SSSSSSSZ10S0Z8S0Z6S0Z4S0SZ2S0SZ0S0SZX\u0000\n"
     ]
    },
    {
     "name": "stderr",
     "output_type": "stream",
     "text": [
      "***** Running Evaluation *****\n",
      "  Num examples = 1000\n",
      "  Batch size = 8\n"
     ]
    },
    {
     "name": "stdout",
     "output_type": "stream",
     "text": [
      "real: 2,17,442,4277,22658,83977,246602,615197,1360642,2743553,5141402,9079237,15264002,24622457,38342698,57919277,85201922,122447857,172377722,238235093,RRZR0S0RRZR0S0RRZR0S0RRZR0S0RRZR0S0RRZR0S0SSSSSZ10S0SZ8S0SSSSZ6S0SZ4S0SSSSZ2S0Z0S0SSZX\n",
      "out:  2,17,442,4277,22658,83977,246602,615197,1360642,2743553,5141402,9079237,15264002,24622457,38342698,57919277,85201922,122447857,172377722,238235093,RRZR0S0RRZR0S0RRZR0S0RRZR0S0RRZR0S0RRZR0S0SSSSSZ10S0SZ8S0SSSSZ6S0SZ4S0SSSSZ2S0Z0S0SSZX\u0000\n",
      "fact: 1,1,2,6,24,120,720,5040,40320,362880,3628800,39916800,479001600,6227020800,87178291200,1307674368000,20922789888000,355687428096000,6402373705728000,121645100408832000,RRZR0S0RRZR0S0RRZR0S0RRZR0S0RRZR0S0RRZR0S0SSSSSSZ10S0Z8S0Z6S0SZ4S0SSSSSSZ2S0SSZ0S0SZX\u0000\n"
     ]
    },
    {
     "name": "stderr",
     "output_type": "stream",
     "text": [
      "***** Running Evaluation *****\n",
      "  Num examples = 1000\n",
      "  Batch size = 8\n"
     ]
    },
    {
     "name": "stdout",
     "output_type": "stream",
     "text": [
      "real: 2,17,442,4277,22658,83977,246602,615197,1360642,2743553,5141402,9079237,15264002,24622457,38342698,57919277,85201922,122447857,172377722,238235093,RRZR0S0RRZR0S0RRZR0S0RRZR0S0RRZR0S0RRZR0S0SSSSSZ10S0SZ8S0SSSSZ6S0SZ4S0SSSSZ2S0Z0S0SSZX\n",
      "out:  2,17,442,4277,22658,83977,246602,615197,1360642,2743553,5141402,9079237,15264002,24622457,38342698,57919277,85201922,122447857,172377722,238235093,RRZR0S0RRZR0S0RRZR0S0RRZR0S0RRZR0S0RRZR0S0SSSSSZ10S0SZ8S0SSSSZ6S0SZ4S0SSSSZ2S0Z0S0SSZX\u0000\n",
      "fact: 1,1,2,6,24,120,720,5040,40320,362880,3628800,39916800,479001600,6227020800,87178291200,1307674368000,20922789888000,355687428096000,6402373705728000,121645100408832000,RRZR0S0RRZR0S0RRZR0S0RRZR0S0RRZR0S0SSSSSSSZ10S0Z8S0Z6S0Z4S0SSSSSSZ2S0SSZ0S0SZX\u0000\n"
     ]
    },
    {
     "name": "stderr",
     "output_type": "stream",
     "text": [
      "***** Running Evaluation *****\n",
      "  Num examples = 1000\n",
      "  Batch size = 8\n"
     ]
    },
    {
     "name": "stdout",
     "output_type": "stream",
     "text": [
      "real: 2,17,442,4277,22658,83977,246602,615197,1360642,2743553,5141402,9079237,15264002,24622457,38342698,57919277,85201922,122447857,172377722,238235093,RRZR0S0RRZR0S0RRZR0S0RRZR0S0RRZR0S0RRZR0S0SSSSSZ10S0SZ8S0SSSSZ6S0SZ4S0SSSSZ2S0Z0S0SSZX\n",
      "out:  2,17,442,4277,22658,83977,246602,615197,1360642,2743553,5141402,9079237,15264002,24622457,38342698,57919277,85201922,122447857,172377722,238235093,RRZR0S0RRZR0S0RRZR0S0RRZR0S0RRZR0S0RRZR0S0SSSSSZ10S0SZ8S0SSSSZ6S0SZ4S0SSSSZ2S0Z0S0SSZX\u0000\n",
      "fact: 1,1,2,6,24,120,720,5040,40320,362880,3628800,39916800,479001600,6227020800,87178291200,1307674368000,20922789888000,355687428096000,6402373705728000,121645100408832000,RRZR0S0RRZR0S0RRZR0S0RRZR0S0RRZR0S0RRZR0S0SSSSSSZ10S0Z8S0Z6S0SSSSSSZ4S0SZ2S0SSZ0S0SZX\u0000\n"
     ]
    },
    {
     "name": "stderr",
     "output_type": "stream",
     "text": [
      "***** Running Evaluation *****\n",
      "  Num examples = 1000\n",
      "  Batch size = 8\n"
     ]
    },
    {
     "name": "stdout",
     "output_type": "stream",
     "text": [
      "real: 2,17,442,4277,22658,83977,246602,615197,1360642,2743553,5141402,9079237,15264002,24622457,38342698,57919277,85201922,122447857,172377722,238235093,RRZR0S0RRZR0S0RRZR0S0RRZR0S0RRZR0S0RRZR0S0SSSSSZ10S0SZ8S0SSSSZ6S0SZ4S0SSSSZ2S0Z0S0SSZX\n",
      "out:  2,17,442,4277,22658,83977,246602,615197,1360642,2743553,5141402,9079237,15264002,24622457,38342698,57919277,85201922,122447857,172377722,238235093,RRZR0S0RRZR0S0RRZR0S0RRZR0S0RRZR0S0RRZR0S0SSSSSZ10S0SZ8S0SSSSZ6S0SZ4S0SSSSZ2S0Z0S0SSZX\u0000\n",
      "fact: 1,1,2,6,24,120,720,5040,40320,362880,3628800,39916800,479001600,6227020800,87178291200,1307674368000,20922789888000,355687428096000,6402373705728000,121645100408832000,RRZR0S0RRZR0S0RRZR0S0RRZR0S0RRZR0S0SSSSSSSZ10S0Z8S0Z6S0SZ4S0SZ2S0SSZ0S0SZX\u0000\n"
     ]
    },
    {
     "name": "stderr",
     "output_type": "stream",
     "text": [
      "***** Running Evaluation *****\n",
      "  Num examples = 1000\n",
      "  Batch size = 8\n"
     ]
    },
    {
     "name": "stdout",
     "output_type": "stream",
     "text": [
      "real: 2,17,442,4277,22658,83977,246602,615197,1360642,2743553,5141402,9079237,15264002,24622457,38342698,57919277,85201922,122447857,172377722,238235093,RRZR0S0RRZR0S0RRZR0S0RRZR0S0RRZR0S0RRZR0S0SSSSSZ10S0SZ8S0SSSSZ6S0SZ4S0SSSSZ2S0Z0S0SSZX\n",
      "out:  2,17,442,4277,22658,83977,246602,615197,1360642,2743553,5141402,9079237,15264002,24622457,38342698,57919277,85201922,122447857,172377722,238235093,RRZR0S0RRZR0S0RRZR0S0RRZR0S0RRZR0S0RRZR0S0SSSSSZ10S0SZ8S0SSSSZ6S0SZ4S0SSSSZ2S0Z0S0SSZX\u0000\n",
      "fact: 1,1,2,6,24,120,720,5040,40320,362880,3628800,39916800,479001600,6227020800,87178291200,1307674368000,20922789888000,355687428096000,6402373705728000,121645100408832000,RRZR0S0RRZR0S0RRZR0S0RRZR0S0RRZR0S0RRZR0S0SSSSSSZ10S0Z8S0Z6S0SSSSSSZ4S0SSZ2S0Z0S0SZX\u0000\n"
     ]
    },
    {
     "name": "stderr",
     "output_type": "stream",
     "text": [
      "***** Running Evaluation *****\n",
      "  Num examples = 1000\n",
      "  Batch size = 8\n"
     ]
    },
    {
     "name": "stdout",
     "output_type": "stream",
     "text": [
      "real: 2,17,442,4277,22658,83977,246602,615197,1360642,2743553,5141402,9079237,15264002,24622457,38342698,57919277,85201922,122447857,172377722,238235093,RRZR0S0RRZR0S0RRZR0S0RRZR0S0RRZR0S0RRZR0S0SSSSSZ10S0SZ8S0SSSSZ6S0SZ4S0SSSSZ2S0Z0S0SSZX\n",
      "out:  2,17,442,4277,22658,83977,246602,615197,1360642,2743553,5141402,9079237,15264002,24622457,38342698,57919277,85201922,122447857,172377722,238235093,RRZR0S0RRZR0S0RRZR0S0RRZR0S0RRZR0S0RRZR0S0SSSSSZ10S0SZ8S0SSSSZ6S0SZ4S0SSSSZ2S0Z0S0SSZX\u0000\n",
      "fact: 1,1,2,6,24,120,720,5040,40320,362880,3628800,39916800,479001600,6227020800,87178291200,1307674368000,20922789888000,355687428096000,6402373705728000,121645100408832000,RRZR0S0RRZR0S0RRZR0S0RRZR0S0RRZR0S0RRZR0S0SSSSSSZ10S0Z8S0Z6S0SSSSSSZ4S0SSZ2S0SSZ0S0SZX\u0000\n"
     ]
    },
    {
     "name": "stderr",
     "output_type": "stream",
     "text": [
      "***** Running Evaluation *****\n",
      "  Num examples = 1000\n",
      "  Batch size = 8\n"
     ]
    },
    {
     "name": "stdout",
     "output_type": "stream",
     "text": [
      "real: 2,17,442,4277,22658,83977,246602,615197,1360642,2743553,5141402,9079237,15264002,24622457,38342698,57919277,85201922,122447857,172377722,238235093,RRZR0S0RRZR0S0RRZR0S0RRZR0S0RRZR0S0RRZR0S0SSSSSZ10S0SZ8S0SSSSZ6S0SZ4S0SSSSZ2S0Z0S0SSZX\n",
      "out:  2,17,442,4277,22658,83977,246602,615197,1360642,2743553,5141402,9079237,15264002,24622457,38342698,57919277,85201922,122447857,172377722,238235093,RRZR0S0RRZR0S0RRZR0S0RRZR0S0RRZR0S0RRZR0S0SSSSSZ10S0SZ8S0SSSSZ6S0SZ4S0SSSSZ2S0Z0S0SSZX\u0000\n",
      "fact: 1,1,2,6,24,120,720,5040,40320,362880,3628800,39916800,479001600,6227020800,87178291200,1307674368000,20922789888000,355687428096000,6402373705728000,121645100408832000,RRZR0S0RRZR0S0RRZR0S0RRZR0S0RRZR0S0RRZR0S0SSSSSSZ10S0Z8S0Z6S0SSSSSSZ4S0SSZ2S0Z0S0SZX\u0000\n"
     ]
    },
    {
     "name": "stderr",
     "output_type": "stream",
     "text": [
      "***** Running Evaluation *****\n",
      "  Num examples = 1000\n",
      "  Batch size = 8\n"
     ]
    },
    {
     "name": "stdout",
     "output_type": "stream",
     "text": [
      "real: 2,17,442,4277,22658,83977,246602,615197,1360642,2743553,5141402,9079237,15264002,24622457,38342698,57919277,85201922,122447857,172377722,238235093,RRZR0S0RRZR0S0RRZR0S0RRZR0S0RRZR0S0RRZR0S0SSSSSZ10S0SZ8S0SSSSZ6S0SZ4S0SSSSZ2S0Z0S0SSZX\n",
      "out:  2,17,442,4277,22658,83977,246602,615197,1360642,2743553,5141402,9079237,15264002,24622457,38342698,57919277,85201922,122447857,172377722,238235093,RRZR0S0RRZR0S0RRZR0S0RRZR0S0RRZR0S0RRZR0S0SSSSSZ10S0SZ8S0SSSSZ6S0SZ4S0SSSSZ2S0Z0S0SSZX\u0000\n",
      "fact: 1,1,2,6,24,120,720,5040,40320,362880,3628800,39916800,479001600,6227020800,87178291200,1307674368000,20922789888000,355687428096000,6402373705728000,121645100408832000,RRZR0S0RRZR0S0RRZR0S0RRZR0S0RRZR0S0RRZR0S0SSSSSSZ10S0SSSZ8S0Z6S0SSSSSSZ4S0SZ2S0SSZ0S0SZX\u0000\n"
     ]
    },
    {
     "name": "stderr",
     "output_type": "stream",
     "text": [
      "***** Running Evaluation *****\n",
      "  Num examples = 1000\n",
      "  Batch size = 8\n"
     ]
    },
    {
     "name": "stdout",
     "output_type": "stream",
     "text": [
      "real: 2,17,442,4277,22658,83977,246602,615197,1360642,2743553,5141402,9079237,15264002,24622457,38342698,57919277,85201922,122447857,172377722,238235093,RRZR0S0RRZR0S0RRZR0S0RRZR0S0RRZR0S0RRZR0S0SSSSSZ10S0SZ8S0SSSSZ6S0SZ4S0SSSSZ2S0Z0S0SSZX\n",
      "out:  2,17,442,4277,22658,83977,246602,615197,1360642,2743553,5141402,9079237,15264002,24622457,38342698,57919277,85201922,122447857,172377722,238235093,RRZR0S0RRZR0S0RRZR0S0RRZR0S0RRZR0S0RRZR0S0SSSSSZ10S0SZ8S0SSSSZ6S0SZ4S0SSSSZ2S0Z0S0SSZX\u0000\n",
      "fact: 1,1,2,6,24,120,720,5040,40320,362880,3628800,39916800,479001600,6227020800,87178291200,1307674368000,20922789888000,355687428096000,6402373705728000,121645100408832000,RRZR0S0RRZR0S0RRZR0S0RRZR0S0RRZR0S0SSSSSSSZ10S0Z8S0Z6S0SZ4S0SZ2S0SSSSSSZ0S0SZX\u0000\n"
     ]
    },
    {
     "name": "stderr",
     "output_type": "stream",
     "text": [
      "***** Running Evaluation *****\n",
      "  Num examples = 1000\n",
      "  Batch size = 8\n"
     ]
    },
    {
     "name": "stdout",
     "output_type": "stream",
     "text": [
      "real: 2,17,442,4277,22658,83977,246602,615197,1360642,2743553,5141402,9079237,15264002,24622457,38342698,57919277,85201922,122447857,172377722,238235093,RRZR0S0RRZR0S0RRZR0S0RRZR0S0RRZR0S0RRZR0S0SSSSSZ10S0SZ8S0SSSSZ6S0SZ4S0SSSSZ2S0Z0S0SSZX\n",
      "out:  2,17,442,4277,22658,83977,246602,615197,1360642,2743553,5141402,9079237,15264002,24622457,38342698,57919277,85201922,122447857,172377722,238235093,RRZR0S0RRZR0S0RRZR0S0RRZR0S0RRZR0S0RRZR0S0SSSSSZ10S0SZ8S0SSSSZ6S0SZ4S0SSSSZ2S0Z0S0SSZX\u0000\n",
      "fact: 1,1,2,6,24,120,720,5040,40320,362880,3628800,39916800,479001600,6227020800,87178291200,1307674368000,20922789888000,355687428096000,6402373705728000,121645100408832000,RRZR0S0RRZR0S0RRZR0S0RRZR0S0RRZR0S0RRZR0S0SSSSSSZ10S0Z8S0Z6S0SSSSSSZ4S0SZ2S0SSSSSSZ0S0SZX\u0000\n"
     ]
    },
    {
     "name": "stderr",
     "output_type": "stream",
     "text": [
      "***** Running Evaluation *****\n",
      "  Num examples = 1000\n",
      "  Batch size = 8\n"
     ]
    },
    {
     "name": "stdout",
     "output_type": "stream",
     "text": [
      "real: 2,17,442,4277,22658,83977,246602,615197,1360642,2743553,5141402,9079237,15264002,24622457,38342698,57919277,85201922,122447857,172377722,238235093,RRZR0S0RRZR0S0RRZR0S0RRZR0S0RRZR0S0RRZR0S0SSSSSZ10S0SZ8S0SSSSZ6S0SZ4S0SSSSZ2S0Z0S0SSZX\n",
      "out:  2,17,442,4277,22658,83977,246602,615197,1360642,2743553,5141402,9079237,15264002,24622457,38342698,57919277,85201922,122447857,172377722,238235093,RRZR0S0RRZR0S0RRZR0S0RRZR0S0RRZR0S0RRZR0S0SSSSSZ10S0SZ8S0SSSSZ6S0SZ4S0SSSSZ2S0Z0S0SSZX\u0000\n",
      "fact: 1,1,2,6,24,120,720,5040,40320,362880,3628800,39916800,479001600,6227020800,87178291200,1307674368000,20922789888000,355687428096000,6402373705728000,121645100408832000,RRZR0S0RRZR0S0RRZR0S0RRZR0S0RRZR0S0RRZR0S0SSSSSSZ10S0Z8S0Z6S0SSSSSSZ4S0SZ2S0SSSSSSZ0S0SZX\u0000\n"
     ]
    },
    {
     "name": "stderr",
     "output_type": "stream",
     "text": [
      "***** Running Evaluation *****\n",
      "  Num examples = 1000\n",
      "  Batch size = 8\n"
     ]
    },
    {
     "name": "stdout",
     "output_type": "stream",
     "text": [
      "real: 2,17,442,4277,22658,83977,246602,615197,1360642,2743553,5141402,9079237,15264002,24622457,38342698,57919277,85201922,122447857,172377722,238235093,RRZR0S0RRZR0S0RRZR0S0RRZR0S0RRZR0S0RRZR0S0SSSSSZ10S0SZ8S0SSSSZ6S0SZ4S0SSSSZ2S0Z0S0SSZX\n",
      "out:  2,17,442,4277,22658,83977,246602,615197,1360642,2743553,5141402,9079237,15264002,24622457,38342698,57919277,85201922,122447857,172377722,238235093,RRZR0S0RRZR0S0RRZR0S0RRZR0S0RRZR0S0RRZR0S0SSSSSZ10S0SZ8S0SSSSZ6S0SZ4S0SSSSZ2S0Z0S0SSZX\u0000\n",
      "fact: 1,1,2,6,24,120,720,5040,40320,362880,3628800,39916800,479001600,6227020800,87178291200,1307674368000,20922789888000,355687428096000,6402373705728000,121645100408832000,RRZR0S0RRZR0S0RRZR0S0RRZR0S0RRZR0S0RRZR0S0SSSSSSZ10S0Z8S0Z6S0SSSSSSZ4S0SZ2S0SSSSSSZ0S0SZX\u0000\n"
     ]
    },
    {
     "name": "stderr",
     "output_type": "stream",
     "text": [
      "***** Running Evaluation *****\n",
      "  Num examples = 1000\n",
      "  Batch size = 8\n"
     ]
    },
    {
     "name": "stdout",
     "output_type": "stream",
     "text": [
      "real: 2,17,442,4277,22658,83977,246602,615197,1360642,2743553,5141402,9079237,15264002,24622457,38342698,57919277,85201922,122447857,172377722,238235093,RRZR0S0RRZR0S0RRZR0S0RRZR0S0RRZR0S0RRZR0S0SSSSSZ10S0SZ8S0SSSSZ6S0SZ4S0SSSSZ2S0Z0S0SSZX\n",
      "out:  2,17,442,4277,22658,83977,246602,615197,1360642,2743553,5141402,9079237,15264002,24622457,38342698,57919277,85201922,122447857,172377722,238235093,RRZR0S0RRZR0S0RRZR0S0RRZR0S0RRZR0S0RRZR0S0SSSSSZ10S0SZ8S0SSSSZ6S0SZ4S0SSSSZ2S0Z0S0SSZX\u0000\n",
      "fact: 1,1,2,6,24,120,720,5040,40320,362880,3628800,39916800,479001600,6227020800,87178291200,1307674368000,20922789888000,355687428096000,6402373705728000,121645100408832000,RRZR0S0RRZR0S0RRZR0S0RRZR0S0RRZR0S0SSSSSSZ10S0Z8S0Z6S0SSSSSSZ4S0SZ2S0SSSSSSZ0S0SZX\u0000\n"
     ]
    },
    {
     "name": "stderr",
     "output_type": "stream",
     "text": [
      "***** Running Evaluation *****\n",
      "  Num examples = 1000\n",
      "  Batch size = 8\n"
     ]
    },
    {
     "name": "stdout",
     "output_type": "stream",
     "text": [
      "real: 2,17,442,4277,22658,83977,246602,615197,1360642,2743553,5141402,9079237,15264002,24622457,38342698,57919277,85201922,122447857,172377722,238235093,RRZR0S0RRZR0S0RRZR0S0RRZR0S0RRZR0S0RRZR0S0SSSSSZ10S0SZ8S0SSSSZ6S0SZ4S0SSSSZ2S0Z0S0SSZX\n",
      "out:  2,17,442,4277,22658,83977,246602,615197,1360642,2743553,5141402,9079237,15264002,24622457,38342698,57919277,85201922,122447857,172377722,238235093,RRZR0S0RRZR0S0RRZR0S0RRZR0S0RRZR0S0RRZR0S0SSSSSZ10S0SZ8S0SSSSZ6S0SZ4S0SSSSZ2S0Z0S0SSZX\u0000\n",
      "fact: 1,1,2,6,24,120,720,5040,40320,362880,3628800,39916800,479001600,6227020800,87178291200,1307674368000,20922789888000,355687428096000,6402373705728000,121645100408832000,RRZR0S0RRZR0S0RRZR0S0RRZR0S0RRZR0S0RRZR0S0SSSSSSZ10S0Z8S0SSSSSSZ6S0SZ4S0SSSSSSZ2S0Z0S0SZX\u0000\n"
     ]
    },
    {
     "name": "stderr",
     "output_type": "stream",
     "text": [
      "Saving model checkpoint to ./polys-model-4-dropout-2-cont/checkpoint-60000\n",
      "Trainer.model is not a `PreTrainedModel`, only saving its state dict.\n",
      "***** Running Evaluation *****\n",
      "  Num examples = 1000\n",
      "  Batch size = 8\n"
     ]
    },
    {
     "name": "stdout",
     "output_type": "stream",
     "text": [
      "real: 2,17,442,4277,22658,83977,246602,615197,1360642,2743553,5141402,9079237,15264002,24622457,38342698,57919277,85201922,122447857,172377722,238235093,RRZR0S0RRZR0S0RRZR0S0RRZR0S0RRZR0S0RRZR0S0SSSSSZ10S0SZ8S0SSSSZ6S0SZ4S0SSSSZ2S0Z0S0SSZX\n",
      "out:  2,17,442,4277,22658,83977,246602,615197,1360642,2743553,5141402,9079237,15264002,24622457,38342698,57919277,85201922,122447857,172377722,238235093,RRZR0S0RRZR0S0RRZR0S0RRZR0S0RRZR0S0RRZR0S0SSSSSZ10S0SZ8S0SSSSZ6S0SZ4S0SSSSZ2S0Z0S0SSZX\u0000\n",
      "fact: 1,1,2,6,24,120,720,5040,40320,362880,3628800,39916800,479001600,6227020800,87178291200,1307674368000,20922789888000,355687428096000,6402373705728000,121645100408832000,RRZR0S0RRZR0S0RRZR0S0RRZR0S0RRZR0S0RRZR0S0SSSSSSZ10S0Z8S0Z6S0SSSSSSZ4S0SSSSSSZ2S0Z0S0SZX\u0000\n"
     ]
    },
    {
     "name": "stderr",
     "output_type": "stream",
     "text": [
      "***** Running Evaluation *****\n",
      "  Num examples = 1000\n",
      "  Batch size = 8\n"
     ]
    },
    {
     "name": "stdout",
     "output_type": "stream",
     "text": [
      "real: 2,17,442,4277,22658,83977,246602,615197,1360642,2743553,5141402,9079237,15264002,24622457,38342698,57919277,85201922,122447857,172377722,238235093,RRZR0S0RRZR0S0RRZR0S0RRZR0S0RRZR0S0RRZR0S0SSSSSZ10S0SZ8S0SSSSZ6S0SZ4S0SSSSZ2S0Z0S0SSZX\n",
      "out:  2,17,442,4277,22658,83977,246602,615197,1360642,2743553,5141402,9079237,15264002,24622457,38342698,57919277,85201922,122447857,172377722,238235093,RRZR0S0RRZR0S0RRZR0S0RRZR0S0RRZR0S0RRZR0S0SSSSSZ10S0SZ8S0SSSSZ6S0SZ4S0SSSSZ2S0Z0S0SSZX\u0000\n",
      "fact: 1,1,2,6,24,120,720,5040,40320,362880,3628800,39916800,479001600,6227020800,87178291200,1307674368000,20922789888000,355687428096000,6402373705728000,121645100408832000,RRZR0S0RRZR0S0RRZR0S0RRZR0S0RRZR0S0RRZR0S0SSSSSSZ10S0Z8S0Z6S0SSSSSSZ4S0SZ2S0Z0S0SZX\u0000\n"
     ]
    },
    {
     "name": "stderr",
     "output_type": "stream",
     "text": [
      "***** Running Evaluation *****\n",
      "  Num examples = 1000\n",
      "  Batch size = 8\n"
     ]
    },
    {
     "name": "stdout",
     "output_type": "stream",
     "text": [
      "real: 2,17,442,4277,22658,83977,246602,615197,1360642,2743553,5141402,9079237,15264002,24622457,38342698,57919277,85201922,122447857,172377722,238235093,RRZR0S0RRZR0S0RRZR0S0RRZR0S0RRZR0S0RRZR0S0SSSSSZ10S0SZ8S0SSSSZ6S0SZ4S0SSSSZ2S0Z0S0SSZX\n",
      "out:  2,17,442,4277,22658,83977,246602,615197,1360642,2743553,5141402,9079237,15264002,24622457,38342698,57919277,85201922,122447857,172377722,238235093,RRZR0S0RRZR0S0RRZR0S0RRZR0S0RRZR0S0RRZR0S0SSSSSZ10S0SZ8S0SSSSZ6S0SZ4S0SSSSZ2S0Z0S0SSZX\u0000\n",
      "fact: 1,1,2,6,24,120,720,5040,40320,362880,3628800,39916800,479001600,6227020800,87178291200,1307674368000,20922789888000,355687428096000,6402373705728000,121645100408832000,RRZR0S0RRZR0S0RRZR0S0RRZR0S0RRZR0S0RRZR0S0SSSSSSZ10S0Z8S0Z6S0SZ4S0SZ2S0SSSSSSZ0S0SZX\u0000\n"
     ]
    },
    {
     "name": "stderr",
     "output_type": "stream",
     "text": [
      "***** Running Evaluation *****\n",
      "  Num examples = 1000\n",
      "  Batch size = 8\n"
     ]
    },
    {
     "name": "stdout",
     "output_type": "stream",
     "text": [
      "real: 2,17,442,4277,22658,83977,246602,615197,1360642,2743553,5141402,9079237,15264002,24622457,38342698,57919277,85201922,122447857,172377722,238235093,RRZR0S0RRZR0S0RRZR0S0RRZR0S0RRZR0S0RRZR0S0SSSSSZ10S0SZ8S0SSSSZ6S0SZ4S0SSSSZ2S0Z0S0SSZX\n",
      "out:  2,17,442,4277,22658,83977,246602,615197,1360642,2743553,5141402,9079237,15264002,24622457,38342698,57919277,85201922,122447857,172377722,238235093,RRZR0S0RRZR0S0RRZR0S0RRZR0S0RRZR0S0RRZR0S0SSSSSZ10S0SZ8S0SSSSZ6S0SZ4S0SSSSZ2S0Z0S0SSZX\u0000\n",
      "fact: 1,1,2,6,24,120,720,5040,40320,362880,3628800,39916800,479001600,6227020800,87178291200,1307674368000,20922789888000,355687428096000,6402373705728000,121645100408832000,RRZR0S0RRZR0S0RRZR0S0RRZR0S0RRZR0S0SSSSSSSZ10S0Z8S0Z6S0SSSSSSZ4S0SZ2S0SSSSSSZ0S0SZX\u0000\n"
     ]
    },
    {
     "name": "stderr",
     "output_type": "stream",
     "text": [
      "***** Running Evaluation *****\n",
      "  Num examples = 1000\n",
      "  Batch size = 8\n"
     ]
    },
    {
     "name": "stdout",
     "output_type": "stream",
     "text": [
      "real: 2,17,442,4277,22658,83977,246602,615197,1360642,2743553,5141402,9079237,15264002,24622457,38342698,57919277,85201922,122447857,172377722,238235093,RRZR0S0RRZR0S0RRZR0S0RRZR0S0RRZR0S0RRZR0S0SSSSSZ10S0SZ8S0SSSSZ6S0SZ4S0SSSSZ2S0Z0S0SSZX\n",
      "out:  2,17,442,4277,22658,83977,246602,615197,1360642,2743553,5141402,9079237,15264002,24622457,38342698,57919277,85201922,122447857,172377722,238235093,RRZR0S0RRZR0S0RRZR0S0RRZR0S0RRZR0S0RRZR0S0SSSSSZ10S0SZ8S0SSSSZ6S0SZ4S0SSSSZ2S0Z0S0SSZX\u0000\n",
      "fact: 1,1,2,6,24,120,720,5040,40320,362880,3628800,39916800,479001600,6227020800,87178291200,1307674368000,20922789888000,355687428096000,6402373705728000,121645100408832000,RRZR0S0RRZR0S0RRZR0S0RRZR0S0RRZR0S0RRZR0S0SSSSSSZ10S0Z8S0Z6S0SZ4S0SZ2S0SSSSSSZ0S0SZX\u0000\n"
     ]
    },
    {
     "name": "stderr",
     "output_type": "stream",
     "text": [
      "***** Running Evaluation *****\n",
      "  Num examples = 1000\n",
      "  Batch size = 8\n"
     ]
    },
    {
     "name": "stdout",
     "output_type": "stream",
     "text": [
      "real: 2,17,442,4277,22658,83977,246602,615197,1360642,2743553,5141402,9079237,15264002,24622457,38342698,57919277,85201922,122447857,172377722,238235093,RRZR0S0RRZR0S0RRZR0S0RRZR0S0RRZR0S0RRZR0S0SSSSSZ10S0SZ8S0SSSSZ6S0SZ4S0SSSSZ2S0Z0S0SSZX\n",
      "out:  2,17,442,4277,22658,83977,246602,615197,1360642,2743553,5141402,9079237,15264002,24622457,38342698,57919277,85201922,122447857,172377722,238235093,RRZR0S0RRZR0S0RRZR0S0RRZR0S0RRZR0S0RRZR0S0SSSSSZ10S0SZ8S0SSSSZ6S0SZ4S0SSSSZ2S0Z0S0SSZX\u0000\n",
      "fact: 1,1,2,6,24,120,720,5040,40320,362880,3628800,39916800,479001600,6227020800,87178291200,1307674368000,20922789888000,355687428096000,6402373705728000,121645100408832000,RRZR0S0RRZR0S0RRZR0S0RRZR0S0RRZR0S0RRZR0S0SSSSSSZ10S0Z8S0Z6S0SSSSSSZ4S0Z2S0Z0S0SZX\u0000\n"
     ]
    },
    {
     "name": "stderr",
     "output_type": "stream",
     "text": [
      "***** Running Evaluation *****\n",
      "  Num examples = 1000\n",
      "  Batch size = 8\n"
     ]
    },
    {
     "name": "stdout",
     "output_type": "stream",
     "text": [
      "real: 2,17,442,4277,22658,83977,246602,615197,1360642,2743553,5141402,9079237,15264002,24622457,38342698,57919277,85201922,122447857,172377722,238235093,RRZR0S0RRZR0S0RRZR0S0RRZR0S0RRZR0S0RRZR0S0SSSSSZ10S0SZ8S0SSSSZ6S0SZ4S0SSSSZ2S0Z0S0SSZX\n",
      "out:  2,17,442,4277,22658,83977,246602,615197,1360642,2743553,5141402,9079237,15264002,24622457,38342698,57919277,85201922,122447857,172377722,238235093,RRZR0S0RRZR0S0RRZR0S0RRZR0S0RRZR0S0RRZR0S0SSSSSZ10S0SZ8S0SSSSZ6S0SZ4S0SSSSZ2S0Z0S0SSZX\u0000\n",
      "fact: 1,1,2,6,24,120,720,5040,40320,362880,3628800,39916800,479001600,6227020800,87178291200,1307674368000,20922789888000,355687428096000,6402373705728000,121645100408832000,RRZR0S0RRZR0S0RRZR0S0RRZR0S0RRZR0S0RRZR0S0SSSSSSZ10S0Z8S0Z6S0SSSSSSZ4S0Z2S0SZ0S0SZX\u0000\n"
     ]
    },
    {
     "name": "stderr",
     "output_type": "stream",
     "text": [
      "***** Running Evaluation *****\n",
      "  Num examples = 1000\n",
      "  Batch size = 8\n"
     ]
    },
    {
     "name": "stdout",
     "output_type": "stream",
     "text": [
      "real: 2,17,442,4277,22658,83977,246602,615197,1360642,2743553,5141402,9079237,15264002,24622457,38342698,57919277,85201922,122447857,172377722,238235093,RRZR0S0RRZR0S0RRZR0S0RRZR0S0RRZR0S0RRZR0S0SSSSSZ10S0SZ8S0SSSSZ6S0SZ4S0SSSSZ2S0Z0S0SSZX\n",
      "out:  2,17,442,4277,22658,83977,246602,615197,1360642,2743553,5141402,9079237,15264002,24622457,38342698,57919277,85201922,122447857,172377722,238235093,RRZR0S0RRZR0S0RRZR0S0RRZR0S0RRZR0S0RRZR0S0SSSSSZ10S0SZ8S0SSSSZ6S0SZ4S0SSSSZ2S0Z0S0SSZX\u0000\n",
      "fact: 1,1,2,6,24,120,720,5040,40320,362880,3628800,39916800,479001600,6227020800,87178291200,1307674368000,20922789888000,355687428096000,6402373705728000,121645100408832000,RRZR0S0RRZR0S0RRZR0S0RRZR0S0RRZR0S0RRZR0S0SSSSSSZ10S0Z8S0Z6S0SSSSSSZ4S0SZ2S0SSSSSSZ0S0SZX\u0000\n"
     ]
    },
    {
     "name": "stderr",
     "output_type": "stream",
     "text": [
      "***** Running Evaluation *****\n",
      "  Num examples = 1000\n",
      "  Batch size = 8\n"
     ]
    },
    {
     "name": "stdout",
     "output_type": "stream",
     "text": [
      "real: 2,17,442,4277,22658,83977,246602,615197,1360642,2743553,5141402,9079237,15264002,24622457,38342698,57919277,85201922,122447857,172377722,238235093,RRZR0S0RRZR0S0RRZR0S0RRZR0S0RRZR0S0RRZR0S0SSSSSZ10S0SZ8S0SSSSZ6S0SZ4S0SSSSZ2S0Z0S0SSZX\n",
      "out:  2,17,442,4277,22658,83977,246602,615197,1360642,2743553,5141402,9079237,15264002,24622457,38342698,57919277,85201922,122447857,172377722,238235093,RRZR0S0RRZR0S0RRZR0S0RRZR0S0RRZR0S0RRZR0S0SSSSSZ10S0SZ8S0SSSSZ6S0SZ4S0SSSSZ2S0Z0S0SSZX\u0000\n",
      "fact: 1,1,2,6,24,120,720,5040,40320,362880,3628800,39916800,479001600,6227020800,87178291200,1307674368000,20922789888000,355687428096000,6402373705728000,121645100408832000,RRZR0S0RRZR0S0RRZR0S0RRZR0S0RRZR0S0RRZR0S0SSSSSSZ10S0Z8S0Z6S0SSSSSSZ4S0SZ2S0Z0S0SZX\u0000\n"
     ]
    },
    {
     "name": "stderr",
     "output_type": "stream",
     "text": [
      "***** Running Evaluation *****\n",
      "  Num examples = 1000\n",
      "  Batch size = 8\n"
     ]
    },
    {
     "name": "stdout",
     "output_type": "stream",
     "text": [
      "real: 2,17,442,4277,22658,83977,246602,615197,1360642,2743553,5141402,9079237,15264002,24622457,38342698,57919277,85201922,122447857,172377722,238235093,RRZR0S0RRZR0S0RRZR0S0RRZR0S0RRZR0S0RRZR0S0SSSSSZ10S0SZ8S0SSSSZ6S0SZ4S0SSSSZ2S0Z0S0SSZX\n",
      "out:  2,17,442,4277,22658,83977,246602,615197,1360642,2743553,5141402,9079237,15264002,24622457,38342698,57919277,85201922,122447857,172377722,238235093,RRZR0S0RRZR0S0RRZR0S0RRZR0S0RRZR0S0RRZR0S0SSSSSZ10S0SZ8S0SSSSZ6S0SZ4S0SSSSZ2S0Z0S0SSZX\u0000\n",
      "fact: 1,1,2,6,24,120,720,5040,40320,362880,3628800,39916800,479001600,6227020800,87178291200,1307674368000,20922789888000,355687428096000,6402373705728000,121645100408832000,RRZR0S0RRZR0S0RRZR0S0RRZR0S0RRZR0S0RRZR0S0SSSSSSZ10S0Z8S0Z6S0SSSSSSZ4S0SZ2S0Z0S0SZX\u0000\n"
     ]
    },
    {
     "name": "stderr",
     "output_type": "stream",
     "text": [
      "***** Running Evaluation *****\n",
      "  Num examples = 1000\n",
      "  Batch size = 8\n"
     ]
    },
    {
     "name": "stdout",
     "output_type": "stream",
     "text": [
      "real: 2,17,442,4277,22658,83977,246602,615197,1360642,2743553,5141402,9079237,15264002,24622457,38342698,57919277,85201922,122447857,172377722,238235093,RRZR0S0RRZR0S0RRZR0S0RRZR0S0RRZR0S0RRZR0S0SSSSSZ10S0SZ8S0SSSSZ6S0SZ4S0SSSSZ2S0Z0S0SSZX\n",
      "out:  2,17,442,4277,22658,83977,246602,615197,1360642,2743553,5141402,9079237,15264002,24622457,38342698,57919277,85201922,122447857,172377722,238235093,RRZR0S0RRZR0S0RRZR0S0RRZR0S0RRZR0S0RRZR0S0SSSSSZ10S0SZ8S0SSSSZ6S0SZ4S0SSSSZ2S0Z0S0SSZX\u0000\n",
      "fact: 1,1,2,6,24,120,720,5040,40320,362880,3628800,39916800,479001600,6227020800,87178291200,1307674368000,20922789888000,355687428096000,6402373705728000,121645100408832000,RRZR0S0RRZR0S0RRZR0S0RRZR0S0RRZR0S0RRZR0S0SSSSSSZ10S0Z8S0Z6S0SSSSSSZ4S0SZ2S0Z0S0SZX\u0000\n"
     ]
    },
    {
     "name": "stderr",
     "output_type": "stream",
     "text": [
      "***** Running Evaluation *****\n",
      "  Num examples = 1000\n",
      "  Batch size = 8\n"
     ]
    },
    {
     "name": "stdout",
     "output_type": "stream",
     "text": [
      "real: 2,17,442,4277,22658,83977,246602,615197,1360642,2743553,5141402,9079237,15264002,24622457,38342698,57919277,85201922,122447857,172377722,238235093,RRZR0S0RRZR0S0RRZR0S0RRZR0S0RRZR0S0RRZR0S0SSSSSZ10S0SZ8S0SSSSZ6S0SZ4S0SSSSZ2S0Z0S0SSZX\n",
      "out:  2,17,442,4277,22658,83977,246602,615197,1360642,2743553,5141402,9079237,15264002,24622457,38342698,57919277,85201922,122447857,172377722,238235093,RRZR0S0RRZR0S0RRZR0S0RRZR0S0RRZR0S0RRZR0S0SSSSSZ10S0SZ8S0SSSSZ6S0SZ4S0SSSSZ2S0Z0S0SSZX\u0000\n",
      "fact: 1,1,2,6,24,120,720,5040,40320,362880,3628800,39916800,479001600,6227020800,87178291200,1307674368000,20922789888000,355687428096000,6402373705728000,121645100408832000,RRZR0S0RRZR0S0RRZR0S0RRZR0S0RRZR0S0RRZR0S0SSSSSSZ10S0Z8S0Z6S0SSSSSSZ4S0SZ2S0Z0S0SZX\u0000\n"
     ]
    },
    {
     "name": "stderr",
     "output_type": "stream",
     "text": [
      "***** Running Evaluation *****\n",
      "  Num examples = 1000\n",
      "  Batch size = 8\n"
     ]
    },
    {
     "name": "stdout",
     "output_type": "stream",
     "text": [
      "real: 2,17,442,4277,22658,83977,246602,615197,1360642,2743553,5141402,9079237,15264002,24622457,38342698,57919277,85201922,122447857,172377722,238235093,RRZR0S0RRZR0S0RRZR0S0RRZR0S0RRZR0S0RRZR0S0SSSSSZ10S0SZ8S0SSSSZ6S0SZ4S0SSSSZ2S0Z0S0SSZX\n",
      "out:  2,17,442,4277,22658,83977,246602,615197,1360642,2743553,5141402,9079237,15264002,24622457,38342698,57919277,85201922,122447857,172377722,238235093,RRZR0S0RRZR0S0RRZR0S0RRZR0S0RRZR0S0RRZR0S0SSSSSZ10S0SZ8S0SSSSZ6S0SZ4S0SSSSZ2S0Z0S0SSZX\u0000\n",
      "fact: 1,1,2,6,24,120,720,5040,40320,362880,3628800,39916800,479001600,6227020800,87178291200,1307674368000,20922789888000,355687428096000,6402373705728000,121645100408832000,RRZR0S0RRZR0S0RRZR0S0RRZR0S0RRZR0S0RRZR0S0SSSSSSZ10S0Z8S0Z6S0SSSSSSZ4S0Z2S0Z0S0SZX\u0000\n"
     ]
    },
    {
     "name": "stderr",
     "output_type": "stream",
     "text": [
      "***** Running Evaluation *****\n",
      "  Num examples = 1000\n",
      "  Batch size = 8\n"
     ]
    },
    {
     "name": "stdout",
     "output_type": "stream",
     "text": [
      "real: 2,17,442,4277,22658,83977,246602,615197,1360642,2743553,5141402,9079237,15264002,24622457,38342698,57919277,85201922,122447857,172377722,238235093,RRZR0S0RRZR0S0RRZR0S0RRZR0S0RRZR0S0RRZR0S0SSSSSZ10S0SZ8S0SSSSZ6S0SZ4S0SSSSZ2S0Z0S0SSZX\n",
      "out:  2,17,442,4277,22658,83977,246602,615197,1360642,2743553,5141402,9079237,15264002,24622457,38342698,57919277,85201922,122447857,172377722,238235093,RRZR0S0RRZR0S0RRZR0S0RRZR0S0RRZR0S0RRZR0S0SSSSSZ10S0SZ8S0SSSSZ6S0SZ4S0SSSSZ2S0Z0S0SSZX\u0000\n",
      "fact: 1,1,2,6,24,120,720,5040,40320,362880,3628800,39916800,479001600,6227020800,87178291200,1307674368000,20922789888000,355687428096000,6402373705728000,121645100408832000,RRZR0S0RRZR0S0RRZR0S0RRZR0S0RRZR0S0RRZR0S0SSSSSSZ10S0Z8S0Z6S0SZ4S0SZ2S0SSSSSSZ0S0SZX\u0000\n"
     ]
    },
    {
     "name": "stderr",
     "output_type": "stream",
     "text": [
      "***** Running Evaluation *****\n",
      "  Num examples = 1000\n",
      "  Batch size = 8\n"
     ]
    }
   ],
   "source": [
    "from transformers import Trainer, TrainingArguments\n",
    "import torch\n",
    "\n",
    "training_args = TrainingArguments(\n",
    "    output_dir=\"./polys-model-4-dropout-2-cont\",\n",
    "    overwrite_output_dir=True,\n",
    "    num_train_epochs=1,\n",
    "    # per_gpu_train_batch_size=64,\n",
    "    save_steps=10_000,\n",
    "    # save_total_limit=2,\n",
    "    fp16=True,\n",
    "    evaluation_strategy=\"steps\",\n",
    "    eval_steps=500,\n",
    "    remove_unused_columns=False,\n",
    "    # prediction_loss_only=True,\n",
    ")\n",
    "\n",
    "def collator(x):\n",
    "    l = max(len(a[\"input_ids\"]) for a in x)\n",
    "    v = torch.tensor([a[\"input_ids\"] + ([0] * (l - len(a[\"input_ids\"]) + 1)) for a in x])\n",
    "    # print(v.shape)\n",
    "    # return {\"input_ids\": v, \"labels\": v}\n",
    "    return {\"input_ids\": v, \"labels\": v, \"prefix_len\": torch.tensor([a[\"prefix_len\"] for a in x])}\n",
    "\n",
    "class Cb(transformers.TrainerCallback):\n",
    "    def on_evaluate(self, args, state, control, **kwargs):\n",
    "        with torch.no_grad():\n",
    "            model = kwargs[\"model\"]\n",
    "            model.eval()\n",
    "            def de(x): return \"\".join([chr(y) for y in x])\n",
    "            d = ds[\"test\"][5]\n",
    "            inp = d[\"input_ids\"][:d[\"prefix_len\"] + 1]\n",
    "            out = model.model.generate(torch.tensor([inp]).cuda(), max_new_tokens=200, pad_token_id=0, eos_token_id=0)\n",
    "            print(\"real:\", de(d[\"input_ids\"]))\n",
    "            print(\"out: \", de(out[0]))\n",
    "            inp = \"1,1,2,6,24,120,720,5040,40320,362880,3628800,39916800,479001600,6227020800,87178291200,1307674368000,20922789888000,355687428096000,6402373705728000,121645100408832000,\"\n",
    "            inp = [ord(x) for x in inp]\n",
    "            out = model.model.generate(torch.tensor([inp]).cuda(), max_new_tokens=200, pad_token_id=0, eos_token_id=0)\n",
    "            print(\"fact:\", de(out[0]))\n",
    "            model.train()\n",
    "\n",
    "trainer = Trainer(\n",
    "    model=model,\n",
    "    args=training_args,\n",
    "    data_collator=collator,\n",
    "    train_dataset=ds[\"train\"],\n",
    "    eval_dataset=ds[\"test\"],\n",
    "    callbacks=[Cb()]\n",
    ")\n",
    "trainer.train()"
   ]
  },
  {
   "cell_type": "code",
   "execution_count": null,
   "id": "0edaf94e-f12c-4dae-8e83-1daf1fee3d00",
   "metadata": {
    "jupyter": {
     "source_hidden": true
    },
    "tags": []
   },
   "outputs": [],
   "source": [
    "\n",
    "# epochs = (num_samples // train_loader.dataset.num_rows) + 1\n",
    "# optim = torch.optim.AdamW()\n",
    "\n",
    "#   wandb.init(project=\"page-quality\", entity=\"acertain\")\n",
    "#   wandb.watch(model)\n",
    "\n",
    "#   for n_epoch in tqdm(range(epochs)):\n",
    "#    epoch = float(n_epoch)/epochs\n",
    "#    # if n_epoch % 2 == 0:\n",
    "#    #   embeddings[:,:] = 0\n",
    "#    #   grad_embeddings[:,:] = 0\n",
    "#    #   grad_embeddings_n[:] = 0\n",
    "#    for (step,x) in enumerate(tqdm(train_loader)):\n",
    "#       model.train()\n",
    "\n",
    "#       # loss_bw, loss, loss_grad = run_model(x) # , modify_embs=False\n",
    "#       model(x, epoch)['loss'].backward()\n",
    "\n",
    "#       # optim.first_step(zero_grad=True)\n",
    "#       # run_model(x)[0].backward()\n",
    "#       # optim.second_step(zero_grad=True)\n",
    "\n",
    "#       optim.step()\n",
    "#       optim.zero_grad(set_to_none=True)\n",
    "\n",
    "#       # tqdm.write(repr(loss))\n",
    "\n",
    "#       if step % eval_every == 0:\n",
    "#         model.eval()\n",
    "#         with torch.no_grad():\n",
    "#           # TODO: mean over iters or w/e\n",
    "#           eval_steps = 0\n",
    "#           eval_loss = 0\n",
    "#           accuracy = 0\n",
    "#           for x in eval_loader:\n",
    "#             eval_steps += 1\n",
    "#             labels = x['label'].to(device)\n",
    "#             logits = model(x, epoch)['logits']\n",
    "#             if use_coral_loss:\n",
    "#               eval_loss += coral_loss(logits, levels_from_labelbatch(labels, num_classes = num_classes))\n",
    "#               pred_labels = proba_to_label(F.sigmoid(logits))\n",
    "#             else:\n",
    "#               eval_loss += F.cross_entropy(logits, labels)\n",
    "#               pred_labels = logits.argmax(dim=1)\n",
    "#             accuracy += (pred_labels == labels).sum().float() / float( labels.size(0) )\n",
    "#           eval_loss = eval_loss / eval_steps; accuracy = accuracy / eval_steps\n",
    "#           tqdm.write(\"eval loss: {}, accuracy: {}\".format(eval_loss, accuracy))\n",
    "#           wandb.log({\"loss/eval\": eval_loss, \"accuracy/eval\": accuracy}, commit=False)\n",
    "\n",
    "#   torch.save(model.state_dict(), \"sentence_embedding_classifier.pt\")\n",
    "\n"
   ]
  },
  {
   "cell_type": "code",
   "execution_count": 109,
   "id": "b829c876-4f57-4766-86f3-91ab7bda8973",
   "metadata": {},
   "outputs": [
    {
     "name": "stderr",
     "output_type": "stream",
     "text": [
      "The attention mask and the pad token id were not set. As a consequence, you may observe unexpected behavior. Please pass your input's `attention_mask` to obtain reliable results.\n",
      "Setting `pad_token_id` to `eos_token_id`:50256 for open-end generation.\n"
     ]
    },
    {
     "name": "stdout",
     "output_type": "stream",
     "text": [
      "1,1,2,6,24,120,720,5040,40320,362880,3628800,39916800,479001600,6227020800,87178291200,1307674368000,20922789888000,355687428096000,6402373705728000,121645100408832000,\n",
      "1,1,2,6,24,120,720,5040,40320,362880,3628800,39916800,479001600,6227020800,87178291200,1307674368000,20922789888000,355687428096000,6402373705728000,121645100408832000,RRZR0S0RRZR0S0RRZR0S0RRZR0S0RRZR0S0RRZR0S0RRZR0S0SSSSSSZ16565656565616565610652525616561656565656565656566666666666622276266262266532266662626433333333334466664444443030222887666426477242224242430RZR0S0S0RZR0S0RZR0S0S0RZR0S0RZR0S0RZR0S0RRZR0S0SZR0S030S03030S03030SZR0S0S0S0SZR0S0SZR0S0SZRRZZZZZZZZZ5Z5S0S0SSSSZ56666652465246524S0SSS0S0SSSS0S0SSSS0S0SSSS0S0SSSSSSSSSSSSSSSZ6666666666666666653,1212S0SS\n"
     ]
    }
   ],
   "source": []
  },
  {
   "cell_type": "code",
   "execution_count": 106,
   "id": "9873c188-cc61-4b4b-a3f1-e80b342cb0e4",
   "metadata": {
    "tags": []
   },
   "outputs": [
    {
     "data": {
      "text/plain": [
       "'0,11,234,1641,6692,20055,49326,105749,204936,367587,620210,995841,1534764,2285231,3304182,4657965,6423056,8686779,11548026,15117977,RRZR0S0RRZR0S0RRZR0S0RRZR0S0RRZR0S0SSSSSSZ8S0SSZ6S0Z4S0SSZ2S0SZ0S0ZX'"
      ]
     },
     "execution_count": 106,
     "metadata": {},
     "output_type": "execute_result"
    }
   ],
   "source": [
    "def de(x):\n",
    "    return \"\".join([chr(y) for y in x])\n",
    "de(ds[\"test\"][0][\"input_ids\"])\n",
    "\"0,11,234,1641,6692,20055,49326,105749,204936,367587,620210,995841,1534764,2285231,3304182,4657965,6423056,8686779,11548026,15117977,RRZR0S0RRZR0S0RRZR0S0RRZR0S0RRZR0S0SSSSSSZ8S0SSZ6S0Z4S0SSZ2S0SZ0S0ZX\""
   ]
  },
  {
   "cell_type": "code",
   "execution_count": 47,
   "id": "17961339-078f-439a-86ac-57c7ac6d3ec1",
   "metadata": {},
   "outputs": [
    {
     "data": {
      "text/plain": [
       "33"
      ]
     },
     "execution_count": 47,
     "metadata": {},
     "output_type": "execute_result"
    }
   ],
   "source": [
    "len(\"1,1,1,1,1,1,1,1,1,1,1,1,1,1,1,1,1,1,1,1,1,1,1,1,1,1,1,1,1,1,1,1,1\".split(\",\"))"
   ]
  },
  {
   "cell_type": "code",
   "execution_count": 50,
   "id": "8a334a2a-ae01-49f8-8131-116eca012e4a",
   "metadata": {
    "collapsed": true,
    "jupyter": {
     "outputs_hidden": true
    },
    "tags": []
   },
   "outputs": [
    {
     "name": "stdout",
     "output_type": "stream",
     "text": [
      "Collecting optimum\n",
      "  Downloading optimum-1.8.6-py3-none-any.whl (318 kB)\n",
      "\u001b[2K     \u001b[90m━━━━━━━━━━━━━━━━━━━━━━━━━━━━━━━━━━━━━━\u001b[0m \u001b[32m318.1/318.1 kB\u001b[0m \u001b[31m41.8 MB/s\u001b[0m eta \u001b[36m0:00:00\u001b[0m\n",
      "\u001b[?25hCollecting coloredlogs\n",
      "  Downloading coloredlogs-15.0.1-py2.py3-none-any.whl (46 kB)\n",
      "\u001b[2K     \u001b[90m━━━━━━━━━━━━━━━━━━━━━━━━━━━━━━━━━━━━━━━━\u001b[0m \u001b[32m46.0/46.0 kB\u001b[0m \u001b[31m19.2 MB/s\u001b[0m eta \u001b[36m0:00:00\u001b[0m\n",
      "\u001b[?25hRequirement already satisfied: numpy in /usr/local/lib/python3.9/dist-packages (from optimum) (1.23.4)\n",
      "Requirement already satisfied: datasets in /usr/local/lib/python3.9/dist-packages (from optimum) (2.4.0)\n",
      "Requirement already satisfied: huggingface-hub>=0.8.0 in /usr/local/lib/python3.9/dist-packages (from optimum) (0.12.0)\n",
      "Collecting transformers[sentencepiece]>=4.26.0\n",
      "  Downloading transformers-4.29.2-py3-none-any.whl (7.1 MB)\n",
      "\u001b[2K     \u001b[90m━━━━━━━━━━━━━━━━━━━━━━━━━━━━━━━━━━━━━━━━\u001b[0m \u001b[32m7.1/7.1 MB\u001b[0m \u001b[31m107.4 MB/s\u001b[0m eta \u001b[36m0:00:00\u001b[0ma \u001b[36m0:00:01\u001b[0m\n",
      "\u001b[?25hCollecting sympy\n",
      "  Downloading sympy-1.12-py3-none-any.whl (5.7 MB)\n",
      "\u001b[2K     \u001b[90m━━━━━━━━━━━━━━━━━━━━━━━━━━━━━━━━━━━━━━━━\u001b[0m \u001b[32m5.7/5.7 MB\u001b[0m \u001b[31m80.3 MB/s\u001b[0m eta \u001b[36m0:00:00\u001b[0m:00:01\u001b[0m00:01\u001b[0m\n",
      "\u001b[?25hRequirement already satisfied: torchvision in /usr/local/lib/python3.9/dist-packages (from optimum) (0.13.1+cu116)\n",
      "Requirement already satisfied: torch>=1.9 in /usr/local/lib/python3.9/dist-packages (from optimum) (1.12.1+cu116)\n",
      "Requirement already satisfied: packaging in /usr/local/lib/python3.9/dist-packages (from optimum) (23.0)\n",
      "Requirement already satisfied: tqdm>=4.42.1 in /usr/local/lib/python3.9/dist-packages (from huggingface-hub>=0.8.0->optimum) (4.64.1)\n",
      "Requirement already satisfied: filelock in /usr/local/lib/python3.9/dist-packages (from huggingface-hub>=0.8.0->optimum) (3.9.0)\n",
      "Requirement already satisfied: pyyaml>=5.1 in /usr/local/lib/python3.9/dist-packages (from huggingface-hub>=0.8.0->optimum) (5.4.1)\n",
      "Requirement already satisfied: typing-extensions>=3.7.4.3 in /usr/local/lib/python3.9/dist-packages (from huggingface-hub>=0.8.0->optimum) (4.4.0)\n",
      "Requirement already satisfied: requests in /usr/local/lib/python3.9/dist-packages (from huggingface-hub>=0.8.0->optimum) (2.28.2)\n",
      "Requirement already satisfied: regex!=2019.12.17 in /usr/local/lib/python3.9/dist-packages (from transformers[sentencepiece]>=4.26.0->optimum) (2022.10.31)\n",
      "Requirement already satisfied: tokenizers!=0.11.3,<0.14,>=0.11.1 in /usr/local/lib/python3.9/dist-packages (from transformers[sentencepiece]>=4.26.0->optimum) (0.12.1)\n",
      "Collecting huggingface-hub>=0.8.0\n",
      "  Downloading huggingface_hub-0.14.1-py3-none-any.whl (224 kB)\n",
      "\u001b[2K     \u001b[90m━━━━━━━━━━━━━━━━━━━━━━━━━━━━━━━━━━━━━━\u001b[0m \u001b[32m224.5/224.5 kB\u001b[0m \u001b[31m61.7 MB/s\u001b[0m eta \u001b[36m0:00:00\u001b[0m\n",
      "\u001b[?25hRequirement already satisfied: protobuf<=3.20.2 in /usr/local/lib/python3.9/dist-packages (from transformers[sentencepiece]>=4.26.0->optimum) (3.19.6)\n",
      "Requirement already satisfied: sentencepiece!=0.1.92,>=0.1.91 in /usr/local/lib/python3.9/dist-packages (from transformers[sentencepiece]>=4.26.0->optimum) (0.1.97)\n",
      "Requirement already satisfied: fsspec in /usr/local/lib/python3.9/dist-packages (from huggingface-hub>=0.8.0->optimum) (2023.1.0)\n",
      "Collecting humanfriendly>=9.1\n",
      "  Downloading humanfriendly-10.0-py2.py3-none-any.whl (86 kB)\n",
      "\u001b[2K     \u001b[90m━━━━━━━━━━━━━━━━━━━━━━━━━━━━━━━━━━━━━━━━\u001b[0m \u001b[32m86.8/86.8 kB\u001b[0m \u001b[31m33.8 MB/s\u001b[0m eta \u001b[36m0:00:00\u001b[0m\n",
      "\u001b[?25hRequirement already satisfied: aiohttp in /usr/local/lib/python3.9/dist-packages (from datasets->optimum) (3.8.3)\n",
      "Requirement already satisfied: responses<0.19 in /usr/local/lib/python3.9/dist-packages (from datasets->optimum) (0.18.0)\n",
      "Requirement already satisfied: dill<0.3.6 in /usr/local/lib/python3.9/dist-packages (from datasets->optimum) (0.3.5.1)\n",
      "Requirement already satisfied: xxhash in /usr/local/lib/python3.9/dist-packages (from datasets->optimum) (3.2.0)\n",
      "Requirement already satisfied: multiprocess in /usr/local/lib/python3.9/dist-packages (from datasets->optimum) (0.70.13)\n",
      "Requirement already satisfied: pyarrow>=6.0.0 in /usr/local/lib/python3.9/dist-packages (from datasets->optimum) (10.0.1)\n",
      "Requirement already satisfied: pandas in /usr/local/lib/python3.9/dist-packages (from datasets->optimum) (1.5.0)\n",
      "Collecting mpmath>=0.19\n",
      "  Downloading mpmath-1.3.0-py3-none-any.whl (536 kB)\n",
      "\u001b[2K     \u001b[90m━━━━━━━━━━━━━━━━━━━━━━━━━━━━━━━━━━━━━\u001b[0m \u001b[32m536.2/536.2 kB\u001b[0m \u001b[31m102.5 MB/s\u001b[0m eta \u001b[36m0:00:00\u001b[0m\n",
      "\u001b[?25hRequirement already satisfied: pillow!=8.3.*,>=5.3.0 in /usr/local/lib/python3.9/dist-packages (from torchvision->optimum) (9.2.0)\n",
      "Requirement already satisfied: attrs>=17.3.0 in /usr/local/lib/python3.9/dist-packages (from aiohttp->datasets->optimum) (18.2.0)\n",
      "Requirement already satisfied: yarl<2.0,>=1.0 in /usr/local/lib/python3.9/dist-packages (from aiohttp->datasets->optimum) (1.8.2)\n",
      "Requirement already satisfied: aiosignal>=1.1.2 in /usr/local/lib/python3.9/dist-packages (from aiohttp->datasets->optimum) (1.3.1)\n",
      "Requirement already satisfied: async-timeout<5.0,>=4.0.0a3 in /usr/local/lib/python3.9/dist-packages (from aiohttp->datasets->optimum) (4.0.2)\n",
      "Requirement already satisfied: multidict<7.0,>=4.5 in /usr/local/lib/python3.9/dist-packages (from aiohttp->datasets->optimum) (6.0.4)\n",
      "Requirement already satisfied: charset-normalizer<3.0,>=2.0 in /usr/local/lib/python3.9/dist-packages (from aiohttp->datasets->optimum) (2.1.1)\n",
      "Requirement already satisfied: frozenlist>=1.1.1 in /usr/local/lib/python3.9/dist-packages (from aiohttp->datasets->optimum) (1.3.3)\n",
      "Requirement already satisfied: idna<4,>=2.5 in /usr/lib/python3/dist-packages (from requests->huggingface-hub>=0.8.0->optimum) (2.8)\n",
      "Requirement already satisfied: urllib3<1.27,>=1.21.1 in /usr/local/lib/python3.9/dist-packages (from requests->huggingface-hub>=0.8.0->optimum) (1.26.14)\n",
      "Requirement already satisfied: certifi>=2017.4.17 in /usr/lib/python3/dist-packages (from requests->huggingface-hub>=0.8.0->optimum) (2019.11.28)\n",
      "Requirement already satisfied: pytz>=2020.1 in /usr/local/lib/python3.9/dist-packages (from pandas->datasets->optimum) (2022.7.1)\n",
      "Requirement already satisfied: python-dateutil>=2.8.1 in /usr/local/lib/python3.9/dist-packages (from pandas->datasets->optimum) (2.8.2)\n",
      "Requirement already satisfied: six>=1.5 in /usr/lib/python3/dist-packages (from python-dateutil>=2.8.1->pandas->datasets->optimum) (1.14.0)\n",
      "Installing collected packages: mpmath, sympy, humanfriendly, huggingface-hub, coloredlogs, transformers, optimum\n",
      "  Attempting uninstall: huggingface-hub\n",
      "    Found existing installation: huggingface-hub 0.12.0\n",
      "    Uninstalling huggingface-hub-0.12.0:\n",
      "      Successfully uninstalled huggingface-hub-0.12.0\n",
      "  Attempting uninstall: transformers\n",
      "    Found existing installation: transformers 4.21.3\n",
      "    Uninstalling transformers-4.21.3:\n",
      "      Successfully uninstalled transformers-4.21.3\n",
      "Successfully installed coloredlogs-15.0.1 huggingface-hub-0.14.1 humanfriendly-10.0 mpmath-1.3.0 optimum-1.8.6 sympy-1.12 transformers-4.29.2\n",
      "\u001b[33mWARNING: Running pip as the 'root' user can result in broken permissions and conflicting behaviour with the system package manager. It is recommended to use a virtual environment instead: https://pip.pypa.io/warnings/venv\u001b[0m\u001b[33m\n",
      "\u001b[0m"
     ]
    }
   ],
   "source": [
    "!pip install optimum"
   ]
  },
  {
   "cell_type": "code",
   "execution_count": 9,
   "id": "6529c0e3-6559-47ee-b176-9b713bd8d507",
   "metadata": {},
   "outputs": [
    {
     "data": {
      "text/plain": [
       "330752"
      ]
     },
     "execution_count": 9,
     "metadata": {},
     "output_type": "execute_result"
    }
   ],
   "source": [
    "sum(dict((p.data_ptr(), p.numel()) for p in model.parameters()).values())\n"
   ]
  },
  {
   "cell_type": "code",
   "execution_count": null,
   "id": "9adba8af-7e4d-4e59-a3a0-a8a231715a8b",
   "metadata": {},
   "outputs": [],
   "source": []
  }
 ],
 "metadata": {
  "kernelspec": {
   "display_name": "Python 3 (ipykernel)",
   "language": "python",
   "name": "python3"
  },
  "language_info": {
   "codemirror_mode": {
    "name": "ipython",
    "version": 3
   },
   "file_extension": ".py",
   "mimetype": "text/x-python",
   "name": "python",
   "nbconvert_exporter": "python",
   "pygments_lexer": "ipython3",
   "version": "3.9.16"
  }
 },
 "nbformat": 4,
 "nbformat_minor": 5
}
